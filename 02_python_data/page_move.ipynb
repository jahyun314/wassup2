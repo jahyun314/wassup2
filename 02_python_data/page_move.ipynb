{
 "cells": [
  {
   "cell_type": "code",
   "execution_count": 32,
   "id": "7f7f44a5-e5d0-4845-8bce-e223467f9d38",
   "metadata": {
    "tags": []
   },
   "outputs": [],
   "source": [
    "#필요한 모듈 import\n",
    "from selenium import webdriver\n",
    "from selenium.webdriver.common.by import By\n",
    "from selenium.webdriver.chrome.options import Options\n",
    "import math, time"
   ]
  },
  {
   "cell_type": "code",
   "execution_count": 2,
   "id": "ba9d9216-fcd2-40d0-8868-498cbf3ecc56",
   "metadata": {
    "tags": []
   },
   "outputs": [
    {
     "name": "stdin",
     "output_type": "stream",
     "text": [
      "검색어를 입력하세요. 제주도\n"
     ]
    }
   ],
   "source": [
    "#여행지 입력\n",
    "search = input('검색어를 입력하세요.')\n"
   ]
  },
  {
   "cell_type": "code",
   "execution_count": 82,
   "id": "de4ca664-0dcd-4dc1-8771-f6be51fd9fae",
   "metadata": {
    "tags": []
   },
   "outputs": [],
   "source": [
    "#객체 생성\n",
    "URL = 'https://korean.visitkorea.or.kr/search/search_list.do?keyword='+search\n",
    "\n",
    "driver = webdriver.Chrome()\n",
    "driver.get(URL)\n",
    "time.sleep(1)"
   ]
  },
  {
   "cell_type": "code",
   "execution_count": 83,
   "id": "a1e7a999-5149-4556-a3bc-9943c3df822a",
   "metadata": {
    "tags": []
   },
   "outputs": [],
   "source": [
    "#여행기사 더보기 클릭\n",
    "driver.find_element(By.XPATH, '//*[@id=\"s_recommend\"]/div[2]/a').click()"
   ]
  },
  {
   "cell_type": "code",
   "execution_count": 84,
   "id": "9e239703-e627-4a19-830e-c514e3fd0ff7",
   "metadata": {
    "tags": []
   },
   "outputs": [
    {
     "name": "stdout",
     "output_type": "stream",
     "text": [
      "제주도의 숨겨진 재미를 찾는\n",
      "<놀멍, 배우멍 제주마을체험 - 1일형 체험학습>\n"
     ]
    }
   ],
   "source": [
    "#기사 제목\n",
    "title = driver.find_element(By.XPATH, '//*[@id=\"search_result\"]/ul/li[1]/div[1]/div[1]/a').text\n",
    "print(title)"
   ]
  },
  {
   "cell_type": "code",
   "execution_count": 85,
   "id": "f80c2063-c9b9-4b24-bbfe-9a22ff6503f5",
   "metadata": {
    "tags": []
   },
   "outputs": [],
   "source": [
    "# 10페이지까지 크롤할 예정\n",
    "cnt = 100  #100개 크롤링\n",
    "page_cnt = math.ceil(cnt / 10) # 크롤링 할 전체 페이지 수 (올림)"
   ]
  },
  {
   "cell_type": "code",
   "execution_count": 86,
   "id": "f34b1eeb-e7c0-47a2-a5d3-d56a25083e33",
   "metadata": {
    "tags": []
   },
   "outputs": [
    {
     "name": "stdout",
     "output_type": "stream",
     "text": [
      "========= 1 페이지 작업 =========\n",
      "1 제주도의 숨겨진 재미를 찾는\n",
      "<놀멍, 배우멍 제주마을체험 - 1일형 체험학습>\n",
      "2 제주도가 품은 신비의 화산 숲, 환상숲곶자왈공원\n",
      "3 한국관광공사 추천 2월 걷기여행길, 이른 봄을 맞이하는 제주도 걷기길\n",
      "4 제주도 조천읍 버킷리스트 여행지 작성하기\n",
      "5 [국내 트레킹 추천]\n",
      "제주 올레길 걷기 여행,\n",
      "준비부터 코스 선택까지 꿀팁 총정리!\n",
      "6 김창열의 회귀 철학을 건축으로 표현한 미술관, 제주도립김창열미술관\n",
      "7 제주도 유채꽃 명소 추천, 봄에 떠나는 인생샷 여행\n",
      "8 새하얀 눈으로 덮인 제주도 설경 명소 4\n",
      "9 소소한 '제주여행' 꿀팁! 〈겨울편〉\n",
      "10 사계절 자연의 아름다움을 간직한 제주시 댕댕이 추천코스\n",
      "========= 2 페이지 작업 =========\n",
      "11 제주도 '한정'여행지,\n",
      "제주도의 이색 공간을 찾아서\n",
      "12 연말연시 제주도 여행 추천 코스,\n",
      "가족여행 가볼 만한 곳\n",
      "13 제주의 아크로폴리스를 아시나요? - 제주 원도심 (제주목관아 중심)\n",
      "14 제주 여행, 은빛 물결이 일렁이는 제주도 억새 명소 모음\n",
      "15 마음까지 화사해지는\n",
      "제주도 봄꽃 여행\n",
      "16 제주도 서쪽에서 즐기는 꽉 찬 여행 코스\n",
      "17 제주의 숨겨진 구석구석을 살펴보자, 제주도 박물관 여행\n",
      "18 2월 놓치지 말아야 할 제주 관광 10선\n",
      "<2월 제주, 먼저 온 봄기운에 마음 돌랑돌랑>\n",
      "19 맛있는 음식에 여행의 기쁨은 두 배! <제주 식도락 여행>\n",
      "20 반려견과 떠나는 여행 <제주 반려견 숙소&카페>\n",
      "========= 3 페이지 작업 =========\n",
      "21 설렘과 여유가 가득한 제주 여행\n",
      "22 빛으로 물든 '로맨틱 제주' <제주 야간 관광지>\n",
      "23 12월 놓치지 말아야 할 제주 관광 10선\n",
      "<올해도 애쓴 당신과 나, 12월의 제주에서 쉬멍쉬멍>\n",
      "24 제주도 서귀포 가볼 만한 곳,\n",
      "초록이 가득한 남쪽 여행 코스\n",
      "25 [팜스테이션] 제주공항과 아름다운 해안이 인접한 워케이션 공간\n",
      "26 안심관광에 알맞은 최고의 야외 공연과 체험 - 제주 더마(馬)파크\n",
      "27 [디어먼데이 제주] 월요병이 없는 세상을 꿈꾸는 이들의 제주 워케이션\n",
      "28 [질그랭이 거점 센터] 조용한 제주 해안마을에서 즐기는 워케이션\n",
      "29 [제주] 푸른 밤의 따뜻한 꿈\n",
      "30 비움과 채움의 조화로 완성한 웰니스 라이프, 제주901\n",
      "========= 4 페이지 작업 =========\n",
      "31 1월 놓치지 말아야 할 제주 관광 10선\n",
      "<멋진 새날을 희망하며, 엄블랑한 1월 제주>\n",
      "32 섬 속의 섬 그리고 가장 제주다운 섬, 제주 우도\n",
      "33 제주 해녀들의 “호오이 호오이” 숨비소리 찾는 여행 – 제주해녀박물관과 숨비소리길\n",
      "34 랜선으로 먼저 온 봄 맞이하기!\n",
      "일출로 시작하는 제주도 동쪽 코스\n",
      "35 돌이 나에게 말을 걸어오는 시적(詩的)인 곳– 제주돌문화공원\n",
      "36 [국내여행 버킷리스트 3탄] 올 여름엔 제주도 자전거 여행이다!\n",
      "37 제주의 자연과 제주인의 삶을 최단시간에 알 수 있는 곳! - 제주민속자연사박물관\n",
      "38 식재료 수확체험부터 시작하는 완벽한 쿠킹클래스 - 제주 토토아뜰리에\n",
      "39 환경생태가 살아있는 진짜 제주의 숲을 만나다 – 제주절물자연휴양림과 장생의 숲길\n",
      "40 [제주도 가볼 만한 곳] 섬 안에 섬을 여행하는 방법, 가파도 여행 코스\n",
      "========= 5 페이지 작업 =========\n",
      "41 탄소 없는 섬, 제주의 미래를 만나다_제주CFI에너지미래관\n",
      "42 제주 가볼만한 곳. 가족과 함께 제주도 구석구석, 당일치기 필수 코스 4\n",
      "43 [번아웃 트래블 EP.1] 넉살 발성에 귀가 뚫렸습니다! | 제주도여행\n",
      "44 [김녕 어촌체험휴양마을] 제주 김녕바다를 바라보며 업무를 즐기는 워케이션\n",
      "45 엄마 아빠에겐 쉼표, 아이에겐 느낌표! 아이와 떠나는 제주 여행\n",
      "46 [온실(프립캠프)] 업무와 휴식, 액티비티까지 한 번에 즐기는 제주도 워케이션\n",
      "47 2월 제주 여행, 성산일출봉 근처 인생사진 명소로 유명한 제주 동쪽 핫플레이스 4\n",
      "48 [코사이어티 빌리지] 녹음이 우거진 제주 동쪽 영감의 공간\n",
      "49 가장 먼저 맞이하는 봄날의 하이라이트 '제주 벚꽃 명소'\n",
      "50 나만 알고 싶은 제주 액티비티 ①\n",
      "원시 숲과 벵뒤못과 밀리터리 카,\n",
      "어디에도 없던 리얼 오프로드의 세계\n",
      "========= 6 페이지 작업 =========\n",
      "51 자연 속에서 더욱 단단해지는 가족애, 제주돌문화공원과 교래자연휴양림\n",
      "52 감성 넘치는 인생 사진, 가을 제주 120% 즐기기\n",
      "53 [제주] 연말을 조금 더 특별하게 제주도의 방\n",
      "54 보석 같은 섬에 예술을 덧입히다,\n",
      "제주 추자도\n",
      "55 '효리네 민박'의 색다른 변신!\n",
      "감성 넘치는 제주 로컬 소품샵 소길별하\n",
      "56 '제주 별미 여행' 흑돼지, 말고기에 각재기국과 어랭이물회도 맛보자\n",
      "57 마음에 위안을 주는 제주의 맛\n",
      "58 겨울에 만나는 초록빛 곶자왈, 제주 청수마을\n",
      "59 화산섬 제주의 아름다움을 찾아나선 꿈결 같은 산책, 사려니숲길(제주시험림)\n",
      "60 신비롭고 청정한 자연을 품은 제주 서귀포시 댕댕이 추천코스\n",
      "========= 7 페이지 작업 =========\n",
      "61 제주의 숨은 명소! '진짜 제주'를 만나는 곳, 애월읍 봉성리\n",
      "62 [여행 카드] 제주도에서 만나는 스위스 마을\n",
      "63 2024 여행가는 달(2~3월편) 추천 관광지 [제주]\n",
      "64 길 위의 지질 과학관, 제주도 사계리 지질 여행\n",
      "65 [360도 영상] 제주 항공 편\n",
      "66 제주의 특색을 잘 간직한 안심 산책길, 천지연폭포\n",
      "67 제주 트레킹, 탁 트인 풍경 속을 거니는 제주 걷기 좋은 오름 4\n",
      "68 태곳적 제주와 조우하는 신비로운 숲, 동백동산\n",
      "69 효리네민박 촬영지부터 매화꽃 명소까지,\n",
      "♥제주 봄여행 코스♥\n",
      "70 제주의 즐겁고 달콤한 겨울 박물관들\n",
      "========= 8 페이지 작업 =========\n",
      "71 상큼한 귤밭이 내어준 나만의 치유공간, 제원하늘농원\n",
      "72 세계자연유산(UNESCO)의 봄을 느끼며, 제주도 동부 여행\n",
      "73 [제주] 이동하기 좋은 위치의 숙소를 찾는다면, 제주R호텔\n",
      "74 제주의 자연을 만나다, 서귀포 치유의 숲\n",
      "75 여름, 제주도로 별~난 박물관 피서 떠나봅서예\n",
      "76 제주의 물과 숲을 경험하다, WE호텔 웰니스센터\n",
      "77 '조물조물' 만드는 즐거움 〈DIY 체험 여행지〉\n",
      "78 “바다가 우리에겐 부엌이지.” - 해녀의 부엌_북촌점\n",
      "79 해녀가 되어 바닷속을 누벼볼까!\n",
      "제주 하도어촌체험마을\n",
      "80 바다와 오름을 가르는 거대한 바람개비 '제주 풍력발전단지'\n",
      "========= 9 페이지 작업 =========\n",
      "81 벚꽃과 유채꽃이 서로 뽐내는 제주의 봄날\n",
      "82 가족 단위 추천 느린 여행지 2탄 - 제주시 동부\n",
      "83 1년에 열흘만 열리는 비밀의 원시림, 제주 거문오름 '용암길'\n",
      "84 나 혼자 훌쩍 떠나는 제주도 여행\n",
      "85 <맨도롱 또똣> 어디서 촬영햇수꽈? 제주 풍경 속 달달한 로맨스 스폿을 찾아서\n",
      "86 [국내여행 버킷리스트 1탄] '나도 제주 해녀가 되고 싶어요', 제주 하도어촌체험마을 해녀체험\n",
      "87 알록달록 가을빛 제주\n",
      "88 김만덕을 따라 걷는 제주시 건입동 산책\n",
      "89 가족 단위 추천 느린 여행지 1탄 - 제주시 서부\n",
      "90 제주의 가을은 오름을 타고 온다\n",
      "========= 10 페이지 작업 =========\n",
      "91 늦기 전에 떠나야 할 제주의 숨은 동백 명소 5\n",
      "92 재미 가득한 컴퓨터 세상, 제주 넥슨컴퓨터박물관\n",
      "93 [더가게 함께가게] 제주 매력이 가득! 나만 알고 싶은 특별 굿즈 추천\n",
      "94 은빛 물결 일렁이는 길을 달리다, 제주 억새 드라이브\n",
      "95 찬란한 봄에 떠난 제주4·3 유적지 기행\n",
      "96 여름철 입맛 돋우는 제주 물회 열전\n",
      "97 검은 밤바다, 빛나는 은빛 유혹, 제주 은갈치 대령이오\n",
      "98 어여쁜 동백꽃처럼 내 얼굴도 활짝! 제주동백마을\n",
      "99 여름철 낭만 여행 '제주의 별 헤는 밤'\n",
      "100 인간극장 '엄마의 바다' 그곳을 찾아, 초보 해녀의 꿈이 담긴 제주 평대리 바다\n"
     ]
    }
   ],
   "source": [
    "tit_xpath = '//*[@id=\"search_result\"]/ul/li[*]/div[1]/div[1]/a' #기사 제목 xpath\n",
    "no = 0 #현재 수집된 기사 수 \n",
    "\n",
    "x = 1 #페이지\n",
    "btn = 1 #페이지 이동버튼 id\n",
    "articles = {} #뉴스 담을 딕셔너리\n",
    "\n",
    "while no < cnt:\n",
    "    print(f'========= {x} 페이지 작업 =========')  \n",
    "    mylist = driver.find_elements(By.XPATH, tit_xpath)  #기사 제목 10개 mylist에 넣기\n",
    "    \n",
    "    \n",
    "    for item in mylist: #한 페이지에 있는 기사 10개 출력\n",
    "        no += 1 #수집한 기사 개수 +1\n",
    "        if no > cnt: #수집하기로한 기사 개수에 도달하면 while문 탈출\n",
    "            break\n",
    "        print(no, item.text) #수집하기로한 기수 개수에 도달하지 않았다면 기사제목 출력\n",
    "        articles[no] = item.text\n",
    "    \n",
    "    #페이지 이동\n",
    "    if x%5 == 0:\n",
    "        if x <= 5:\n",
    "            driver.find_element(By.XPATH, '/html/body/div[3]/div/div[1]/div[14]/a[6]').click() #5페이지면 다음 버튼 클릭\n",
    "            x +=1 #맨 앞으로 = 1 / 앞으로 = 2 / 숫자 = 3\n",
    "            btn = 3\n",
    "        else:\n",
    "            driver.find_element(By.XPATH, '/html/body/div[3]/div/div[1]/div[14]/a[8]').click() \n",
    "            x +=1 #맨 앞으로 = 1 / 앞으로 = 2 / 숫자 = 3\n",
    "            btn = 3\n",
    "\n",
    "    else: \n",
    "        x += 1 \n",
    "        btn += 1\n",
    "        a = f'/html/body/div[3]/div/div[1]/div[14]/a[{btn}]' #다음 페이지로 이동  \n",
    "        driver.find_element(By.XPATH, a).click() \n",
    "        time.sleep(2)\n",
    "        \n",
    "    "
   ]
  },
  {
   "cell_type": "code",
   "execution_count": 80,
   "id": "6856b631-0d35-4b23-a6f1-32939aee68bf",
   "metadata": {
    "tags": []
   },
   "outputs": [],
   "source": [
    "import time, random, pandas as pd"
   ]
  },
  {
   "cell_type": "code",
   "execution_count": 91,
   "id": "2c2f51bb-94e0-40ff-a7f2-05e8c3304143",
   "metadata": {
    "tags": []
   },
   "outputs": [
    {
     "ename": "ValueError",
     "evalue": "If using all scalar values, you must pass an index",
     "output_type": "error",
     "traceback": [
      "\u001b[1;31m---------------------------------------------------------------------------\u001b[0m",
      "\u001b[1;31mValueError\u001b[0m                                Traceback (most recent call last)",
      "Cell \u001b[1;32mIn[91], line 1\u001b[0m\n\u001b[1;32m----> 1\u001b[0m df \u001b[38;5;241m=\u001b[39m pd\u001b[38;5;241m.\u001b[39mDataFrame(data \u001b[38;5;241m=\u001b[39m articles)\n\u001b[0;32m      2\u001b[0m \u001b[38;5;28mprint\u001b[39m(df)\n",
      "File \u001b[1;32m~\\anaconda3\\Lib\\site-packages\\pandas\\core\\frame.py:709\u001b[0m, in \u001b[0;36mDataFrame.__init__\u001b[1;34m(self, data, index, columns, dtype, copy)\u001b[0m\n\u001b[0;32m    703\u001b[0m     mgr \u001b[38;5;241m=\u001b[39m \u001b[38;5;28mself\u001b[39m\u001b[38;5;241m.\u001b[39m_init_mgr(\n\u001b[0;32m    704\u001b[0m         data, axes\u001b[38;5;241m=\u001b[39m{\u001b[38;5;124m\"\u001b[39m\u001b[38;5;124mindex\u001b[39m\u001b[38;5;124m\"\u001b[39m: index, \u001b[38;5;124m\"\u001b[39m\u001b[38;5;124mcolumns\u001b[39m\u001b[38;5;124m\"\u001b[39m: columns}, dtype\u001b[38;5;241m=\u001b[39mdtype, copy\u001b[38;5;241m=\u001b[39mcopy\n\u001b[0;32m    705\u001b[0m     )\n\u001b[0;32m    707\u001b[0m \u001b[38;5;28;01melif\u001b[39;00m \u001b[38;5;28misinstance\u001b[39m(data, \u001b[38;5;28mdict\u001b[39m):\n\u001b[0;32m    708\u001b[0m     \u001b[38;5;66;03m# GH#38939 de facto copy defaults to False only in non-dict cases\u001b[39;00m\n\u001b[1;32m--> 709\u001b[0m     mgr \u001b[38;5;241m=\u001b[39m dict_to_mgr(data, index, columns, dtype\u001b[38;5;241m=\u001b[39mdtype, copy\u001b[38;5;241m=\u001b[39mcopy, typ\u001b[38;5;241m=\u001b[39mmanager)\n\u001b[0;32m    710\u001b[0m \u001b[38;5;28;01melif\u001b[39;00m \u001b[38;5;28misinstance\u001b[39m(data, ma\u001b[38;5;241m.\u001b[39mMaskedArray):\n\u001b[0;32m    711\u001b[0m     \u001b[38;5;28;01mfrom\u001b[39;00m \u001b[38;5;21;01mnumpy\u001b[39;00m\u001b[38;5;21;01m.\u001b[39;00m\u001b[38;5;21;01mma\u001b[39;00m \u001b[38;5;28;01mimport\u001b[39;00m mrecords\n",
      "File \u001b[1;32m~\\anaconda3\\Lib\\site-packages\\pandas\\core\\internals\\construction.py:481\u001b[0m, in \u001b[0;36mdict_to_mgr\u001b[1;34m(data, index, columns, dtype, typ, copy)\u001b[0m\n\u001b[0;32m    477\u001b[0m     \u001b[38;5;28;01melse\u001b[39;00m:\n\u001b[0;32m    478\u001b[0m         \u001b[38;5;66;03m# dtype check to exclude e.g. range objects, scalars\u001b[39;00m\n\u001b[0;32m    479\u001b[0m         arrays \u001b[38;5;241m=\u001b[39m [x\u001b[38;5;241m.\u001b[39mcopy() \u001b[38;5;28;01mif\u001b[39;00m \u001b[38;5;28mhasattr\u001b[39m(x, \u001b[38;5;124m\"\u001b[39m\u001b[38;5;124mdtype\u001b[39m\u001b[38;5;124m\"\u001b[39m) \u001b[38;5;28;01melse\u001b[39;00m x \u001b[38;5;28;01mfor\u001b[39;00m x \u001b[38;5;129;01min\u001b[39;00m arrays]\n\u001b[1;32m--> 481\u001b[0m \u001b[38;5;28;01mreturn\u001b[39;00m arrays_to_mgr(arrays, columns, index, dtype\u001b[38;5;241m=\u001b[39mdtype, typ\u001b[38;5;241m=\u001b[39mtyp, consolidate\u001b[38;5;241m=\u001b[39mcopy)\n",
      "File \u001b[1;32m~\\anaconda3\\Lib\\site-packages\\pandas\\core\\internals\\construction.py:115\u001b[0m, in \u001b[0;36marrays_to_mgr\u001b[1;34m(arrays, columns, index, dtype, verify_integrity, typ, consolidate)\u001b[0m\n\u001b[0;32m    112\u001b[0m \u001b[38;5;28;01mif\u001b[39;00m verify_integrity:\n\u001b[0;32m    113\u001b[0m     \u001b[38;5;66;03m# figure out the index, if necessary\u001b[39;00m\n\u001b[0;32m    114\u001b[0m     \u001b[38;5;28;01mif\u001b[39;00m index \u001b[38;5;129;01mis\u001b[39;00m \u001b[38;5;28;01mNone\u001b[39;00m:\n\u001b[1;32m--> 115\u001b[0m         index \u001b[38;5;241m=\u001b[39m _extract_index(arrays)\n\u001b[0;32m    116\u001b[0m     \u001b[38;5;28;01melse\u001b[39;00m:\n\u001b[0;32m    117\u001b[0m         index \u001b[38;5;241m=\u001b[39m ensure_index(index)\n",
      "File \u001b[1;32m~\\anaconda3\\Lib\\site-packages\\pandas\\core\\internals\\construction.py:645\u001b[0m, in \u001b[0;36m_extract_index\u001b[1;34m(data)\u001b[0m\n\u001b[0;32m    642\u001b[0m         \u001b[38;5;28;01mraise\u001b[39;00m \u001b[38;5;167;01mValueError\u001b[39;00m(\u001b[38;5;124m\"\u001b[39m\u001b[38;5;124mPer-column arrays must each be 1-dimensional\u001b[39m\u001b[38;5;124m\"\u001b[39m)\n\u001b[0;32m    644\u001b[0m \u001b[38;5;28;01mif\u001b[39;00m \u001b[38;5;129;01mnot\u001b[39;00m indexes \u001b[38;5;129;01mand\u001b[39;00m \u001b[38;5;129;01mnot\u001b[39;00m raw_lengths:\n\u001b[1;32m--> 645\u001b[0m     \u001b[38;5;28;01mraise\u001b[39;00m \u001b[38;5;167;01mValueError\u001b[39;00m(\u001b[38;5;124m\"\u001b[39m\u001b[38;5;124mIf using all scalar values, you must pass an index\u001b[39m\u001b[38;5;124m\"\u001b[39m)\n\u001b[0;32m    647\u001b[0m \u001b[38;5;28;01mif\u001b[39;00m have_series:\n\u001b[0;32m    648\u001b[0m     index \u001b[38;5;241m=\u001b[39m union_indexes(indexes)\n",
      "\u001b[1;31mValueError\u001b[0m: If using all scalar values, you must pass an index"
     ]
    }
   ],
   "source": [
    "df = pd.DataFrame(data = articles)\n",
    "print(df)"
   ]
  }
 ],
 "metadata": {
  "kernelspec": {
   "display_name": "Python 3 (ipykernel)",
   "language": "python",
   "name": "python3"
  },
  "language_info": {
   "codemirror_mode": {
    "name": "ipython",
    "version": 3
   },
   "file_extension": ".py",
   "mimetype": "text/x-python",
   "name": "python",
   "nbconvert_exporter": "python",
   "pygments_lexer": "ipython3",
   "version": "3.11.5"
  }
 },
 "nbformat": 4,
 "nbformat_minor": 5
}
