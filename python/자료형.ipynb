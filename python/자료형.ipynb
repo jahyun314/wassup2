{
 "cells": [
  {
   "cell_type": "code",
   "execution_count": null,
   "id": "f537e034-5e4b-48c7-bd7a-43a57fd5223e",
   "metadata": {},
   "outputs": [],
   "source": [
    "파이썬 자료형"
   ]
  }
 ],
 "metadata": {
  "kernelspec": {
   "display_name": "Python 3 (ipykernel)",
   "language": "python",
   "name": "python3"
  },
  "language_info": {
   "codemirror_mode": {
    "name": "ipython",
    "version": 3
   },
   "file_extension": ".py",
   "mimetype": "text/x-python",
   "name": "python",
   "nbconvert_exporter": "python",
   "pygments_lexer": "ipython3",
   "version": "3.11.5"
  }
 },
 "nbformat": 4,
 "nbformat_minor": 5
}
