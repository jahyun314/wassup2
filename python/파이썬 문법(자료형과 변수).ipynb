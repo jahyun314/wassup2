{
 "cells": [
  {
   "cell_type": "markdown",
   "id": "b6949887-9b80-4a5d-ad0c-ac751d3c083c",
   "metadata": {},
   "source": [
    "## 파이썬 자료형"
   ]
  },
  {
   "cell_type": "markdown",
   "id": "29110264-00b4-44c1-be0d-6d3c3eb1e6ea",
   "metadata": {},
   "source": [
    "### 숫자형"
   ]
  },
  {
   "cell_type": "markdown",
   "id": "ee647eaa-e7be-433b-b985-63dffa4bfb97",
   "metadata": {
    "tags": []
   },
   "source": [
    "정수형"
   ]
  },
  {
   "cell_type": "code",
   "execution_count": 3,
   "id": "59f41d0f-1904-4ed6-83dc-7c9f3a91482d",
   "metadata": {
    "tags": []
   },
   "outputs": [],
   "source": [
    "#양의 정수\n",
    "a = 123"
   ]
  },
  {
   "cell_type": "code",
   "execution_count": 3,
   "id": "4b7126f3-7959-45a5-bdeb-56dcebd0a262",
   "metadata": {
    "tags": []
   },
   "outputs": [],
   "source": [
    "#음의 정수\n",
    "a = -178"
   ]
  },
  {
   "cell_type": "code",
   "execution_count": 16,
   "id": "a8d3e953-ee9e-4394-9fb4-e4f8c565a0fe",
   "metadata": {
    "tags": []
   },
   "outputs": [],
   "source": [
    "#0\n",
    "a=0"
   ]
  },
  {
   "cell_type": "markdown",
   "id": "b018f3db-b971-45ac-87b0-7e54a497fb19",
   "metadata": {},
   "source": [
    "실수형"
   ]
  },
  {
   "cell_type": "code",
   "execution_count": 15,
   "id": "536a15fe-2156-4478-9270-6c8d1653194b",
   "metadata": {
    "tags": []
   },
   "outputs": [],
   "source": [
    "#소수점\n",
    "a = 1.234\n",
    "a= -4.2354"
   ]
  },
  {
   "cell_type": "code",
   "execution_count": 14,
   "id": "1263c597-252a-4e6c-924a-a2657eb8c741",
   "metadata": {
    "tags": []
   },
   "outputs": [],
   "source": [
    "#컴퓨터식 지수 표현\n",
    "a = 4.24E10\n",
    "a = 4.24e-10"
   ]
  },
  {
   "cell_type": "markdown",
   "id": "54543272-2d6c-445f-adc4-9eb207668b6a",
   "metadata": {},
   "source": [
    "8진수와 16진수"
   ]
  },
  {
   "cell_type": "code",
   "execution_count": null,
   "id": "e543c15d-fb17-4dbe-b854-7ef6a3f42015",
   "metadata": {},
   "outputs": [],
   "source": [
    "#8진수\n",
    "a = 0o177"
   ]
  },
  {
   "cell_type": "code",
   "execution_count": null,
   "id": "0ec3e3f3-0df6-4c25-91d9-542dff756de6",
   "metadata": {},
   "outputs": [],
   "source": [
    "#16진수\n",
    "a = 0x8ff"
   ]
  },
  {
   "cell_type": "markdown",
   "id": "8c5dcecf-797b-4d65-b68f-c38c0df8d330",
   "metadata": {},
   "source": [
    "### 연산자"
   ]
  },
  {
   "cell_type": "code",
   "execution_count": null,
   "id": "432d282c-8476-4086-ba53-c9458dd8edba",
   "metadata": {},
   "outputs": [],
   "source": [
    "사칙연산"
   ]
  },
  {
   "cell_type": "code",
   "execution_count": 13,
   "id": "55804144-c73b-4e4a-bc95-7934ae4e7662",
   "metadata": {
    "tags": []
   },
   "outputs": [
    {
     "data": {
      "text/plain": [
       "7"
      ]
     },
     "execution_count": 13,
     "metadata": {},
     "output_type": "execute_result"
    }
   ],
   "source": [
    "a = 10\n",
    "b = 3\n",
    "\n",
    "#덧셈\n",
    "a + b\n",
    "\n",
    "#뺄셈\n",
    "a - b\n",
    "\n",
    "#곱셈"
   ]
  },
  {
   "cell_type": "code",
   "execution_count": null,
   "id": "3641dd04-fff0-4720-958c-4620356338e4",
   "metadata": {},
   "outputs": [],
   "source": []
  },
  {
   "cell_type": "code",
   "execution_count": null,
   "id": "61ed8b4d-8572-47f3-881f-2d33f04247e2",
   "metadata": {},
   "outputs": [],
   "source": []
  },
  {
   "cell_type": "code",
   "execution_count": null,
   "id": "75dfca53-5c0c-4658-b4ac-ece8dd513c34",
   "metadata": {},
   "outputs": [],
   "source": []
  },
  {
   "cell_type": "markdown",
   "id": "fa3b8003-30db-4607-bc85-8259c9308b8e",
   "metadata": {},
   "source": [
    "마크다운"
   ]
  },
  {
   "cell_type": "code",
   "execution_count": null,
   "id": "ebbb8a3e-a035-47f7-8ed0-cfa203d879c1",
   "metadata": {},
   "outputs": [],
   "source": []
  }
 ],
 "metadata": {
  "kernelspec": {
   "display_name": "Python 3 (ipykernel)",
   "language": "python",
   "name": "python3"
  },
  "language_info": {
   "codemirror_mode": {
    "name": "ipython",
    "version": 3
   },
   "file_extension": ".py",
   "mimetype": "text/x-python",
   "name": "python",
   "nbconvert_exporter": "python",
   "pygments_lexer": "ipython3",
   "version": "3.11.5"
  }
 },
 "nbformat": 4,
 "nbformat_minor": 5
}
