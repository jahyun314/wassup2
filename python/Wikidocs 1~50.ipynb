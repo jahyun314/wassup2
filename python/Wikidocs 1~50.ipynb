{
 "cells": [
  {
   "cell_type": "markdown",
   "id": "98aab3d5-f9e7-4e4a-a809-8270bdce2004",
   "metadata": {},
   "source": [
    "**001 print 기초**<br>\n",
    "화면에 <code>Hello World</code> 문자열을 출력하세요."
   ]
  },
  {
   "cell_type": "code",
   "execution_count": 1,
   "id": "a631f587-07e3-4d7b-b39a-684a75ba6e72",
   "metadata": {
    "tags": []
   },
   "outputs": [
    {
     "name": "stdout",
     "output_type": "stream",
     "text": [
      "Hello World\n"
     ]
    }
   ],
   "source": [
    "print(\"Hello World\")"
   ]
  },
  {
   "cell_type": "markdown",
   "id": "5a5c2069-c9ec-42b0-b201-a2269af3c22f",
   "metadata": {},
   "source": [
    "**002 print 기초**<br>\n",
    "화면에 <code>Mary's cosmetics</code>을 출력하세요. (중간에 '가 있음에 주의하세요)"
   ]
  },
  {
   "cell_type": "code",
   "execution_count": 2,
   "id": "1cbd4ba2-8b21-4474-8d78-2e37c1fdc05f",
   "metadata": {
    "tags": []
   },
   "outputs": [
    {
     "name": "stdout",
     "output_type": "stream",
     "text": [
      "Mary's cosmetics\n"
     ]
    }
   ],
   "source": [
    "print(\"Mary\\'s cosmetics\")"
   ]
  },
  {
   "cell_type": "markdown",
   "id": "2d4eb1c9-ad7a-4b35-8389-32adeea56b98",
   "metadata": {},
   "source": [
    "**003 print 기초**<br>\n",
    "화면에 아래 문장을 출력하세요. (중간에 \"가 있음에 주의하세요.)<br>\n",
    "<code>신씨가 소리질렀다. \"도둑이야\".</code>"
   ]
  },
  {
   "cell_type": "code",
   "execution_count": 3,
   "id": "63a11a69-2c48-44fe-9a06-1979876265e4",
   "metadata": {
    "tags": []
   },
   "outputs": [
    {
     "name": "stdout",
     "output_type": "stream",
     "text": [
      "신씨가 소리질렀다. \"도둑이야\".\n"
     ]
    }
   ],
   "source": [
    "print(\"신씨가 소리질렀다. \\\"도둑이야\\\".\")"
   ]
  },
  {
   "cell_type": "markdown",
   "id": "2c68bc14-28dd-4b94-a67a-e18fa1bff889",
   "metadata": {},
   "source": [
    "**004 print 기초**<br>\n",
    "화면에 ```C:\\Windows```를 출력하세요."
   ]
  },
  {
   "cell_type": "code",
   "execution_count": 5,
   "id": "87fc28f6-78dc-4adb-87b7-0364ac0bf9d5",
   "metadata": {
    "tags": []
   },
   "outputs": [
    {
     "name": "stdout",
     "output_type": "stream",
     "text": [
      "C:\\Windows\n"
     ]
    }
   ],
   "source": [
    "print(\"C:\\\\Windows\")"
   ]
  },
  {
   "cell_type": "markdown",
   "id": "ef4db140-b374-4188-8907-16401a179624",
   "metadata": {},
   "source": [
    "**005 print 탭과 줄바꿈**<br>\n",
    "다음 코드를 실행해보고 \\t와 \\n의 역할을 설명해보세요.<br>\n",
    "```print(\"안녕하세요.\\n만나서\\t\\t반갑습니다.\")```"
   ]
  },
  {
   "cell_type": "code",
   "execution_count": 8,
   "id": "08026691-429c-4ecb-b39b-68883992d68d",
   "metadata": {
    "tags": []
   },
   "outputs": [],
   "source": [
    "# \\n: 줄바꿈\n",
    "# \\t: 탭"
   ]
  },
  {
   "cell_type": "markdown",
   "id": "2e2c9e16-58e1-4a56-b4e8-60bf36072390",
   "metadata": {},
   "source": [
    "**006 print 여러 데이터 출력**<br>\n",
    "print 함수에 두 개의 단어를 입력한 예제입니다. 아래 코드의 출력 결과를 예상해봅시다.<br>\n",
    "```print (\"오늘은\", \"일요일\")```"
   ]
  },
  {
   "cell_type": "code",
   "execution_count": 15,
   "id": "b54ed043-d7b3-4ad3-9ea2-364ffe005e8e",
   "metadata": {
    "tags": []
   },
   "outputs": [
    {
     "name": "stdout",
     "output_type": "stream",
     "text": [
      "오늘은 일요일\n"
     ]
    }
   ],
   "source": [
    "#여러 값을 출력하려면 print 함수에서 쉼표로 구분해주면 됩니다.\n",
    "#따라서 오늘은 다음에 공백이 하나 있고 일요일이 출력됩니다.\n",
    "\n",
    "print (\"오늘은\", \"일요일\")"
   ]
  },
  {
   "cell_type": "markdown",
   "id": "14b6bcb2-1062-422e-870a-b002cedef1cf",
   "metadata": {},
   "source": [
    "**007 print 기초**<br>\n",
    "print() 함수를 사용하여 다음과 같이 출력하세요.<br>\n",
    "```naver;kakao;sk;samsung```"
   ]
  },
  {
   "cell_type": "code",
   "execution_count": 16,
   "id": "7b68bc89-1ded-4827-9207-b2fa9a7c4610",
   "metadata": {
    "tags": []
   },
   "outputs": [
    {
     "name": "stdout",
     "output_type": "stream",
     "text": [
      "naver;kakao;sk;samsung\n"
     ]
    }
   ],
   "source": [
    "# , 사용 시 구분자로 쓸 값을 sep를 이용하여 직접 설정할 수 있다.\n",
    "\n",
    "print(\"naver\", \"kakao\", \"sk\", \"samsung\", sep=\";\")"
   ]
  },
  {
   "cell_type": "markdown",
   "id": "3f760965-69cc-4791-9f61-f110ee3ee8eb",
   "metadata": {},
   "source": [
    "**008 print 기초**<br>\n",
    "print() 함수를 사용하여 다음과 같이 출력하세요.<br>\n",
    "```naver/kakao/sk/samsung```"
   ]
  },
  {
   "cell_type": "code",
   "execution_count": 17,
   "id": "e042f044-8101-45d8-a2e5-95eea36870bf",
   "metadata": {
    "tags": []
   },
   "outputs": [
    {
     "name": "stdout",
     "output_type": "stream",
     "text": [
      "naver/kakao/sk/samsung\n"
     ]
    }
   ],
   "source": [
    "print(\"naver\", \"kakao\", \"sk\", \"samsung\", sep=\"/\")"
   ]
  },
  {
   "cell_type": "markdown",
   "id": "9bcfbd9d-1ce4-4c3a-a36a-f6bbb8ed713d",
   "metadata": {},
   "source": [
    "**009 print 줄바꿈**<br>\n",
    "다음 코드를 수정하여 줄바꿈이 없이 출력하세요. (힌트: end='') print 함수는 두 번 사용합니다. 세미콜론 (;)은 한줄에 여러 개의 명령을 작성하기 위해 사용합니다.<br>\n",
    "```python\n",
    "print(\"first\");print(\"second\")\n",
    "```"
   ]
  },
  {
   "cell_type": "code",
   "execution_count": 20,
   "id": "32717064-c974-43ed-8893-de823d866ff0",
   "metadata": {
    "tags": []
   },
   "outputs": [
    {
     "name": "stdout",
     "output_type": "stream",
     "text": [
      "first second\n"
     ]
    }
   ],
   "source": [
    "# print 함수는 end라는 값에 \\n 문자가 기본적으로 들어가 있기 때문에, 다음 줄로 알아서 넘어간다.\n",
    "# 이 end값을 공백 ' '으로 바꾸면 print 함수 2개로 공백을 두고 출력할 수 있다.\n",
    "\n",
    "print(\"first\", end=\" \");print(\"second\")"
   ]
  },
  {
   "cell_type": "markdown",
   "id": "3df83296-d64d-40f2-97e6-5335e395abf4",
   "metadata": {},
   "source": [
    "**010 연산 결과 출력**<br>\n",
    "5/3의 결과를 화면에 출력하세요."
   ]
  },
  {
   "cell_type": "code",
   "execution_count": 21,
   "id": "58b48f3b-8d24-4434-aebe-1bd229eed813",
   "metadata": {
    "tags": []
   },
   "outputs": [
    {
     "name": "stdout",
     "output_type": "stream",
     "text": [
      "1.6666666666666667\n"
     ]
    }
   ],
   "source": [
    "print(5/3)"
   ]
  },
  {
   "cell_type": "markdown",
   "id": "688569fb-da6f-482e-8a0c-454a65407290",
   "metadata": {},
   "source": [
    "**011 변수 사용하기**<br>\n",
    "삼성전자라는 변수로 50,000원을 바인딩해보세요. 삼성전자 주식 10주를 보유하고 있을 때 총 평가금액을 출력하세요."
   ]
  },
  {
   "cell_type": "code",
   "execution_count": 22,
   "id": "d90d5ced-d161-42cd-97d4-c8fd4773ab6e",
   "metadata": {
    "tags": []
   },
   "outputs": [
    {
     "name": "stdout",
     "output_type": "stream",
     "text": [
      "500000\n"
     ]
    }
   ],
   "source": [
    "삼성전자 = 50000\n",
    "평가금액 = 삼성전자*10\n",
    "print(평가금액)"
   ]
  },
  {
   "cell_type": "markdown",
   "id": "a8779fbe-2aac-4e62-9a64-474cfa477d70",
   "metadata": {},
   "source": [
    "**012 변수 사용하기**<br>\n",
    "다음 표는 삼성전자의 일부 투자정보입니다. 변수를 사용해서 시가총액, 현재가, PER 등을 바인딩해보세요.<br>\n",
    "|항목|값|\n",
    "|------|---|\n",
    "|시가총액|298조|\n",
    "|현재가|50,000원|\n",
    "|PER|15.79|"
   ]
  },
  {
   "cell_type": "code",
   "execution_count": 25,
   "id": "7552fdd6-acc4-40b9-9d32-93c1f4e438f2",
   "metadata": {
    "tags": []
   },
   "outputs": [
    {
     "name": "stdout",
     "output_type": "stream",
     "text": [
      "298000000000000 <class 'int'>\n",
      "50000 <class 'int'>\n",
      "15.79 <class 'float'>\n"
     ]
    }
   ],
   "source": [
    "시가총액 = 298000000000000\n",
    "현재가 = 50000\n",
    "PER = 15.79\n",
    "\n",
    "print(시가총액, type(시가총액))\n",
    "print(현재가, type(현재가))\n",
    "print(PER, type(PER))"
   ]
  },
  {
   "cell_type": "markdown",
   "id": "5c072866-308c-40df-970a-919d5e0f7347",
   "metadata": {},
   "source": [
    "**013 문자열 출력**<br>\n",
    "변수 s와 t에는 각각 문자열이 바인딩 되어있습니다.<br>\n",
    "```python\n",
    ">> s = \"hello\"\n",
    ">> t = \"python\"\n",
    "```\n",
    "두 변수를 이용하여 아래와 같이 출력해보세요.<br>\n",
    "```\n",
    "실행 예:\n",
    "hello! python\n",
    "```"
   ]
  },
  {
   "cell_type": "code",
   "execution_count": 32,
   "id": "79ec8170-d097-47ba-b624-8d9de00b4105",
   "metadata": {
    "tags": []
   },
   "outputs": [
    {
     "name": "stdout",
     "output_type": "stream",
     "text": [
      "hello! python\n"
     ]
    }
   ],
   "source": [
    "s = \"hello\"\n",
    "t = \"python\"\n",
    "\n",
    "print(s+\"!\", t) #출력 시에만 ! 붙인다는 의미"
   ]
  },
  {
   "cell_type": "markdown",
   "id": "3775ea8b-a0a7-4f7f-a564-48f1d9caf331",
   "metadata": {},
   "source": [
    "**014 파이썬을 이용한 값 계산**<br>\n",
    "아래 코드의 실행 결과를 예상해보세요.<br>\n",
    "```python\n",
    ">> 2 + 2 * 3 \n",
    "```"
   ]
  },
  {
   "cell_type": "code",
   "execution_count": 34,
   "id": "2a7154cc-8898-4914-af5c-76a0958c9e01",
   "metadata": {
    "tags": []
   },
   "outputs": [
    {
     "name": "stdout",
     "output_type": "stream",
     "text": [
      "8\n"
     ]
    }
   ],
   "source": [
    "#연산자마다 순서가 다르므로 8\n",
    "\n",
    "print(2 + 2 * 3)"
   ]
  },
  {
   "cell_type": "markdown",
   "id": "0daf638d-b197-4550-bcce-89324c497bd6",
   "metadata": {},
   "source": [
    "**015 type 함수**<br>\n",
    "type() 함수는 데이터 타입을 판별합니다. 변수 a에는 128 숫자가 바인딩돼 있어 type 함수가 int (정수)형임을 알려줍니다.<br>\n",
    "```python\n",
    ">> a = 128\n",
    ">> print (type(a))\n",
    "<class 'int'>\n",
    "```\n",
    "아래 변수에 바인딩된 값의 타입을 판별해보세요.<br>\n",
    "```python\n",
    ">> a = \"132\"\n",
    "```"
   ]
  },
  {
   "cell_type": "code",
   "execution_count": 35,
   "id": "bc70cef0-7f61-4419-9aca-b8a88180aa1a",
   "metadata": {
    "tags": []
   },
   "outputs": [
    {
     "name": "stdout",
     "output_type": "stream",
     "text": [
      "<class 'str'>\n"
     ]
    }
   ],
   "source": [
    "a = \"132\"\n",
    "print(type(a))"
   ]
  },
  {
   "cell_type": "markdown",
   "id": "94b8cbdb-21be-4f25-8520-88c7c8a01a6b",
   "metadata": {},
   "source": [
    "**016 문자열을 정수로 변환**<br>\n",
    "문자열 '720'를 정수형으로 변환해보세요.<br>\n",
    "```python\n",
    ">> num_str = \"720\"\n",
    "```"
   ]
  },
  {
   "cell_type": "code",
   "execution_count": 38,
   "id": "bb37cf9b-dc9b-4f15-87bb-50d95a58405c",
   "metadata": {
    "tags": []
   },
   "outputs": [
    {
     "name": "stdout",
     "output_type": "stream",
     "text": [
      "<class 'int'>\n"
     ]
    }
   ],
   "source": [
    "num_str = \"720\"\n",
    "num_str = int(num_str)\n",
    "print(type(num_str))"
   ]
  },
  {
   "cell_type": "markdown",
   "id": "d34746a8-3e43-40c7-bdb8-da1a0421f248",
   "metadata": {},
   "source": [
    "**017 정수를 문자열 100으로 변환**<br>\n",
    "정수 100을 문자열 '100'으로 변환해보세요.<br>\n",
    "```python\n",
    "num = 100\n",
    "```"
   ]
  },
  {
   "cell_type": "code",
   "execution_count": 39,
   "id": "611c4d6c-1a96-40d9-a9be-36f165d69b1d",
   "metadata": {
    "tags": []
   },
   "outputs": [
    {
     "name": "stdout",
     "output_type": "stream",
     "text": [
      "<class 'str'>\n"
     ]
    }
   ],
   "source": [
    "num = 100\n",
    "num = str(num)\n",
    "print(type(num))"
   ]
  },
  {
   "cell_type": "markdown",
   "id": "0b303601-d887-4c08-996b-ec2da5ea4cd1",
   "metadata": {},
   "source": [
    "**018 문자열을 실수로 변환**<br>\n",
    "문자열 \"15.79\"를 실수(float) 타입으로 변환해보세요."
   ]
  },
  {
   "cell_type": "code",
   "execution_count": 41,
   "id": "1653f007-81de-411b-ba61-54b60662f91b",
   "metadata": {
    "tags": []
   },
   "outputs": [
    {
     "name": "stdout",
     "output_type": "stream",
     "text": [
      "<class 'float'>\n"
     ]
    }
   ],
   "source": [
    "a = \"15.79\"\n",
    "a = float(a)\n",
    "print(type(a))"
   ]
  },
  {
   "cell_type": "markdown",
   "id": "655b8f66-8045-4119-ab33-beafbc21ef41",
   "metadata": {},
   "source": [
    "**019 문자열을 정수로 변환**<br>\n",
    "year라는 변수가 문자열 타입의 연도를 바인딩하고 있습니다. 이를 정수로 변환한 후 최근 3년의 연도를 화면에 출력해보세요.<br>\n",
    "```python\n",
    "year = \"2020\"\n",
    "```"
   ]
  },
  {
   "cell_type": "code",
   "execution_count": 42,
   "id": "8ba73bd4-b674-45ef-af11-0067e3af407e",
   "metadata": {
    "tags": []
   },
   "outputs": [
    {
     "name": "stdout",
     "output_type": "stream",
     "text": [
      "2018 2019 2020\n"
     ]
    }
   ],
   "source": [
    "year = \"2020\"\n",
    "year = int(year)\n",
    "print(year-2, year-1, year)"
   ]
  },
  {
   "cell_type": "markdown",
   "id": "ace32aff-d22e-4987-807a-5b1dcf372968",
   "metadata": {},
   "source": [
    "**020 파이썬 계산**<br>\n",
    "에이컨이 월 48,584원에 무이자 36개월의 조건으로 홈쇼핑에서 판매되고 있습니다. 총 금액은 계산한 후 이를 화면에 출력해보세요. (변수사용하기)"
   ]
  },
  {
   "cell_type": "code",
   "execution_count": 43,
   "id": "72c4d7c0-d338-4f91-8023-96c8eb02441b",
   "metadata": {
    "tags": []
   },
   "outputs": [
    {
     "name": "stdout",
     "output_type": "stream",
     "text": [
      "1749024\n"
     ]
    }
   ],
   "source": [
    "m_cost = 48584\n",
    "print(m_cost*36)"
   ]
  },
  {
   "cell_type": "markdown",
   "id": "949caadf-d480-45b9-b193-4c7d965e872a",
   "metadata": {},
   "source": [
    "**021 문자열 인덱싱**<br>\n",
    "letters가 바인딩하는 문자열에서 첫번째와 세번째 문자를 출력하세요.<br>\n",
    "```python\n",
    ">> letters = 'python'\n",
    "\n",
    "실행 예\n",
    "p t\n",
    "```"
   ]
  },
  {
   "cell_type": "code",
   "execution_count": 44,
   "id": "2893876e-b0a0-4ecc-a302-d51c161f1c99",
   "metadata": {
    "tags": []
   },
   "outputs": [
    {
     "name": "stdout",
     "output_type": "stream",
     "text": [
      "p t\n"
     ]
    }
   ],
   "source": [
    "letters = 'python'\n",
    "print(letters[0], letters[2])"
   ]
  },
  {
   "cell_type": "markdown",
   "id": "6db7691f-62f7-48c3-9b3b-94a45beee0a5",
   "metadata": {},
   "source": [
    "**022 문자열 슬라이싱**<br>\n",
    "자동차 번호가 다음과 같을 때 뒤에 4자리만 출력하세요.<br>\n",
    "```python\n",
    ">> license_plate = \"24가 2210\"\n",
    "\n",
    "실행 예: 2210\n",
    "```"
   ]
  },
  {
   "cell_type": "code",
   "execution_count": 46,
   "id": "2de636ed-8eec-4959-ba2c-5ebcba7d3aee",
   "metadata": {
    "tags": []
   },
   "outputs": [
    {
     "name": "stdout",
     "output_type": "stream",
     "text": [
      "2210\n"
     ]
    }
   ],
   "source": [
    "license_plate = \"24가 2210\"\n",
    "print(license_plate[-4:])"
   ]
  },
  {
   "cell_type": "markdown",
   "id": "e569a3d0-db45-4566-a8e1-d294b3cba54a",
   "metadata": {},
   "source": [
    "**023 문자열 인덱싱**<br>\n",
    "아래의 문자열에서 '홀' 만 출력하세요.<br>\n",
    "```python\n",
    ">> string = \"홀짝홀짝홀짝\"\n",
    "\n",
    "실행 예:\n",
    "홀홀홀\n",
    "```"
   ]
  },
  {
   "cell_type": "code",
   "execution_count": 50,
   "id": "5a0aca1c-2494-4c15-a41b-0f7a2d65e0ab",
   "metadata": {
    "tags": []
   },
   "outputs": [
    {
     "name": "stdout",
     "output_type": "stream",
     "text": [
      "홀짝\n"
     ]
    }
   ],
   "source": [
    "# 슬라이싱할 때 `시작인덱스:끝인덱스:오프셋`을 지정할 수 있습니다.\n",
    "string = \"홀짝홀짝홀짝\"\n",
    "print(string[::3])"
   ]
  },
  {
   "cell_type": "markdown",
   "id": "b1498dea-91d4-4d8d-88ba-3ae2d6ca0fef",
   "metadata": {},
   "source": [
    "**024 문자열 슬라이싱**<br>\n",
    "문자열을 거꾸로 뒤집어 출력하세요.<br>\n",
    "```python\n",
    ">> string = \"PYTHON\"\n",
    "\n",
    "실행 예:\n",
    "NOHTYP\n",
    "```"
   ]
  },
  {
   "cell_type": "code",
   "execution_count": null,
   "id": "b2e74ee2-21ba-4bbe-96a3-a7bff6e4fd19",
   "metadata": {},
   "outputs": [],
   "source": []
  },
  {
   "cell_type": "markdown",
   "id": "3c341fea-ae4e-45b5-98a7-3d34a35acae7",
   "metadata": {},
   "source": [
    "**025 문자열 치환**<br>\n",
    "아래의 전화번호에서 하이푼 ('-')을 제거하고 출력하세요.<br>\n",
    "```python\n",
    ">> phone_number = \"010-1111-2222\"\n",
    "\n",
    "실행 예\n",
    "010 1111 2222\n",
    "```"
   ]
  },
  {
   "cell_type": "code",
   "execution_count": null,
   "id": "9bc99e9e-96cc-4670-8414-f2921ec73696",
   "metadata": {},
   "outputs": [],
   "source": []
  },
  {
   "cell_type": "markdown",
   "id": "89eae0ae-01b6-40c3-bab0-2a4fe9ce0ea0",
   "metadata": {},
   "source": [
    "**026 문자열 다루기**<br>\n",
    "25번 문제의 전화번호를 아래와 같이 모두 붙여 출력하세요.<br>\n",
    "```\n",
    "실행 예\n",
    "01011112222\n",
    "```"
   ]
  },
  {
   "cell_type": "code",
   "execution_count": null,
   "id": "aa5fbc27-8f4e-41a0-843f-ef4c7a229850",
   "metadata": {},
   "outputs": [],
   "source": []
  },
  {
   "cell_type": "markdown",
   "id": "82bf0307-d245-4dcc-b83a-0a8084affa26",
   "metadata": {},
   "source": [
    "**027 문자열 다루기**<br>\n",
    "url 에 저장된 웹 페이지 주소에서 도메인을 출력하세요.<br>\n",
    "```python\n",
    ">> url = \"http://sharebook.kr\"\n",
    "\n",
    "실행 예:\n",
    "kr\n",
    "```"
   ]
  },
  {
   "cell_type": "code",
   "execution_count": null,
   "id": "de0ba63c-2bdb-4a24-a35c-a2b054b6d4c6",
   "metadata": {},
   "outputs": [],
   "source": []
  },
  {
   "cell_type": "markdown",
   "id": "677ad36d-c7d0-4634-aaaf-19dc8888c946",
   "metadata": {},
   "source": [
    "**028 문자열은 immutable**<br>\n",
    "아래 코드의 실행 결과를 예상해보세요.<br>\n",
    "```python\n",
    ">> lang = 'python'\n",
    ">> lang[0] = 'P'\n",
    ">> print(lang)\n",
    "```"
   ]
  },
  {
   "cell_type": "code",
   "execution_count": null,
   "id": "c2a9d0fe-dc62-4586-968a-711795559654",
   "metadata": {},
   "outputs": [],
   "source": []
  },
  {
   "cell_type": "markdown",
   "id": "c43860ca-2fb9-4601-a9bf-6bf0934f5002",
   "metadata": {},
   "source": [
    "**029 replace 메서드**<br>\n",
    "아래 문자열에서 소문자 'a'를 대문자 'A'로 변경하세요.<br>\n",
    "```python\n",
    ">> string = 'abcdfe2a354a32a'\n",
    "\n",
    "실행 예:\n",
    "Abcdfe2A354A32A\n",
    "```"
   ]
  },
  {
   "cell_type": "code",
   "execution_count": null,
   "id": "ad084bf4-e23f-4e57-a1b1-7d2603850ffb",
   "metadata": {},
   "outputs": [],
   "source": []
  },
  {
   "cell_type": "markdown",
   "id": "6a3def59-3d65-460c-8a4e-15f6c2a0670c",
   "metadata": {},
   "source": [
    "**030 replace 메서드**<br>\n",
    "아래 코드의 실행 결과를 예상해보세요.<br>\n",
    "```python\n",
    ">> string = 'abcd'\n",
    ">> string.replace('b', 'B')\n",
    ">> print(string)\n",
    "```"
   ]
  },
  {
   "cell_type": "code",
   "execution_count": null,
   "id": "276434bb-27e7-4a73-9e3c-972009b92dcd",
   "metadata": {},
   "outputs": [],
   "source": []
  },
  {
   "cell_type": "markdown",
   "id": "1e0d9d2a-6f17-4edc-aef3-5b71205bc260",
   "metadata": {},
   "source": [
    "**031 문자열 합치기**<br>\n",
    "아래 코드의 실행 결과를 예상해보세요.<br>\n",
    "```python\n",
    ">> a = \"3\"\n",
    ">> b = \"4\"\n",
    ">> print(a + b)\n",
    "```"
   ]
  },
  {
   "cell_type": "code",
   "execution_count": null,
   "id": "c5a6e026-18ec-4760-9065-919abb3d0219",
   "metadata": {},
   "outputs": [],
   "source": []
  },
  {
   "cell_type": "markdown",
   "id": "462fbfd0-9c35-4387-9a42-9ef550436b0a",
   "metadata": {},
   "source": [
    "**032 문자열 곱하기**<br>\n",
    "아래 코드의 실행 결과를 예상해보세요.<br>\n",
    "```python\n",
    ">> print(\"Hi\" * 3)\n",
    "```"
   ]
  },
  {
   "cell_type": "code",
   "execution_count": null,
   "id": "b9f95c5a-b111-4ebc-bd47-4206542d4b53",
   "metadata": {},
   "outputs": [],
   "source": []
  },
  {
   "cell_type": "markdown",
   "id": "33434e39-8693-4d5b-adbf-218d3ad25af4",
   "metadata": {},
   "source": [
    "**033 문자열 곱하기**<br>\n",
    "화면에 '-'를 80개 출력하세요.<br>\n",
    "```\n",
    "실행 예:\n",
    "--------------------------------------------------------------------------------\n",
    "```"
   ]
  },
  {
   "cell_type": "code",
   "execution_count": null,
   "id": "ab403613-e82c-4d5f-a9e5-8bc751129625",
   "metadata": {},
   "outputs": [],
   "source": []
  },
  {
   "cell_type": "markdown",
   "id": "9ec43fa6-b595-43de-92b6-38cf86623016",
   "metadata": {},
   "source": [
    "**034 문자열 곱하기**<br>\n",
    "변수에 다음과 같은 문자열이 바인딩되어 있습니다.<br>\n",
    "```python\n",
    ">>> t1 = 'python'\n",
    ">>> t2 = 'java'\n",
    "```\n",
    "변수에 문자열 더하기와 문자열 곱하기를 사용해서 아래와 같이 출력해보세요.<br>\n",
    "```\n",
    "실행 예:\n",
    "python java python java python java python java\n",
    "```"
   ]
  },
  {
   "cell_type": "code",
   "execution_count": null,
   "id": "e64c3299-30c7-4f93-b930-52f0833d9a1a",
   "metadata": {},
   "outputs": [],
   "source": []
  },
  {
   "cell_type": "markdown",
   "id": "7dad078c-86f5-42b2-b407-cd18c60f66bd",
   "metadata": {},
   "source": [
    "**035 문자열 출력**<br>\n",
    "변수에 다음과 같이 문자열과 정수가 바인딩되어 있을 때 % formatting을 사용해서 다음과 같이 출력해보세요.<br>\n",
    "```python\n",
    "name1 = \"김민수\" \n",
    "age1 = 10\n",
    "name2 = \"이철희\"\n",
    "age2 = 13\n",
    "\n",
    "출력:\n",
    "이름: 김민수 나이: 10\n",
    "이름: 이철희 나이: 13\n",
    "```"
   ]
  },
  {
   "cell_type": "code",
   "execution_count": null,
   "id": "f1d9d775-4209-4cca-9dba-928ec8c86208",
   "metadata": {},
   "outputs": [],
   "source": []
  },
  {
   "cell_type": "markdown",
   "id": "99221dcb-27d3-46d1-ae57-6ddf53a71e22",
   "metadata": {},
   "source": [
    "**036 문자열 출력**<br>\n",
    "문자열의 format( ) 메서드를 사용해서 035번 문제를 다시 풀어보세요."
   ]
  },
  {
   "cell_type": "code",
   "execution_count": null,
   "id": "b25106e4-6bca-45ff-b26c-55b4caccb401",
   "metadata": {},
   "outputs": [],
   "source": []
  },
  {
   "cell_type": "markdown",
   "id": "41f27dad-3e9b-4391-bca9-f95beb5955a8",
   "metadata": {},
   "source": [
    "**037 문자열 출력**<br>\n",
    "파이썬 3.6부터 지원하는 f-string을 사용해서 035번 문제를 다시 풀어보세요."
   ]
  },
  {
   "cell_type": "code",
   "execution_count": null,
   "id": "081e4fb7-a152-4135-88b4-2d777b1515a3",
   "metadata": {},
   "outputs": [],
   "source": []
  },
  {
   "cell_type": "markdown",
   "id": "74d69e80-7a05-46db-9e96-534d82969eea",
   "metadata": {},
   "source": [
    "**038 컴마 제거하기**<br>\n",
    "삼성전자의 상장주식수가 다음과 같습니다. 컴마를 제거한 후 이를 정수 타입으로 변환해보세요.<br>\n",
    "```\n",
    "상장주식수 = \"5,969,782,550\"\n",
    "```"
   ]
  },
  {
   "cell_type": "code",
   "execution_count": null,
   "id": "a12c4860-6b2b-4c1c-a930-a6033e09f261",
   "metadata": {},
   "outputs": [],
   "source": []
  },
  {
   "cell_type": "markdown",
   "id": "06366db4-f2d9-4410-988c-459739a0b366",
   "metadata": {},
   "source": [
    "**039 문자열 슬라이싱**<br>\n",
    "다음과 같은 문자열에서 '2020/03'만 출력하세요.<br>\n",
    "```python\n",
    "분기 = \"2020/03(E) (IFRS연결)\"\n",
    "```"
   ]
  },
  {
   "cell_type": "code",
   "execution_count": null,
   "id": "2948699b-540a-4812-b182-5ce779627643",
   "metadata": {},
   "outputs": [],
   "source": []
  },
  {
   "cell_type": "markdown",
   "id": "4dd049dd-94c2-4913-96c1-db51c5639fab",
   "metadata": {},
   "source": [
    "**040 strip 메서드**\n",
    "문자열의 좌우의 공백이 있을 때 이를 제거해보세요.<br>\n",
    "```python\n",
    "data = \"   삼성전자    \"\n",
    "```"
   ]
  },
  {
   "cell_type": "code",
   "execution_count": null,
   "id": "136c1f28-ac20-4e0d-bc6a-e55c8284f202",
   "metadata": {},
   "outputs": [],
   "source": []
  },
  {
   "cell_type": "markdown",
   "id": "beba6ebb-d7f3-4e0c-8e19-761bec191d4a",
   "metadata": {},
   "source": [
    "**041 upper 메서드**<br>\n",
    "다음과 같은 문자열이 있을 때 이를 대문자 BTC_KRW로 변경하세요.<br>\n",
    "```\n",
    "ticker = \"btc_krw\"\n",
    "```"
   ]
  },
  {
   "cell_type": "code",
   "execution_count": null,
   "id": "128a739c-b351-4161-9ca6-bb30a22f6646",
   "metadata": {},
   "outputs": [],
   "source": []
  },
  {
   "cell_type": "markdown",
   "id": "78aa577c-d91a-4a37-80cb-6538ab2c4b56",
   "metadata": {},
   "source": [
    "**042 lower 메서드**<br>\n",
    "다음과 같은 문자열이 있을 때 이를 소문자 btc_krw로 변경하세요.<br>\n",
    "```\n",
    "ticker = \"BTC_KRW\"\n",
    "```"
   ]
  },
  {
   "cell_type": "code",
   "execution_count": null,
   "id": "30b13858-083a-4901-b01e-9db08de10f39",
   "metadata": {},
   "outputs": [],
   "source": []
  },
  {
   "cell_type": "markdown",
   "id": "532f7ce1-d906-49c9-97ce-0e885b4ebec9",
   "metadata": {},
   "source": [
    "**043 capitalize 메서드**<br>\n",
    "문자열 'hello'가 있을 때 이를 'Hello'로 변경해보세요."
   ]
  },
  {
   "cell_type": "code",
   "execution_count": null,
   "id": "47cb4cb3-2579-4e45-9889-34412d843cf7",
   "metadata": {},
   "outputs": [],
   "source": []
  },
  {
   "cell_type": "markdown",
   "id": "907062ee-1780-4fdd-b755-b459c52a8cff",
   "metadata": {},
   "source": [
    "**044 endswith 메서드**<br>\n",
    "파일 이름이 문자열로 저장되어 있을 때 endswith 메서드를 사용해서 파일 이름이 'xlsx'로 끝나는지 확인해보세요.<br>\n",
    "```\n",
    "file_name = \"보고서.xlsx\"\n",
    "```"
   ]
  },
  {
   "cell_type": "code",
   "execution_count": null,
   "id": "d30e02a2-9b6a-446c-a8c8-2300018f7538",
   "metadata": {},
   "outputs": [],
   "source": []
  },
  {
   "cell_type": "markdown",
   "id": "ed5ec369-41db-40f1-b43b-37b352417fa1",
   "metadata": {},
   "source": [
    "**045 endswith 메서드**<br>\n",
    "파일 이름이 문자열로 저장되어 있을 때 endswith 메서드를 사용해서 파일 이름이 'xlsx' 또는 'xls'로 끝나는지 확인해보세요.<br>\n",
    "```\n",
    "file_name = \"보고서.xlsx\"\n",
    "```"
   ]
  },
  {
   "cell_type": "code",
   "execution_count": null,
   "id": "7f5cd605-6f64-4f6c-b9f5-e729463934f5",
   "metadata": {},
   "outputs": [],
   "source": []
  },
  {
   "cell_type": "markdown",
   "id": "8c9960cc-c878-4ed8-bf67-9c1f4876481e",
   "metadata": {},
   "source": [
    "**046 startswith 메서드**<br>\n",
    "파일 이름이 문자열로 저장되어 있을 때 startswith 메서드를 사용해서 파일 이름이 '2020'로 시작하는지 확인해보세요.<br>\n",
    "```\n",
    "file_name = \"2020_보고서.xlsx\"\n",
    "```"
   ]
  },
  {
   "cell_type": "code",
   "execution_count": null,
   "id": "89ad7102-a692-477f-bb83-3451bf270643",
   "metadata": {},
   "outputs": [],
   "source": []
  },
  {
   "cell_type": "markdown",
   "id": "4b5e61ab-f37e-4d3a-a411-551f85a42646",
   "metadata": {},
   "source": [
    "**047 split 메서드**<br>\n",
    "다음과 같은 문자열이 있을 때 공백을 기준으로 문자열을 나눠보세요.<br>\n",
    "```\n",
    "a = \"hello world\"\n",
    "```"
   ]
  },
  {
   "cell_type": "code",
   "execution_count": null,
   "id": "8469de42-ab68-4cae-80f7-59a4f3a6166e",
   "metadata": {},
   "outputs": [],
   "source": []
  },
  {
   "cell_type": "markdown",
   "id": "553d3b8a-52f4-431b-aa72-df4e5030fd47",
   "metadata": {},
   "source": [
    "**048 split 메서드**<br>\n",
    "다음과 같이 문자열이 있을 때 btc와 krw로 나눠보세요.<br>\n",
    "```\n",
    "ticker = \"btc_krw\"\n",
    "```"
   ]
  },
  {
   "cell_type": "code",
   "execution_count": null,
   "id": "be937654-c8e8-47de-8b5f-62dc98efd415",
   "metadata": {},
   "outputs": [],
   "source": []
  },
  {
   "cell_type": "markdown",
   "id": "4b555193-cffd-4771-a204-aa787fe490e7",
   "metadata": {},
   "source": [
    "**049 split 메서드**<br>\n",
    "다음과 같이 날짜를 표현하는 문자열이 있을 때 연도, 월, 일로 나눠보세요.<br>\n",
    "```\n",
    "date = \"2020-05-01\"\n",
    "```"
   ]
  },
  {
   "cell_type": "code",
   "execution_count": null,
   "id": "3364eba7-6275-41e0-9a55-03a878e6027a",
   "metadata": {},
   "outputs": [],
   "source": []
  },
  {
   "cell_type": "markdown",
   "id": "09dabe6f-10b6-4eff-a18c-f2c2552def64",
   "metadata": {},
   "source": [
    "**050 rstrip 메서드**<br>\n",
    "문자열의 오른쪽에 공백이 있을 때 이를 제거해보세요.<br>\n",
    "```\n",
    "data = \"039490     \"\n",
    "```"
   ]
  },
  {
   "cell_type": "code",
   "execution_count": null,
   "id": "dd790b1b-e2e6-4e7e-9538-5ee2451afbaa",
   "metadata": {},
   "outputs": [],
   "source": []
  }
 ],
 "metadata": {
  "kernelspec": {
   "display_name": "Python 3 (ipykernel)",
   "language": "python",
   "name": "python3"
  },
  "language_info": {
   "codemirror_mode": {
    "name": "ipython",
    "version": 3
   },
   "file_extension": ".py",
   "mimetype": "text/x-python",
   "name": "python",
   "nbconvert_exporter": "python",
   "pygments_lexer": "ipython3",
   "version": "3.11.5"
  }
 },
 "nbformat": 4,
 "nbformat_minor": 5
}
