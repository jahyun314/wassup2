{
 "cells": [
  {
   "cell_type": "markdown",
   "id": "c7a2f098-d33c-45f2-8343-ef000254a34e",
   "metadata": {},
   "source": [
    "**201**<br>\n",
    "\"비트코인\" 문자열을 화면에 출력하는 print_coin() 함수를 정의하라."
   ]
  },
  {
   "cell_type": "code",
   "execution_count": null,
   "id": "84fdd279-64ed-4a8e-8e54-d63d878bac28",
   "metadata": {},
   "outputs": [],
   "source": []
  },
  {
   "cell_type": "markdown",
   "id": "22832c7f-7135-4395-b33a-1f22aa57dd29",
   "metadata": {},
   "source": [
    "**202**<br>\n",
    "201번에서 정의한 함수를 호출하라."
   ]
  },
  {
   "cell_type": "code",
   "execution_count": null,
   "id": "68c56e73-10cb-462f-a2b4-e1d82f6f03c2",
   "metadata": {},
   "outputs": [],
   "source": []
  },
  {
   "cell_type": "markdown",
   "id": "f7ff4a3c-1803-48c7-a3a1-26eaa7fde50b",
   "metadata": {},
   "source": [
    "**203**<br>\n",
    "201번에서 정의한 print_coin 함수를 100번호출하라."
   ]
  },
  {
   "cell_type": "code",
   "execution_count": null,
   "id": "e8ca5c6a-15c7-459e-af84-2c016250d346",
   "metadata": {},
   "outputs": [],
   "source": []
  },
  {
   "cell_type": "markdown",
   "id": "e057d7da-3b3a-4aea-a6dc-ccb01a43b624",
   "metadata": {},
   "source": [
    "**204**<br>\n",
    "\"비트코인\" 문자열을 100번 화면에 출력하는 print_coins() 함수를 정의하라."
   ]
  },
  {
   "cell_type": "code",
   "execution_count": null,
   "id": "fb43295b-4faf-4743-8da7-c2a5367dc0d6",
   "metadata": {},
   "outputs": [],
   "source": []
  },
  {
   "cell_type": "markdown",
   "id": "487da423-f904-4079-8dd9-8605c0b45bc1",
   "metadata": {},
   "source": [
    "**205**<br>\n",
    "아래의 에러가 발생하는 이유에 대해 설명하라.\n",
    "```\n",
    "hello()\n",
    "def hello():\n",
    "    print(\"Hi\")\n",
    "```\n",
    "실행 예\n",
    "```\n",
    "NameError: name 'hello' is not defined\n",
    "```"
   ]
  },
  {
   "cell_type": "code",
   "execution_count": null,
   "id": "f38fc91d-1a8d-41ca-b801-8c34a4fcac2a",
   "metadata": {},
   "outputs": [],
   "source": []
  },
  {
   "cell_type": "markdown",
   "id": "2fb2f1f6-4fa5-4a21-a3b7-732ef3a727a5",
   "metadata": {},
   "source": [
    "**206**<br>\n",
    "아래 코드의 실행 결과를 예측하라.\n",
    "```\n",
    "def message() :\n",
    "    print(\"A\")\n",
    "    print(\"B\")\n",
    "\n",
    "message()\n",
    "print(\"C\")\n",
    "message()\n",
    "```"
   ]
  },
  {
   "cell_type": "code",
   "execution_count": null,
   "id": "24c5f664-d3a4-4d69-9b87-1500df3aad03",
   "metadata": {},
   "outputs": [],
   "source": []
  },
  {
   "cell_type": "markdown",
   "id": "15f4384e-1871-48ba-86a6-252f208b129d",
   "metadata": {},
   "source": [
    "**207**<br>\n",
    "아래 코드의 실행 결과를 예측하라. (읽기 어려운 코드의 예입니다.)\n",
    "```\n",
    "print(\"A\")\n",
    "\n",
    "def message() :\n",
    "    print(\"B\")\n",
    "\n",
    "print(\"C\")\n",
    "message()\n",
    "```"
   ]
  },
  {
   "cell_type": "code",
   "execution_count": null,
   "id": "775f1f20-aaf4-45cd-a405-92bde1908c94",
   "metadata": {},
   "outputs": [],
   "source": []
  },
  {
   "cell_type": "markdown",
   "id": "6c923d88-9dc6-4b42-bffb-f7497f2c41da",
   "metadata": {},
   "source": [
    "**208**<br>\n",
    "아래 코드의 실행 결과를 예측하라. (읽기 어려운 코드의 예입니다.)\n",
    "```\n",
    "print(\"A\")\n",
    "def message1() :\n",
    "    print(\"B\")\n",
    "print(\"C\")\n",
    "def message2() :\n",
    "    print(\"D\")\n",
    "message1()\n",
    "print(\"E\")\n",
    "message2()\n",
    "```"
   ]
  },
  {
   "cell_type": "code",
   "execution_count": null,
   "id": "ca8373b8-b320-4ad1-9c1e-c706b0f509f0",
   "metadata": {},
   "outputs": [],
   "source": []
  },
  {
   "cell_type": "markdown",
   "id": "568b3ab5-a025-45e5-a8ff-3a43e87af726",
   "metadata": {},
   "source": [
    "**209**<br>\n",
    "아래 코드의 실행 결과를 예측하라.\n",
    "```\n",
    "def message1():\n",
    "    print(\"A\")\n",
    "\n",
    "def message2():\n",
    "    print(\"B\")\n",
    "    message1()\n",
    "\n",
    "message2()\n",
    "```"
   ]
  },
  {
   "cell_type": "code",
   "execution_count": null,
   "id": "1f0a6d67-1b1b-4c69-9cfd-beafa269fcce",
   "metadata": {},
   "outputs": [],
   "source": []
  },
  {
   "cell_type": "markdown",
   "id": "5672d81b-f8ba-4603-b850-0b6deb21822e",
   "metadata": {},
   "source": [
    "**210**<br>\n",
    "아래 코드의 실행 결과를 예측하라.\n",
    "```\n",
    "def message1():\n",
    "    print(\"A\")\n",
    "\n",
    "def message2():\n",
    "    print(\"B\")\n",
    "\n",
    "def message3():\n",
    "    for i in range (3) :\n",
    "        message2()\n",
    "        print(\"C\")\n",
    "    message1()\n",
    "\n",
    "message3()\n",
    "```"
   ]
  },
  {
   "cell_type": "code",
   "execution_count": null,
   "id": "bdcd45b4-7117-4a4e-9089-455c1cc39ff8",
   "metadata": {},
   "outputs": [],
   "source": []
  },
  {
   "cell_type": "markdown",
   "id": "bfc33a5d-c281-4657-8659-a8d2fe21151b",
   "metadata": {},
   "source": [
    "**211**<br>\n",
    "함수의 호출 결과를 예측하라.\n",
    "```\n",
    "def 함수(문자열) :\n",
    "    print(문자열)\n",
    "\n",
    "함수(\"안녕\")\n",
    "함수(\"Hi\")\n",
    "```"
   ]
  },
  {
   "cell_type": "code",
   "execution_count": null,
   "id": "0695baa7-df47-49af-8376-8748efe656d0",
   "metadata": {},
   "outputs": [],
   "source": []
  },
  {
   "cell_type": "markdown",
   "id": "cd3a5c77-824c-4843-b546-511362e23991",
   "metadata": {},
   "source": [
    "**212**<br>\n",
    "함수의 호출 결과를 예측하라.\n",
    "```\n",
    "def 함수(a, b) :\n",
    "    print(a + b)\n",
    "\n",
    "함수(3, 4)\n",
    "함수(7, 8)\n",
    "```"
   ]
  },
  {
   "cell_type": "code",
   "execution_count": null,
   "id": "5fe29547-c963-4bc4-8840-16e65b486ec2",
   "metadata": {},
   "outputs": [],
   "source": []
  },
  {
   "cell_type": "markdown",
   "id": "174d5c71-e252-4ddc-9bc4-54d705b797cb",
   "metadata": {},
   "source": [
    "**213**<br>\n",
    "아래와 같은 에러가 발생하는 원인을 설명하라.\n",
    "```\n",
    "def 함수(문자열) :\n",
    "    print(문자열)\n",
    "    \n",
    "함수()\n",
    "TypeError: 함수() missing 1 required positional argument: '문자열'\n",
    "```"
   ]
  },
  {
   "cell_type": "code",
   "execution_count": null,
   "id": "edada733-578f-499a-99c6-8876f8ee16cd",
   "metadata": {},
   "outputs": [],
   "source": []
  },
  {
   "cell_type": "markdown",
   "id": "c3f89839-47e8-4711-b9e0-aaf4ee7454a4",
   "metadata": {},
   "source": [
    "**214**<br>\n",
    "아래와 같은 에러가 발생하는 원인을 설명하라.\n",
    "```\n",
    "def 함수(a, b) :\n",
    "    print(a + b)\n",
    "\n",
    "함수(\"안녕\", 3)\n",
    "TypeError: must be str, not int\n",
    "```"
   ]
  },
  {
   "cell_type": "code",
   "execution_count": null,
   "id": "27f08464-eed8-4411-9e10-b3f696738e46",
   "metadata": {},
   "outputs": [],
   "source": []
  },
  {
   "cell_type": "markdown",
   "id": "40eac5ee-3a2c-4674-bd7f-ebb8130adf61",
   "metadata": {},
   "source": [
    "**215**<br>\n",
    "하나의 문자를 입력받아 문자열 끝에 \":D\" 스마일 문자열을 이어 붙여 출력하는 print_with_smile 함수를 정의하라."
   ]
  },
  {
   "cell_type": "code",
   "execution_count": null,
   "id": "9b416920-28f1-4e32-a2e1-3e316ddd8e2e",
   "metadata": {},
   "outputs": [],
   "source": []
  },
  {
   "cell_type": "markdown",
   "id": "cadb55a4-bf94-4fc1-a3dc-50f00b8f532e",
   "metadata": {},
   "source": [
    "**216**<br>\n",
    "215에서 정의한 함수를 호출하라. 파라미터는 \"안녕하세요\"로 입력하라."
   ]
  },
  {
   "cell_type": "code",
   "execution_count": null,
   "id": "369bd273-da5f-4c11-8b92-b672b9d8fb24",
   "metadata": {},
   "outputs": [],
   "source": []
  },
  {
   "cell_type": "markdown",
   "id": "b148e669-9a63-4b74-9739-27f8d711493b",
   "metadata": {},
   "source": [
    "**217**<br>\n",
    "현재 가격을 입력 받아 상한가 (30%)를 출력하는 print_upper_price 함수를 정의하라."
   ]
  },
  {
   "cell_type": "code",
   "execution_count": null,
   "id": "e1ba3c5a-0394-4dc8-a3d9-d782c95a3c25",
   "metadata": {},
   "outputs": [],
   "source": []
  },
  {
   "cell_type": "markdown",
   "id": "4d90f9c1-93de-4109-a45d-4645b651401f",
   "metadata": {},
   "source": [
    "**218**<br>\n",
    "두 개의 숫자를 입력받아 두 수의 합을 출력하는 print_sum 함수를 정의하라."
   ]
  },
  {
   "cell_type": "code",
   "execution_count": null,
   "id": "a5f453c1-f106-4ea6-87ce-b124474d30eb",
   "metadata": {},
   "outputs": [],
   "source": []
  },
  {
   "cell_type": "markdown",
   "id": "6d36cd07-d626-45dd-97e2-f2ea5f4e0b81",
   "metadata": {},
   "source": [
    "**219**<br>\n",
    "두 개의 숫자를 입력받아 합/차/곱/나눗셈을 출력하는 print_arithmetic_operation 함수를 작성하라.\n",
    "```\n",
    "print_arithmetic_operation(3, 4)\n",
    "\n",
    "3 + 4 = 7\n",
    "3 - 4 = -1\n",
    "3 * 4 = 12\n",
    "3 / 4 = 0.75\n",
    "```"
   ]
  },
  {
   "cell_type": "code",
   "execution_count": null,
   "id": "0868a493-9e44-4d0b-944c-9e12c7cc809d",
   "metadata": {},
   "outputs": [],
   "source": []
  },
  {
   "cell_type": "markdown",
   "id": "9668876c-f73a-45f7-9d79-a6d476041065",
   "metadata": {},
   "source": [
    "**220**<br>\n",
    "세 개의 숫자를 입력받아 가장 큰수를 출력하는 print_max 함수를 정의하라. 단 if 문을 사용해서 수를 비교하라."
   ]
  },
  {
   "cell_type": "code",
   "execution_count": null,
   "id": "26f9bd96-bafa-4a1f-9504-20e0d18d276c",
   "metadata": {},
   "outputs": [],
   "source": []
  },
  {
   "cell_type": "markdown",
   "id": "6b617ab5-558d-409a-877c-f1e225553603",
   "metadata": {},
   "source": [
    "**221**<br>\n",
    "입력된 문자열을 역순으로 출력하는 print_reverse 함수를 정의하라.\n",
    "```\n",
    "print_reverse(\"python\")\n",
    "nohtyp\n",
    "```"
   ]
  },
  {
   "cell_type": "code",
   "execution_count": null,
   "id": "9320a63a-c147-4c59-a173-d94d2a51d828",
   "metadata": {},
   "outputs": [],
   "source": []
  },
  {
   "cell_type": "markdown",
   "id": "d9a2a65e-50a7-47ff-96e6-198301939001",
   "metadata": {},
   "source": [
    "**222**<br>\n",
    "성적 리스트를 입력 받아 평균을 출력하는 print_score 함수를 정의하라.\n",
    "```\n",
    "print_score ([1, 2, 3])\n",
    "2.0\n",
    "```"
   ]
  },
  {
   "cell_type": "code",
   "execution_count": null,
   "id": "4f818f86-6e87-4a33-ac7b-b608ca346a33",
   "metadata": {},
   "outputs": [],
   "source": []
  },
  {
   "cell_type": "markdown",
   "id": "475c6fb9-f62e-41c2-b983-85f4c572dc49",
   "metadata": {},
   "source": [
    "**223**<br>\n",
    "하나의 리스트를 입력받아 짝수만 화면에 출력하는 print_even 함수를 정의하라.\n",
    "```\n",
    "print_even ([1, 3, 2, 10, 12, 11, 15])\n",
    "\n",
    "2\n",
    "10\n",
    "12\n",
    "```"
   ]
  },
  {
   "cell_type": "code",
   "execution_count": null,
   "id": "32975e0e-5484-472d-98aa-2081d1005fd8",
   "metadata": {},
   "outputs": [],
   "source": []
  },
  {
   "cell_type": "markdown",
   "id": "70c1d378-6a8b-43e4-a824-0a043c053f98",
   "metadata": {},
   "source": [
    "**224**<br>\n",
    "하나의 딕셔너리를 입력받아 딕셔너리의 key 값을 화면에 출력하는 print_keys 함수를 정의하라.\n",
    "```\n",
    "print_keys ({\"이름\":\"김말똥\", \"나이\":30, \"성별\":0})\n",
    "\n",
    "이름\n",
    "나이\n",
    "성별\n",
    "```"
   ]
  },
  {
   "cell_type": "code",
   "execution_count": null,
   "id": "5b849a77-7f79-4904-8a6a-e24dc156cc13",
   "metadata": {},
   "outputs": [],
   "source": []
  },
  {
   "cell_type": "markdown",
   "id": "dfb8c1a0-a2a1-4ab9-9c44-a57596965eb1",
   "metadata": {},
   "source": [
    "**225**<br>\n",
    "my_dict에는 날짜를 키값으로 OHLC가 리스트로 저장돼 있다.\n",
    "```\n",
    "my_dict = {\"10/26\" : [100, 130, 100, 100],\n",
    "           \"10/27\" : [10, 12, 10, 11]}\n",
    "```\n",
    "my_dict와 날짜 키값을 입력받아 OHLC 리스트를 출력하는 print_value_by_key 함수를 정의하라.\n",
    "```\n",
    "print_value_by_key  (my_dict, \"10/26\")\n",
    "[100, 130, 100, 100]\n",
    "```"
   ]
  },
  {
   "cell_type": "code",
   "execution_count": null,
   "id": "e08e63dc-ff0e-4db2-b7f7-5b704355d0ab",
   "metadata": {},
   "outputs": [],
   "source": []
  },
  {
   "cell_type": "markdown",
   "id": "6f5e54c5-9b8d-483c-b692-828784742af1",
   "metadata": {},
   "source": [
    "**226**<br>\n",
    "입력 문자열을 한 줄에 다섯글자씩 출력하는 print_5xn(string) 함수를 작성하라.\n",
    "```\n",
    "print_5xn(\"아이엠어보이유알어걸\")\n",
    "\n",
    "아이엠어보\n",
    "이유알어걸\n",
    "```"
   ]
  },
  {
   "cell_type": "code",
   "execution_count": null,
   "id": "fd66f72a-6da9-4679-81db-171ddd232e24",
   "metadata": {},
   "outputs": [],
   "source": []
  },
  {
   "cell_type": "markdown",
   "id": "8483fee0-c2b7-4196-aca1-163a5147850f",
   "metadata": {},
   "source": [
    "**227**<br>\n",
    "문자열과 한줄에 출력될 글자 수를 입력을 받아 한 줄에 입력된 글자 수만큼 출력하는 print_mxn(string) 함수를 작성하라.\n",
    "```\n",
    "printmxn(\"아이엠어보이유알어걸\", 3)\n",
    "\n",
    "아이엠\n",
    "어보이\n",
    "유알어\n",
    "걸\n",
    "```"
   ]
  },
  {
   "cell_type": "code",
   "execution_count": null,
   "id": "70796ea0-7415-4fb4-bdba-259a0d6396f1",
   "metadata": {},
   "outputs": [],
   "source": []
  },
  {
   "cell_type": "markdown",
   "id": "0d7ff9da-8a8a-4b68-9b26-54331d26b693",
   "metadata": {},
   "source": [
    "**228**<br>\n",
    "연봉을 입력받아 월급을 계산하는 calc_monthly_salary(annual_salary) 함수를 정의하라. 회사는 연봉을 12개월로 나누어 분할 지급하며, 이 때 1원 미만은 버림한다.\n",
    "```\n",
    "calc_monthly_salary(12000000)\n",
    "1000000\n",
    "```"
   ]
  },
  {
   "cell_type": "code",
   "execution_count": null,
   "id": "165b8152-1740-4508-8a81-711e313f3be3",
   "metadata": {},
   "outputs": [],
   "source": []
  },
  {
   "cell_type": "markdown",
   "id": "85191ed8-effe-43d3-a8ef-8700d6bf52bd",
   "metadata": {},
   "source": [
    "**229**<br>\n",
    "아래 코드의 실행 결과를 예측하라.\n",
    "```\n",
    "def my_print (a, b) :\n",
    "    print(\"왼쪽:\", a)\n",
    "    print(\"오른쪽:\", b)\n",
    "\n",
    "my_print(a=100, b=200)\n",
    "```"
   ]
  },
  {
   "cell_type": "code",
   "execution_count": null,
   "id": "259f9779-d9c7-46ae-b213-9afb96936c3c",
   "metadata": {},
   "outputs": [],
   "source": []
  },
  {
   "cell_type": "markdown",
   "id": "29d58b9e-029d-4c20-9611-82675c91e108",
   "metadata": {},
   "source": [
    "**230**<br>\n",
    "아래 코드의 실행 결과를 예측하라.\n",
    "```\n",
    "def my_print (a, b) :\n",
    "    print(\"왼쪽:\", a)\n",
    "    print(\"오른쪽:\", b)\n",
    "\n",
    "my_print(b=100, a=200)\n",
    "```"
   ]
  },
  {
   "cell_type": "code",
   "execution_count": null,
   "id": "ac00ecd5-d298-4d77-9aa6-bddc8cc7f5d2",
   "metadata": {},
   "outputs": [],
   "source": []
  },
  {
   "cell_type": "markdown",
   "id": "d1f74ae2-7392-47f4-bbb9-996852351b9b",
   "metadata": {},
   "source": [
    "**231**<br>\n",
    "아래 코드를 실행한 결과를 예상하라.\n",
    "```\n",
    "def n_plus_1 (n) :\n",
    "    result = n + 1\n",
    "\n",
    "n_plus_1(3)\n",
    "print (result)\n",
    "```"
   ]
  },
  {
   "cell_type": "code",
   "execution_count": null,
   "id": "dfb4b2b9-caa1-4d8e-a443-b112964ce91f",
   "metadata": {},
   "outputs": [],
   "source": []
  },
  {
   "cell_type": "markdown",
   "id": "4def613a-1126-4598-8104-3556a5d47e50",
   "metadata": {},
   "source": [
    "**232**<br>\n",
    "문자열 하나를 입력받아 인터넷 주소를 반환하는 make_url 함수를 정의하라.\n",
    "```\n",
    "make_url(\"naver\")\n",
    "www.naver.com\n",
    "```"
   ]
  },
  {
   "cell_type": "code",
   "execution_count": null,
   "id": "c7078f07-2c8e-4234-b77a-c6ad0338c281",
   "metadata": {},
   "outputs": [],
   "source": []
  },
  {
   "cell_type": "markdown",
   "id": "17ea86e0-d889-4d1f-a40b-28693f967007",
   "metadata": {},
   "source": [
    "**233**<br>\n",
    "문자열을 입력받아 각 문자들로 구성된 리스트로 반환하는 make_list 함수를 정의하라.\n",
    "```\n",
    "make_list(\"abcd\")\n",
    "['a', 'b', 'c', 'd']\n",
    "```"
   ]
  },
  {
   "cell_type": "code",
   "execution_count": null,
   "id": "19faf005-83ce-4ab8-8c52-70bf61b1e68e",
   "metadata": {},
   "outputs": [],
   "source": []
  },
  {
   "cell_type": "markdown",
   "id": "b345415e-b4f2-4944-957f-16788f2493f1",
   "metadata": {},
   "source": [
    "**234**<br>\n",
    "숫자로 구성된 하나의 리스트를 입력받아, 짝수들을 추출하여 리스트로 반환하는 pickup_even 함수를 구현하라.\n",
    "```\n",
    "pickup_even([3, 4, 5, 6, 7, 8])\n",
    "[4, 6, 8]\n",
    "```"
   ]
  },
  {
   "cell_type": "code",
   "execution_count": null,
   "id": "16dcd9b7-ee54-43a1-ae1d-7b5a990fb4d9",
   "metadata": {},
   "outputs": [],
   "source": []
  },
  {
   "cell_type": "markdown",
   "id": "23c46bcd-c3d2-4149-92d7-93cb1e5c7f8c",
   "metadata": {},
   "source": [
    "**235**<br>\n",
    "콤마가 포함된 문자열 숫자를 입력받아 정수로 변환하는 convert_int 함수를 정의하라.\n",
    "```\n",
    "convert_int(\"1,234,567\")\n",
    "1234567\n",
    "```"
   ]
  },
  {
   "cell_type": "code",
   "execution_count": null,
   "id": "f437a37f-b3f3-47f9-a8ff-9b4d83ba0a34",
   "metadata": {},
   "outputs": [],
   "source": []
  },
  {
   "cell_type": "markdown",
   "id": "f3e62510-552d-448f-8a07-44a1d33a05c3",
   "metadata": {},
   "source": [
    "**236**<br>\n",
    "아래 코드의 실행 결과를 예측하라.\n",
    "```\n",
    "def 함수(num) :\n",
    "    return num + 4\n",
    "\n",
    "a = 함수(10)\n",
    "b = 함수(a)\n",
    "c = 함수(b)\n",
    "print(c)\n",
    "```"
   ]
  },
  {
   "cell_type": "code",
   "execution_count": null,
   "id": "ef25cb6f-af9d-44f2-bbf1-f80ba7e1a351",
   "metadata": {},
   "outputs": [],
   "source": []
  },
  {
   "cell_type": "markdown",
   "id": "598724cd-2623-407b-b1c4-53cf4a278de0",
   "metadata": {},
   "source": [
    "**237**<br>\n",
    "아래 코드의 실행 결과를 예측하라.\n",
    "```\n",
    "def 함수(num) :\n",
    "    return num + 4\n",
    "\n",
    "c = 함수(함수(함수(10)))\n",
    "print(c)\n",
    "```"
   ]
  },
  {
   "cell_type": "code",
   "execution_count": null,
   "id": "2934e2d5-d88a-4383-91d6-30e17367dbbb",
   "metadata": {},
   "outputs": [],
   "source": []
  },
  {
   "cell_type": "markdown",
   "id": "06c0b426-536b-40e1-9fe3-873a87a7782a",
   "metadata": {},
   "source": [
    "**238**<br>\n",
    "아래 코드의 실행 결과를 예측하라.\n",
    "```\n",
    "def 함수1(num) :\n",
    "    return num + 4\n",
    "\n",
    "def 함수2(num) :\n",
    "    return num * 10\n",
    "\n",
    "a = 함수1(10)\n",
    "c = 함수2(a)\n",
    "print(c)\n",
    "```"
   ]
  },
  {
   "cell_type": "code",
   "execution_count": null,
   "id": "2624254c-0761-40c8-8e6b-df30206395cc",
   "metadata": {},
   "outputs": [],
   "source": []
  },
  {
   "cell_type": "markdown",
   "id": "9c355b93-acd2-4b0f-8047-b619652d5fb4",
   "metadata": {},
   "source": [
    "**239**<br>\n",
    "아래 코드의 실행 결과를 예측하라.\n",
    "```\n",
    "def 함수1(num) :\n",
    "    return num + 4\n",
    "\n",
    "def 함수2(num) :\n",
    "    num = num + 2\n",
    "    return 함수1(num)\n",
    "\n",
    "c = 함수2(10)\n",
    "print(c)\n",
    "```"
   ]
  },
  {
   "cell_type": "code",
   "execution_count": null,
   "id": "13d0ef08-a7b1-416c-b8c1-c53c59fab045",
   "metadata": {},
   "outputs": [],
   "source": []
  },
  {
   "cell_type": "markdown",
   "id": "1431260d-152e-4050-84c0-bb2f83eb3726",
   "metadata": {},
   "source": [
    "**240**<br>\n",
    "아래 코드의 실행 결과를 예측하라.\n",
    "```\n",
    "def 함수0(num) :\n",
    "    return num * 2\n",
    "\n",
    "def 함수1(num) :\n",
    "    return 함수0(num + 2)\n",
    "\n",
    "def 함수2(num) :\n",
    "    num = num + 10\n",
    "    return 함수1(num)\n",
    "\n",
    "c = 함수2(2)\n",
    "print(c)\n",
    "```"
   ]
  }
 ],
 "metadata": {
  "kernelspec": {
   "display_name": "Python 3 (ipykernel)",
   "language": "python",
   "name": "python3"
  },
  "language_info": {
   "codemirror_mode": {
    "name": "ipython",
    "version": 3
   },
   "file_extension": ".py",
   "mimetype": "text/x-python",
   "name": "python",
   "nbconvert_exporter": "python",
   "pygments_lexer": "ipython3",
   "version": "3.11.5"
  }
 },
 "nbformat": 4,
 "nbformat_minor": 5
}
