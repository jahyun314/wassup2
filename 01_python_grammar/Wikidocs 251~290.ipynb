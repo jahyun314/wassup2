{
 "cells": [
  {
   "cell_type": "markdown",
   "id": "08ce4f12-b7db-42c0-93ec-815f109b811a",
   "metadata": {},
   "source": [
    "**251 클래스, 객체, 인스턴스**<br>\n",
    "클래스와 객체에 대해 설명해봅시다."
   ]
  },
  {
   "cell_type": "code",
   "execution_count": 3,
   "id": "9e303ca8-3f09-44ec-b92c-320f6a5e7f0e",
   "metadata": {
    "tags": []
   },
   "outputs": [],
   "source": [
    "# 클래스: 붕어빵 틀\n",
    "# 객체: 붕어빵 틀로 찍어낸 붕어빵. 인스턴스라고 하며 각각의 고유성을 가진 e.g. 팥 붕어빵, 슈크림 붕어빵\n",
    "\n",
    "#클래스:일종의 설계도로, 하나의 타입을 정의하는 방법. 클래스에는 관련있는 데이터와 함수를 한 데 모아 정의할 수 있음\n",
    "# 객체: 클래스로 만들어진 결과물"
   ]
  },
  {
   "cell_type": "markdown",
   "id": "1b0cf077-25bf-4847-b493-88b1183bdd1b",
   "metadata": {},
   "source": [
    "**252 클래스 정의**<br>\n",
    "비어있는 사람 (Human) 클래스를 \"정의\" 해보세요."
   ]
  },
  {
   "cell_type": "code",
   "execution_count": 4,
   "id": "7930ba65-8d5c-4e2e-94fb-456fc583699d",
   "metadata": {
    "tags": []
   },
   "outputs": [],
   "source": [
    "class Human:\n",
    "    pass"
   ]
  },
  {
   "cell_type": "markdown",
   "id": "060e8301-28d4-4f6c-b828-a88bc1118132",
   "metadata": {},
   "source": [
    "**253 인스턴스 생성**<br>\n",
    "사람 (Human) 클래스의 인스턴스를 \"생성\" 하고 이를 areum 변수로 바인딩해보세요."
   ]
  },
  {
   "cell_type": "code",
   "execution_count": 8,
   "id": "5cbf692b-2f71-4a92-b0d2-1dd796569078",
   "metadata": {
    "tags": []
   },
   "outputs": [],
   "source": [
    "class Human:\n",
    "    pass\n",
    "\n",
    "areum = Human()"
   ]
  },
  {
   "cell_type": "markdown",
   "id": "32ad4f8b-fc42-4a5e-9113-64dcbf9270c3",
   "metadata": {},
   "source": [
    "**254 클래스 생성자-1**<br>\n",
    "사람 (Human) 클래스에 \"응애응애\"를 출력하는 생성자를 추가하세요.\n",
    "```\n",
    ">>> areum = Human()\n",
    "응애응애\n",
    "```"
   ]
  },
  {
   "cell_type": "code",
   "execution_count": 9,
   "id": "3c901897-628c-4db5-90da-d25a88f0183a",
   "metadata": {
    "tags": []
   },
   "outputs": [
    {
     "name": "stdout",
     "output_type": "stream",
     "text": [
      "응애응애\n"
     ]
    }
   ],
   "source": [
    "class Human:\n",
    "    def __init__(self):\n",
    "        print('응애응애')\n",
    "\n",
    "areum = Human()"
   ]
  },
  {
   "cell_type": "markdown",
   "id": "2ea63e24-c4f8-49e6-93c0-32355c7cc7ab",
   "metadata": {},
   "source": [
    "**255 클래스 생성자-2**<br>\n",
    "사람 (Human) 클래스에 (이름, 나이, 성별)을 받는 생성자를 추가하세요.\n",
    "```\n",
    ">>> areum = Human(\"아름\", 25, \"여자\")\n",
    "```"
   ]
  },
  {
   "cell_type": "code",
   "execution_count": 13,
   "id": "0cf69705-3d6b-432d-9e02-93353895cbb3",
   "metadata": {
    "tags": []
   },
   "outputs": [
    {
     "name": "stdout",
     "output_type": "stream",
     "text": [
      "아름 25 여자\n"
     ]
    }
   ],
   "source": [
    "class Human:\n",
    "    def __init__(self, name, age, sex):\n",
    "        self.name = name\n",
    "        self.age = age\n",
    "        self.sex = sex\n",
    "\n",
    "areum = Human(\"아름\", 25, \"여자\")\n",
    "print(areum.name, areum.age, areum.sex)"
   ]
  },
  {
   "cell_type": "markdown",
   "id": "6c564cd4-cb73-455c-bbbb-7a5ec69217ca",
   "metadata": {},
   "source": [
    "**256 인스턴스 속성에 접근**<br>\n",
    "255에서 생성한 인스턴스의 이름, 나이, 성별을 출력하세요. 인스턴스 변수에 접근하여 값을 출력하면 됩니다.\n",
    "```\n",
    "이름: 조아름, 나이: 25, 성별: 여자\n",
    "```\n",
    "인스턴스 변수에 접근하여 값을 가져오는 예\n",
    "```\n",
    ">>> areum.age\n",
    "25\n",
    "```"
   ]
  },
  {
   "cell_type": "code",
   "execution_count": 14,
   "id": "102b15ef-50a4-4907-ae76-8600074dfc73",
   "metadata": {
    "tags": []
   },
   "outputs": [
    {
     "name": "stdout",
     "output_type": "stream",
     "text": [
      "이름: 조아름, 나이: 25, 성별: 여자\n"
     ]
    }
   ],
   "source": [
    "class Human:\n",
    "    def __init__(self, name, age, sex):\n",
    "        self.name = name\n",
    "        self.age = age\n",
    "        self.sex = sex\n",
    "\n",
    "areum = Human(\"조아름\", 25, \"여자\")\n",
    "print(f'이름: {areum.name}, 나이: {areum.age}, 성별: {areum.sex}')"
   ]
  },
  {
   "cell_type": "markdown",
   "id": "685c4e8e-223e-4b4d-a6bd-75f08222bc82",
   "metadata": {},
   "source": [
    "**257 클래스 메소드 - 1**<br>\n",
    "사람 (Human) 클래스에서 이름, 나이, 성별을 출력하는 who() 메소드를 추가하세요.\n",
    "```\n",
    ">>> areum.who()\n",
    "이름: 조아름, 나이: 25, 성별: 여자\n",
    "```"
   ]
  },
  {
   "cell_type": "code",
   "execution_count": 16,
   "id": "8a4e6ce1-8d33-4eba-93f8-2a004553fb8a",
   "metadata": {
    "tags": []
   },
   "outputs": [
    {
     "name": "stdout",
     "output_type": "stream",
     "text": [
      "이름: 조아름, 나이: 25, 성별: 여자\n"
     ]
    }
   ],
   "source": [
    "class Human:\n",
    "    def __init__(self, name, age, sex):\n",
    "        self.name = name\n",
    "        self.age = age\n",
    "        self.sex = sex\n",
    "    \n",
    "    def who(self):\n",
    "        print(f'이름: {self.name}, 나이: {self.age}, 성별: {self.sex}')\n",
    "\n",
    "areum = Human(\"조아름\", 25, \"여자\")\n",
    "areum.who()"
   ]
  },
  {
   "cell_type": "markdown",
   "id": "60e1bf41-4b18-4957-9bda-f99b8f9e4ecc",
   "metadata": {},
   "source": [
    "**258 클래스 메소드 - 2**<br>\n",
    "사람 (Human) 클래스에 (이름, 나이, 성별)을 받는 setInfo 메소드를 추가하세요.\n",
    "```\n",
    ">>> areum = Human(\"모름\", 0, \"모름\")\n",
    ">>> areum.setInfo(\"아름\", 25, \"여자\")\n",
    "```"
   ]
  },
  {
   "cell_type": "code",
   "execution_count": 20,
   "id": "8971a7da-1faa-499d-9fe3-369b18dee0d9",
   "metadata": {
    "tags": []
   },
   "outputs": [
    {
     "name": "stdout",
     "output_type": "stream",
     "text": [
      "이름: 모름, 나이: 0, 성별: 모름\n",
      "이름: 아름, 나이: 25, 성별: 여자\n"
     ]
    }
   ],
   "source": [
    "class Human:\n",
    "    def __init__(self, name, age, sex):\n",
    "        self.name = name\n",
    "        self.age = age\n",
    "        self.sex = sex\n",
    "    \n",
    "    def who(self):\n",
    "        print(f'이름: {self.name}, 나이: {self.age}, 성별: {self.sex}')\n",
    "    \n",
    "    def setInfo(self, name, age, sex):\n",
    "        self.name = name\n",
    "        self.age = age\n",
    "        self.sex = sex\n",
    "\n",
    "areum = Human('모름',0,'모름')\n",
    "areum.who()\n",
    "\n",
    "areum .setInfo('아름', 25, '여자')\n",
    "areum.who()"
   ]
  },
  {
   "cell_type": "markdown",
   "id": "55be70aa-e6e7-4559-8d50-59a766dfa1bd",
   "metadata": {},
   "source": [
    "**259 클래스 소멸자**<br>\n",
    "사람 (human) 클래스에 \"나의 죽음을 알리지 말라\"를 출력하는 소멸자를 추가하세요.\n",
    "```\n",
    ">>> areum = Human(\"아름\", 25, \"여자\")\n",
    ">>> del areum\n",
    "나의 죽음을 알리지 말라\n",
    "```"
   ]
  },
  {
   "cell_type": "code",
   "execution_count": 21,
   "id": "767c99cc-afa5-4745-a1ec-2125fe0b0fd9",
   "metadata": {
    "tags": []
   },
   "outputs": [
    {
     "name": "stdout",
     "output_type": "stream",
     "text": [
      "나의 죽음을 알리지 말라\n"
     ]
    }
   ],
   "source": [
    "class Human:\n",
    "    def __init__(self, name, age, sex):\n",
    "        self.name = name\n",
    "        self.age = age\n",
    "        self.sex = sex\n",
    "    \n",
    "    def who(self):\n",
    "        print(f'이름: {self.name}, 나이: {self.age}, 성별: {self.sex}')\n",
    "    \n",
    "    def setInfo(self, name, age, sex):\n",
    "        self.name = name\n",
    "        self.age = age\n",
    "        self.sex = sex\n",
    "        \n",
    "    def __del__(self):\n",
    "        print('나의 죽음을 알리지 말라')\n",
    "\n",
    "areum = Human(\"아름\", 25, \"여자\")\n",
    "del areum\n",
    "     "
   ]
  },
  {
   "cell_type": "markdown",
   "id": "15ad3bf2-0af6-484e-8532-3b5a50f3b0c9",
   "metadata": {},
   "source": [
    "**260 에러의 원인**<br>\n",
    "아래와 같은 에러가 발생한 원인에 대해 설명하세요.\n",
    "```\n",
    "class OMG : \n",
    "    def print() :\n",
    "        print(\"Oh my god\")\n",
    "\n",
    ">>> >>> myStock = OMG()\n",
    ">>> myStock.print()\n",
    "TypeError Traceback (most recent call last)\n",
    "<ipython-input-233-c85c04535b22> in <module>()\n",
    "----> myStock.print()\n",
    "\n",
    "TypeError: print() takes 0 positional arguments but 1 was given\n",
    "```"
   ]
  },
  {
   "cell_type": "code",
   "execution_count": null,
   "id": "3a5fcd1f-4c9a-40c8-96cd-bf7fabcc081a",
   "metadata": {},
   "outputs": [],
   "source": [
    "# "
   ]
  },
  {
   "cell_type": "markdown",
   "id": "396da315-d7fa-40b7-acd6-121b051fece4",
   "metadata": {},
   "source": [
    "**261 Stock 클래스 생성**<br>\n",
    "주식 종목에 대한 정보를 저장하는 Stock 클래스를 정의해보세요. 클래스는 속성과 메서드를 갖고 있지 않습니다."
   ]
  },
  {
   "cell_type": "code",
   "execution_count": null,
   "id": "cc8e15aa-2155-4425-8f8f-dc4ff890fc4b",
   "metadata": {},
   "outputs": [],
   "source": []
  },
  {
   "cell_type": "markdown",
   "id": "2814a57d-c725-419a-aaf7-b29d50f8489d",
   "metadata": {},
   "source": [
    "**262 생성자**<br>\n",
    "Stock 클래스의 객체가 생성될 때 종목명과 종목코드를 입력 받을 수 있도록 생성자를 정의해보세요.\n",
    "\n",
    "삼성 = Stock(\"삼성전자\", \"005930\")"
   ]
  },
  {
   "cell_type": "code",
   "execution_count": null,
   "id": "dd0dd938-d70b-44c7-bf8c-552e787fc3db",
   "metadata": {},
   "outputs": [],
   "source": []
  },
  {
   "cell_type": "markdown",
   "id": "87fd1573-4053-42f1-8f3d-5c4c0f58e30d",
   "metadata": {},
   "source": [
    "**263 메서드**<br>\n",
    "객체에 종목명을 입력할 수 있는 set_name 메서드를 추가해보세요.\n",
    "```\n",
    "a = Stock(None, None)\n",
    "a.set_name(\"삼성전자\")\n",
    "```"
   ]
  },
  {
   "cell_type": "code",
   "execution_count": null,
   "id": "1befd223-52ae-476e-a2f3-0e29443e5802",
   "metadata": {},
   "outputs": [],
   "source": []
  },
  {
   "cell_type": "markdown",
   "id": "2a0e4849-c234-45f3-97d7-c69540ebed80",
   "metadata": {},
   "source": [
    "**264 메서드**<br>\n",
    "객체에 종목코드를 입력할 수 있는 set_code 메서드를 추가해보세요.\n",
    "```\n",
    "a = Stock(None, None)\n",
    "a.set_code(\"005930\")\n",
    "```"
   ]
  },
  {
   "cell_type": "code",
   "execution_count": null,
   "id": "65cba5ca-0ffd-4f61-8523-5a88f21cb082",
   "metadata": {},
   "outputs": [],
   "source": []
  },
  {
   "cell_type": "markdown",
   "id": "7e183506-001e-4eae-a079-8b86f50eeee8",
   "metadata": {},
   "source": [
    "**265 메서드**<br>\n",
    "종목명과 종목코드를 리턴하는 get_name, get_code 메서드를 추가하세요. 해당 메서드를 사용하여 종목명과 종목코드를 얻고 이를 출력해보세요.\n",
    "```\n",
    "삼성 = Stock(\"삼성전자\", \"005930\")\n",
    "```"
   ]
  },
  {
   "cell_type": "code",
   "execution_count": null,
   "id": "bb5d58f7-20c1-4ef3-959b-3954df529a28",
   "metadata": {},
   "outputs": [],
   "source": []
  },
  {
   "cell_type": "markdown",
   "id": "f6728251-525e-427e-9493-f66bc1d70781",
   "metadata": {},
   "source": [
    "**266 객체의 속성값 업데이트**<br>\n",
    "생성자에서 종목명, 종목코드, PER, PBR, 배당수익률을 입력 받을 수 있도록 생성자를 수정하세요. PER, PBR, 배당수익률은 float 타입입니다."
   ]
  },
  {
   "cell_type": "code",
   "execution_count": null,
   "id": "420cf216-a337-470e-bde1-0d3bcbfcb441",
   "metadata": {},
   "outputs": [],
   "source": []
  },
  {
   "cell_type": "markdown",
   "id": "e23daf52-c7aa-445d-94be-ef7020e04ce1",
   "metadata": {},
   "source": [
    "**267 객체 생성**<br>\n",
    "266번에서 정의한 생성자를 통해 다음 정보를 갖는 객체를 생성해보세요.\n",
    "|항목|정보|\n",
    "|-----|------|\n",
    "|종목명|삼성전자|\n",
    "|종목코드|005930|\n",
    "|PER|15.79|\n",
    "|PBR|1.33|\n",
    "|배당수익률|2.83|\n"
   ]
  },
  {
   "cell_type": "code",
   "execution_count": null,
   "id": "8af8d46c-f365-49c2-a992-57076ad30580",
   "metadata": {},
   "outputs": [],
   "source": []
  },
  {
   "cell_type": "markdown",
   "id": "6b464966-7e8c-4e2b-b8eb-02571acf7059",
   "metadata": {},
   "source": [
    "**268 객체의 속성 수정**<br>\n",
    "PER, PBR, 배당수익률은 변경될 수 있는 값입니다. 이 값을 변경할 때 사용하는 set_per, set_pbr, set_dividend 메서드를 추가하세요."
   ]
  },
  {
   "cell_type": "code",
   "execution_count": null,
   "id": "82708f07-bfef-447d-8ad5-f85e5b1acfc1",
   "metadata": {},
   "outputs": [],
   "source": []
  },
  {
   "cell_type": "markdown",
   "id": "8ac751c2-aef7-419b-abbb-1ecff8a95d00",
   "metadata": {},
   "source": [
    "**269 객체의 속성 수정**<br>\n",
    "267번에서 생성한 객체에 set_per 메서드를 호출하여 per 값을 12.75로 수정해보세요."
   ]
  },
  {
   "cell_type": "code",
   "execution_count": null,
   "id": "78d2f4c9-69aa-488d-a899-3f999577ebd4",
   "metadata": {},
   "outputs": [],
   "source": []
  },
  {
   "cell_type": "markdown",
   "id": "5eadda33-af29-4590-8270-ece95e073334",
   "metadata": {},
   "source": [
    "**270 여러 종목의 객체 생성**<br>\n",
    "아래의 표를 참조하여 3종목에 대해 객체를 생성하고 이를 파이썬 리스트에 저장하세요. 파이썬 리스트에 저장된 각 종목에 대해 for 루프를 통해 종목코드와 PER을 출력해보세요.\n",
    "|종목명|종목코드|PER|PBR|배당수익률|\n",
    "|-----|------|------|------|------|\n",
    "|삼성전자|005930|15.79|1.33|2.83|\n",
    "|현대차|005380|8.70|0.35|4.27|\n",
    "|LG전자|066570|317.34|0.69|1.37|"
   ]
  },
  {
   "cell_type": "code",
   "execution_count": null,
   "id": "9d4b742e-4355-4769-b64d-068de8d36bc2",
   "metadata": {},
   "outputs": [],
   "source": []
  },
  {
   "cell_type": "markdown",
   "id": "12b745ce-2023-4200-a023-b82ac14c3f00",
   "metadata": {},
   "source": [
    "**271 Account 클래스**<br>\n",
    "은행에 가서 계좌를 개설하면 은행이름, 예금주, 계좌번호, 잔액이 설정됩니다. Account 클래스를 생성한 후 생성자를 구현해보세요. 생성자에서는 예금주와 초기 잔액만 입력 받습니다. 은행이름은 SC은행으로 계좌번호는 3자리-2자리-6자리 형태로 랜덤하게 생성됩니다.\n",
    "```\n",
    "은행이름: SC은행\n",
    "계좌번호: 111-11-111111\n",
    "```"
   ]
  },
  {
   "cell_type": "code",
   "execution_count": null,
   "id": "df1a5eba-39ce-4a85-874a-310b532efa9b",
   "metadata": {},
   "outputs": [],
   "source": []
  },
  {
   "cell_type": "markdown",
   "id": "766cac99-a579-42b1-88ba-242dbab06ce7",
   "metadata": {},
   "source": [
    "**272 클래스 변수**<br>\n",
    "클래스 변수를 사용해서 Account 클래스로부터 생성된 계좌 객체의 개수를 저장하세요."
   ]
  },
  {
   "cell_type": "code",
   "execution_count": null,
   "id": "ceef205a-6846-408c-95ad-823eb8a7aedc",
   "metadata": {},
   "outputs": [],
   "source": []
  },
  {
   "cell_type": "markdown",
   "id": "b223d655-b81d-4646-a495-14c3e530bce4",
   "metadata": {},
   "source": [
    "**273 클래스 변수 출력**<br>\n",
    "Account 클래스로부터 생성된 계좌의 개수를 출력하는 get_account_num() 메서드를 추가하세요."
   ]
  },
  {
   "cell_type": "code",
   "execution_count": null,
   "id": "974e56d4-4d63-40a4-8ae6-7535caed0353",
   "metadata": {},
   "outputs": [],
   "source": []
  },
  {
   "cell_type": "markdown",
   "id": "ba6a6483-eb95-4ea2-a151-3615480dba7b",
   "metadata": {},
   "source": [
    "**274 입금 메서드**<br>\n",
    "Account 클래스에 입금을 위한 deposit 메서드를 추가하세요. 입금은 최소 1원 이상만 가능합니다."
   ]
  },
  {
   "cell_type": "code",
   "execution_count": null,
   "id": "f7fd6bf3-36b8-4d3c-a883-cc115d99b748",
   "metadata": {},
   "outputs": [],
   "source": []
  },
  {
   "cell_type": "markdown",
   "id": "6925b412-bfbe-4ebb-b205-b12e2ea60c8b",
   "metadata": {},
   "source": [
    "**275 출금 메서드**<br>\n",
    "Account 클래스에 출금을 위한 withdraw 메서드를 추가하세요. 출금은 계좌의 잔고 이상으로 출금할 수는 없습니다."
   ]
  },
  {
   "cell_type": "code",
   "execution_count": null,
   "id": "c1a8222d-d513-4ab1-8763-24bc01834e74",
   "metadata": {},
   "outputs": [],
   "source": []
  },
  {
   "cell_type": "markdown",
   "id": "c79e5258-12fb-40a7-8d0c-c12355e3d56b",
   "metadata": {},
   "source": [
    "**276 정보 출력 메서드**<br>\n",
    "Account 인스턴스에 저장된 정보를 출력하는 display_info() 메서드를 추가하세요. 잔고는 세자리마다 쉼표를 출력하세요.\n",
    "```\n",
    "은행이름: SC은행\n",
    "예금주: 파이썬\n",
    "계좌번호: 111-11-111111\n",
    "잔고: 10,000원\n",
    "```"
   ]
  },
  {
   "cell_type": "code",
   "execution_count": null,
   "id": "f81ca4a2-08cf-44e8-9d6e-6d745cf9d57a",
   "metadata": {},
   "outputs": [],
   "source": []
  },
  {
   "cell_type": "markdown",
   "id": "aee35be0-08bb-4acc-9a46-785f613bfed5",
   "metadata": {},
   "source": [
    "**277 이자 지급하기**<br>\n",
    "입금 횟수가 5회가 될 때 잔고를 기준으로 1%의 이자가 잔고에 추가되도록 코드를 변경해보세요."
   ]
  },
  {
   "cell_type": "code",
   "execution_count": null,
   "id": "fda39f88-40d5-4104-a030-6a2ffb84dea3",
   "metadata": {},
   "outputs": [],
   "source": []
  },
  {
   "cell_type": "markdown",
   "id": "d9714d6e-70a8-4c4c-88bc-02d374754f76",
   "metadata": {},
   "source": [
    "**278 여러 객체 생성**<br>\n",
    "Account 클래스로부터 3개 이상 인스턴스를 생성하고 생성된 인스턴스를 리스트에 저장해보세요."
   ]
  },
  {
   "cell_type": "code",
   "execution_count": null,
   "id": "f17823ae-ee47-415d-9c0d-45b3c04dab42",
   "metadata": {},
   "outputs": [],
   "source": []
  },
  {
   "cell_type": "markdown",
   "id": "3dd80001-794d-4cc4-891f-932c341736d2",
   "metadata": {},
   "source": [
    "**279 객체 순회**<br>\n",
    "반복문을 통해 리스트에 있는 객체를 순회하면서 잔고가 100만원 이상인 고객의 정보만 출력하세요."
   ]
  },
  {
   "cell_type": "code",
   "execution_count": null,
   "id": "07860662-60d9-4f36-9ff5-27bf6d9ab2f2",
   "metadata": {},
   "outputs": [],
   "source": []
  },
  {
   "cell_type": "markdown",
   "id": "3663506e-3763-4623-bf5d-d2bfb0399b42",
   "metadata": {},
   "source": [
    "**280 입출금 내역**<br>\n",
    "입금과 출금 내역이 기록되도록 코드를 업데이트 하세요. 입금 내역과 출금 내역을 출력하는 deposit_history와 withdraw_history 메서드를 추가하세요."
   ]
  },
  {
   "cell_type": "code",
   "execution_count": null,
   "id": "01bc11ea-89c1-4b4a-97b7-f4e03f1db25e",
   "metadata": {},
   "outputs": [],
   "source": []
  },
  {
   "cell_type": "markdown",
   "id": "ef5f5ae3-dabe-4f75-b90b-aa3824b63107",
   "metadata": {},
   "source": [
    "**281 클래스 정의**<br>\n",
    "다음 코드가 동작하도록 차 클래스를 정의하세요.\n",
    "```\n",
    ">> car = 차(2, 1000)\n",
    ">> car.바퀴\n",
    "2\n",
    ">> car.가격\n",
    "1000\n",
    "```"
   ]
  },
  {
   "cell_type": "code",
   "execution_count": null,
   "id": "7e0c281a-45c6-4ec4-b25c-c9722b6a3160",
   "metadata": {},
   "outputs": [],
   "source": []
  },
  {
   "cell_type": "markdown",
   "id": "e777f466-bc11-483c-b0d5-8fa6c0d9b3a1",
   "metadata": {},
   "source": [
    "**282 클래스 상속**<br>\n",
    "차 클래스를 상속받은 자전차 클래스를 정의하세요."
   ]
  },
  {
   "cell_type": "code",
   "execution_count": null,
   "id": "4ef55ed7-687c-409f-9476-2f2466e90af2",
   "metadata": {},
   "outputs": [],
   "source": []
  },
  {
   "cell_type": "markdown",
   "id": "880a339c-b6d6-4cfc-8871-6dd984e5ddd8",
   "metadata": {},
   "source": [
    "**283 클래스 상속**<br>\n",
    "다음 코드가 동작하도록 자전차 클래스를 정의하세요. 단 자전차 클래스는 차 클래스를 상속받습니다.\n",
    "```\n",
    ">> bicycle = 자전차(2, 100)\n",
    ">> bicycle.가격\n",
    "100\n",
    "```"
   ]
  },
  {
   "cell_type": "code",
   "execution_count": null,
   "id": "edbbf99f-8fe1-4e02-af86-1e30d0b1dd22",
   "metadata": {},
   "outputs": [],
   "source": []
  },
  {
   "cell_type": "markdown",
   "id": "31f7a0bb-cc66-4082-8a53-3ed4226eb3c6",
   "metadata": {},
   "source": [
    "**284 클래스 상속**<br>\n",
    "다음 코드가 동작하도록 자전차 클래스를 정의하세요. 단 자전차 클래스는 차 클래스를 상속받습니다.\n",
    "```\n",
    ">> bicycle = 자전차(2, 100, \"시마노\")\n",
    ">> bicycle.구동계\n",
    "시마노\n",
    "```"
   ]
  },
  {
   "cell_type": "code",
   "execution_count": null,
   "id": "b231093c-b7c8-4460-92aa-94c6b3a8fb47",
   "metadata": {},
   "outputs": [],
   "source": []
  },
  {
   "cell_type": "markdown",
   "id": "0b44cf86-303d-49a6-93a0-66d948019e63",
   "metadata": {},
   "source": [
    "**285 클래스 상속**<br>\n",
    "다음 코드가 동작하도록 차 클래스를 상속받는 자동차 클래스를 정의하세요.\n",
    "```\n",
    ">> car = 자동차(4, 1000)\n",
    ">> car.정보()\n",
    "바퀴수 4\n",
    "가격 1000\n",
    "```"
   ]
  },
  {
   "cell_type": "code",
   "execution_count": null,
   "id": "d2ca4130-bac7-405f-abcd-44b24aa9df03",
   "metadata": {},
   "outputs": [],
   "source": []
  },
  {
   "cell_type": "markdown",
   "id": "9ee8c3d8-4ad5-48ee-8a5c-8994cc5873a0",
   "metadata": {},
   "source": [
    "**286 부모 클래스 생성자 호출**<br>\n",
    "다음 코드가 동작하도록 차 클래스를 수정하세요.\n",
    "```\n",
    ">> bicycle = 자전차(2, 100, \"시마노\")\n",
    ">> bicycle.정보()\n",
    "바퀴수 2\n",
    "가격 100\n",
    "```"
   ]
  },
  {
   "cell_type": "code",
   "execution_count": null,
   "id": "1d9e76a2-763b-4a39-84a3-45ab063c22ad",
   "metadata": {},
   "outputs": [],
   "source": []
  },
  {
   "cell_type": "markdown",
   "id": "0cb5a6b3-5129-41d1-a24d-b9a95e172193",
   "metadata": {},
   "source": [
    "**287 부모 클래스 메서드 호출**<br>\n",
    "자전차의 정보() 메서드로 구동계 정보까지 출력하도록 수정해보세요.\n",
    "```\n",
    ">> bicycle = 자전차(2, 100, \"시마노\")\n",
    ">> bicycle.정보()\n",
    "바퀴수 2\n",
    "가격 100\n",
    "구동계 시마노\n",
    "```"
   ]
  },
  {
   "cell_type": "code",
   "execution_count": null,
   "id": "df68c8ca-88f0-4a23-a808-58efba18d675",
   "metadata": {},
   "outputs": [],
   "source": []
  },
  {
   "cell_type": "markdown",
   "id": "05d7f588-50e5-46b1-9238-b4e66bd2cd45",
   "metadata": {},
   "source": [
    "**288 메서드 오버라이딩**<br>\n",
    "다음 코드의 실행 결과를 예상해보세요.\n",
    "```\n",
    "class 부모:\n",
    "  def 호출(self):\n",
    "    print(\"부모호출\")\n",
    "\n",
    "class 자식(부모):\n",
    "  def 호출(self):\n",
    "    print(\"자식호출\")\n",
    "    \n",
    "나 = 자식()\n",
    "나.호출()\n",
    "```"
   ]
  },
  {
   "cell_type": "code",
   "execution_count": null,
   "id": "74efc33a-36bb-44a1-b74f-bfce41722e7a",
   "metadata": {},
   "outputs": [],
   "source": []
  },
  {
   "cell_type": "markdown",
   "id": "1dcc6317-fade-460f-a793-cb34384e74f6",
   "metadata": {},
   "source": [
    "**289 생성자**<br>\n",
    "다음 코드의 실행 결과를 예상해보세요.\n",
    "```\n",
    "class 부모:\n",
    "  def __init__(self):\n",
    "    print(\"부모생성\")\n",
    "\n",
    "class 자식(부모):\n",
    "  def __init__(self):\n",
    "    print(\"자식생성\")\n",
    "    \n",
    "나 = 자식()\n",
    "```"
   ]
  },
  {
   "cell_type": "code",
   "execution_count": null,
   "id": "1d92a0b6-18aa-4d15-adeb-0ee13728a308",
   "metadata": {},
   "outputs": [],
   "source": []
  },
  {
   "cell_type": "markdown",
   "id": "ca26bc1a-a879-4da9-a1a3-10236464f43a",
   "metadata": {},
   "source": [
    "**290 부모클래스 생성자 호출**<br>\n",
    "다음 코드의 실행 결과를 예상해보세요.\n",
    "```\n",
    "class 부모:\n",
    "  def __init__(self):\n",
    "    print(\"부모생성\")\n",
    "\n",
    "class 자식(부모):\n",
    "  def __init__(self):\n",
    "    print(\"자식생성\")\n",
    "    super().__init__()\n",
    "\n",
    "나 = 자식()\n",
    "```"
   ]
  },
  {
   "cell_type": "code",
   "execution_count": null,
   "id": "ee7ad8f4-de89-4daa-953c-6249893e8077",
   "metadata": {},
   "outputs": [],
   "source": []
  }
 ],
 "metadata": {
  "kernelspec": {
   "display_name": "Python 3 (ipykernel)",
   "language": "python",
   "name": "python3"
  },
  "language_info": {
   "codemirror_mode": {
    "name": "ipython",
    "version": 3
   },
   "file_extension": ".py",
   "mimetype": "text/x-python",
   "name": "python",
   "nbconvert_exporter": "python",
   "pygments_lexer": "ipython3",
   "version": "3.11.5"
  }
 },
 "nbformat": 4,
 "nbformat_minor": 5
}
