{
 "cells": [
  {
   "cell_type": "markdown",
   "id": "dc19764b-d322-4d54-aa92-092b92f9db1d",
   "metadata": {},
   "source": [
    "**151**<br>\n",
    "리스트에는 네 개의 정수가 저장돼 있다.\n",
    "```\n",
    "리스트 = [3, -20, -3, 44]\n",
    "```\n",
    "for문을 사용해서 리스트의 음수를 출력하라.\n",
    "```\n",
    "-20\n",
    "-3\n",
    "```"
   ]
  },
  {
   "cell_type": "code",
   "execution_count": null,
   "id": "34bc74cc-c1ed-4d2a-ac39-42ab5e290742",
   "metadata": {},
   "outputs": [],
   "source": []
  },
  {
   "cell_type": "markdown",
   "id": "4866e89c-5e4d-48ae-8d7a-bf8077a5115f",
   "metadata": {},
   "source": [
    "**152**<br>\n",
    "for문을 사용해서 3의 배수만을 출력하라.\n",
    "```\n",
    "리스트 = [3, 100, 23, 44]\n",
    "\n",
    "3\n",
    "```"
   ]
  },
  {
   "cell_type": "code",
   "execution_count": null,
   "id": "800f06a7-8fe4-4ea1-9f46-cee9ce2bc5dc",
   "metadata": {},
   "outputs": [],
   "source": []
  },
  {
   "cell_type": "markdown",
   "id": "bc36af0d-4150-4001-8e88-e60a278ba622",
   "metadata": {},
   "source": [
    "**153**<br>\n",
    "리스트에서 20 보다 작은 3의 배수를 출력하라\n",
    "```\n",
    "리스트 = [13, 21, 12, 14, 30, 18]\n",
    "\n",
    "12\n",
    "18\n",
    "```"
   ]
  },
  {
   "cell_type": "code",
   "execution_count": null,
   "id": "bd8d53f8-9ab4-4672-a187-f6075c6e09c3",
   "metadata": {},
   "outputs": [],
   "source": []
  },
  {
   "cell_type": "markdown",
   "id": "47de3a9d-4960-4f74-8982-eb575944cdb9",
   "metadata": {},
   "source": [
    "**154**<br>\n",
    "리스트에서 세 글자 이상의 문자를 화면에 출력하라\n",
    "```\n",
    "리스트 = [\"I\", \"study\", \"python\", \"language\", \"!\"]\n",
    "\n",
    "study\n",
    "python\n",
    "language\n",
    "```"
   ]
  },
  {
   "cell_type": "code",
   "execution_count": null,
   "id": "406acc19-8651-42d3-bb4f-318f595656b9",
   "metadata": {},
   "outputs": [],
   "source": []
  },
  {
   "cell_type": "markdown",
   "id": "4b2cca12-5d0b-4fde-a1ea-f3de26b5aecb",
   "metadata": {},
   "source": [
    "**155**<br>\n",
    "리스트에서 대문자만 화면에 출력하라.\n",
    "```\n",
    "리스트 = [\"A\", \"b\", \"c\", \"D\"]\n",
    "\n",
    "A\n",
    "D\n",
    "```\n",
    "(참고) isupper() 메서드는 대문자 여부를 판별합니다.\n",
    "```\n",
    ">> 변수 = \"A\"\n",
    ">> 변수.isupper()\n",
    "True\n",
    ">> 변수 = \"a\"\n",
    ">> 변수.isupper()\n",
    "False\n",
    "```"
   ]
  },
  {
   "cell_type": "code",
   "execution_count": null,
   "id": "f8d45173-9ee3-41f7-9b70-7596fbfee368",
   "metadata": {},
   "outputs": [],
   "source": []
  },
  {
   "cell_type": "markdown",
   "id": "fe96d5fb-8627-4778-8dfb-715264b09c7c",
   "metadata": {},
   "source": [
    "**156**<br>\n",
    "리스트에서 소문자만 화면에 출력하라.\n",
    "```\n",
    "리스트 = [\"A\", \"b\", \"c\", \"D\"]\n",
    "b\n",
    "c\n",
    "```"
   ]
  },
  {
   "cell_type": "code",
   "execution_count": null,
   "id": "1a969ab7-cd44-43af-ab0f-f85b44d1427e",
   "metadata": {},
   "outputs": [],
   "source": []
  },
  {
   "cell_type": "markdown",
   "id": "2becfc96-379e-4e2f-a766-14a16895137f",
   "metadata": {},
   "source": [
    "**157**<br>\n",
    "이름의 첫 글자를 대문자로 변경해서 출력하라.\n",
    "```\n",
    "리스트 = ['dog', 'cat', 'parrot']\n",
    "\n",
    "Dog\n",
    "Cat\n",
    "Parrot\n",
    "```\n",
    "(참고) upper() 메서드는 문자열을 대문자로 변경합니다.\n",
    "```\n",
    ">> 변수 = \"a\"\n",
    ">> a.upper()\n",
    "A\n",
    ">> 변수 = \"abc\"\n",
    ">> 변수.upper()\n",
    "ABC\n",
    "```"
   ]
  },
  {
   "cell_type": "code",
   "execution_count": null,
   "id": "4945797b-1f71-4d75-9685-f9dc06c50b18",
   "metadata": {},
   "outputs": [],
   "source": []
  },
  {
   "cell_type": "markdown",
   "id": "e4342694-a162-4c79-8efd-9505b7725c28",
   "metadata": {},
   "source": [
    "**158**<br>\n",
    "파일 이름이 저장된 리스트에서 확장자를 제거하고 파일 이름만 화면에 출력하라. (힌트: split() 메서드)\n",
    "```\n",
    "리스트 = ['hello.py', 'ex01.py', 'intro.hwp']\n",
    "\n",
    "hello\n",
    "ex01\n",
    "intro\n",
    "```"
   ]
  },
  {
   "cell_type": "code",
   "execution_count": null,
   "id": "5017cd0d-560f-4cb7-bada-2bed5f11fde6",
   "metadata": {},
   "outputs": [],
   "source": []
  },
  {
   "cell_type": "markdown",
   "id": "a3bc7ad1-e86c-479c-8c9c-b33ce07b3daf",
   "metadata": {},
   "source": [
    "**159**<br>\n",
    "파일 이름이 저장된 리스트에서 확장자가 .h인 파일 이름을 출력하라.\n",
    "```\n",
    "리스트 = ['intra.h', 'intra.c', 'define.h', 'run.py']\n",
    "\n",
    "intra.h\n",
    "define.h\n",
    "```"
   ]
  },
  {
   "cell_type": "code",
   "execution_count": null,
   "id": "cb302fbc-25e6-4ca5-9413-f7cf4c981e92",
   "metadata": {},
   "outputs": [],
   "source": []
  },
  {
   "cell_type": "markdown",
   "id": "129835c8-423a-45d1-bf97-2d2b8a5734d3",
   "metadata": {},
   "source": [
    "**160**<br>\n",
    "파일 이름이 저장된 리스트에서 확장자가 .h나 .c인 파일을 화면에 출력하라.\n",
    "```\n",
    "리스트 = ['intra.h', 'intra.c', 'define.h', 'run.py']\n",
    "\n",
    "intra.h\n",
    "intra.c\n",
    "define.h\n",
    "```"
   ]
  },
  {
   "cell_type": "code",
   "execution_count": null,
   "id": "329f1f14-67da-4ab1-a47b-fa1090cf9559",
   "metadata": {},
   "outputs": [],
   "source": []
  },
  {
   "cell_type": "markdown",
   "id": "9e8a29f3-0fd8-4f7e-8c13-de71655dc8fb",
   "metadata": {},
   "source": [
    "**161**<br>\n",
    "for문과 range 구문을 사용해서 0~99까지 한 라인에 하나씩 순차적으로 출력하는 프로그램을 작성하라."
   ]
  },
  {
   "cell_type": "code",
   "execution_count": null,
   "id": "1d11df6c-43b2-4a1c-a5e6-96705e441c41",
   "metadata": {},
   "outputs": [],
   "source": []
  },
  {
   "cell_type": "markdown",
   "id": "6dc7a8ce-de65-4c92-8f3a-e910c8a24127",
   "metadata": {},
   "source": [
    "**162**<br>\n",
    "월드컵은 4년에 한 번 개최된다. range()를 사용하여 2002~2050년까지 중 월드컵이 개최되는 연도를 출력하라.\n",
    "```\n",
    "2002\n",
    "2006\n",
    "2010\n",
    "...\n",
    "2042\n",
    "2046\n",
    "2050\n",
    "```\n",
    "참고) range의 세번 째 파라미터는 증감폭을 결정합니다.\n",
    "```\n",
    ">> print(list(range(0, 10, 2)))\n",
    "[0, 2, 4, 6, 8]\n",
    "```"
   ]
  },
  {
   "cell_type": "code",
   "execution_count": null,
   "id": "352e92c0-a581-427d-9bd6-1b1be96819a2",
   "metadata": {},
   "outputs": [],
   "source": []
  },
  {
   "cell_type": "markdown",
   "id": "063c475c-1a84-4aea-afa0-193aa06450de",
   "metadata": {},
   "source": [
    "**163**<br>\n",
    "1부터 30까지의 숫자 중 3의 배수를 출력하라.\n",
    "```\n",
    "3 \n",
    "6 \n",
    "9 \n",
    "12 \n",
    "15 \n",
    "18 \n",
    "21 \n",
    "24 \n",
    "27 \n",
    "30\n",
    "```"
   ]
  },
  {
   "cell_type": "code",
   "execution_count": null,
   "id": "0d682041-928c-45d2-ac34-a4a5996a3184",
   "metadata": {},
   "outputs": [],
   "source": []
  },
  {
   "cell_type": "markdown",
   "id": "01d01911-7a2c-4bc3-abfb-53a0cf00fb29",
   "metadata": {},
   "source": [
    "**164**<br>\n",
    "99부터 0까지 1씩 감소하는 숫자들을, 한 라인에 하나씩 출력하라."
   ]
  },
  {
   "cell_type": "code",
   "execution_count": null,
   "id": "df7fb714-1de1-47a9-9c3f-49e3e4369558",
   "metadata": {},
   "outputs": [],
   "source": []
  },
  {
   "cell_type": "markdown",
   "id": "4976713a-bd11-41ae-b80d-47ca5b39ae0f",
   "metadata": {},
   "source": [
    "**165**<br>\n",
    "for문을 사용해서 아래와 같이 출력하라.\n",
    "```\n",
    "0.0\n",
    "0.1\n",
    "0.2\n",
    "0.3\n",
    "0.4\n",
    "0.5\n",
    "...\n",
    "0.9\n",
    "```"
   ]
  },
  {
   "cell_type": "code",
   "execution_count": null,
   "id": "12823880-fd75-4021-b2c3-f1f877d01442",
   "metadata": {},
   "outputs": [],
   "source": []
  },
  {
   "cell_type": "markdown",
   "id": "9d35e780-be75-42da-9751-158d993bb25c",
   "metadata": {},
   "source": [
    "**166**<br>\n",
    "구구단 3단을 출력하라.\n",
    "```\n",
    "3x1 = 3\n",
    "3x2 = 6\n",
    "3x3 = 9\n",
    "3x4 = 12\n",
    "3x5 = 15\n",
    "3x6 = 18\n",
    "3x7 = 21\n",
    "3x8 = 24\n",
    "3x9 = 27\n",
    "```"
   ]
  },
  {
   "cell_type": "code",
   "execution_count": null,
   "id": "6b8bd68b-c680-48e0-ba42-7f37bca26dc4",
   "metadata": {},
   "outputs": [],
   "source": []
  },
  {
   "cell_type": "markdown",
   "id": "42c05c63-1e81-4a5d-a4f6-8878070267ab",
   "metadata": {},
   "source": [
    "**167**<br>\n",
    "구구단 3단을 출력하라. 단 홀수 번째만 출력한다.\n",
    "```\n",
    "3x1 = 3\n",
    "3x3 = 9\n",
    "3x5 = 15\n",
    "3x7 = 21\n",
    "3x9 = 27\n",
    "```"
   ]
  },
  {
   "cell_type": "code",
   "execution_count": null,
   "id": "1a36c142-b83e-4d53-bc73-12160d009e62",
   "metadata": {},
   "outputs": [],
   "source": []
  },
  {
   "cell_type": "markdown",
   "id": "9d5de24a-ef30-4fe7-931c-80f5853262ef",
   "metadata": {},
   "source": [
    "**168**<br>\n",
    "1~10까지의 숫자에 대해 모두 더한 값을 출력하는 프로그램을 for 문을 사용하여 작성하라.\n",
    "```\n",
    "합 : 55\n",
    "```"
   ]
  },
  {
   "cell_type": "code",
   "execution_count": null,
   "id": "c73f703a-5722-4b4e-b776-8cac48390c3d",
   "metadata": {},
   "outputs": [],
   "source": []
  },
  {
   "cell_type": "markdown",
   "id": "f2604b3e-a78d-4a00-8243-22bbb655207d",
   "metadata": {},
   "source": [
    "**169**<br>\n",
    "1~10까지의 숫자 중 모든 홀수의 합을 출력하는 프로그램을 for 문을 사용하여 작성하라.\n",
    "```\n",
    "합: 25\n",
    "```"
   ]
  },
  {
   "cell_type": "code",
   "execution_count": null,
   "id": "6af5a782-8373-4c48-92e4-7117a3666198",
   "metadata": {},
   "outputs": [],
   "source": []
  },
  {
   "cell_type": "markdown",
   "id": "1b52a466-104b-4d94-a1f7-74718148ea3c",
   "metadata": {},
   "source": [
    "**170**<br>\n",
    "1~10까지의 숫자를 모두 곱한 값을 출력하는 프로그램을 for 문을 사용하여 작성하라."
   ]
  },
  {
   "cell_type": "code",
   "execution_count": null,
   "id": "a29a4275-ed47-4321-9c12-237b69d8914d",
   "metadata": {},
   "outputs": [],
   "source": []
  },
  {
   "cell_type": "markdown",
   "id": "c5ca13c3-8db9-414a-84d6-86b351f6f802",
   "metadata": {},
   "source": [
    "**171**<br>\n",
    "아래와 같이 리스트의 데이터를 출력하라. 단, for문과 range문을 사용하라.\n",
    "```\n",
    "price_list = [32100, 32150, 32000, 32500]\n",
    "\n",
    "32100\n",
    "32150\n",
    "32000\n",
    "32500\n",
    "```"
   ]
  },
  {
   "cell_type": "code",
   "execution_count": null,
   "id": "97f3fe46-b51c-45ea-822b-92eba8e6e25e",
   "metadata": {},
   "outputs": [],
   "source": []
  },
  {
   "cell_type": "markdown",
   "id": "9715982b-7a82-489b-80f9-bee14bc3e8ae",
   "metadata": {},
   "source": [
    "**172**<br>\n",
    "아래와 같이 리스트의 데이터를 출력하라. 단, for문과 range문을 사용하라.\n",
    "```\n",
    "price_list = [32100, 32150, 32000, 32500]\n",
    "\n",
    "0 32100\n",
    "1 32150\n",
    "2 32000\n",
    "3 32500\n",
    "```"
   ]
  },
  {
   "cell_type": "code",
   "execution_count": null,
   "id": "29033ef6-429d-413a-9796-be0012e86ebb",
   "metadata": {},
   "outputs": [],
   "source": []
  },
  {
   "cell_type": "markdown",
   "id": "1d13c5d9-a0c1-47b7-a928-46f781221393",
   "metadata": {},
   "source": [
    "**173**<br>\n",
    "아래와 같이 리스트의 데이터를 출력하라. 단, for문과 range문을 사용하라.\n",
    "```\n",
    "price_list = [32100, 32150, 32000, 32500]\n",
    "\n",
    "3 32100\n",
    "2 32150\n",
    "1 32000\n",
    "0 32500\n",
    "```"
   ]
  },
  {
   "cell_type": "code",
   "execution_count": null,
   "id": "c37b4282-7f39-49f9-a096-12234565a153",
   "metadata": {},
   "outputs": [],
   "source": []
  },
  {
   "cell_type": "markdown",
   "id": "a5c804ec-0236-4d90-a4b9-7c6a4a7405d4",
   "metadata": {},
   "source": [
    "**174**<br>\n",
    "아래와 같이 리스트의 데이터를 출력하라. 단, for문과 range문을 사용하라.\n",
    "```\n",
    "price_list = [32100, 32150, 32000, 32500]\n",
    "\n",
    "100 32150\n",
    "110 32000\n",
    "120 32500\n",
    "```"
   ]
  },
  {
   "cell_type": "code",
   "execution_count": null,
   "id": "195e8563-bd7f-4972-85a8-5747daf47e34",
   "metadata": {},
   "outputs": [],
   "source": []
  },
  {
   "cell_type": "markdown",
   "id": "a95633c0-dddb-4013-93c6-4889c99b48f3",
   "metadata": {},
   "source": [
    "**175**<br>\n",
    "my_list를 아래와 같이 출력하라.\n",
    "```\n",
    "my_list = [\"가\", \"나\", \"다\", \"라\"]\n",
    "\n",
    "가 나\n",
    "나 다\n",
    "다 라\n",
    "```"
   ]
  },
  {
   "cell_type": "code",
   "execution_count": null,
   "id": "13de3aaf-7851-45c9-950f-c7573cf9b9e3",
   "metadata": {},
   "outputs": [],
   "source": []
  },
  {
   "cell_type": "markdown",
   "id": "dc9e1afd-c385-4970-bab4-a77d24ce64b5",
   "metadata": {},
   "source": [
    "**176**<br>\n",
    "리스트를 아래와 같이 출력하라.\n",
    "```\n",
    "my_list = [\"가\", \"나\", \"다\", \"라\", \"마\"]\n",
    "\n",
    "가 나 다\n",
    "나 다 라\n",
    "다 라 마\n",
    "```"
   ]
  },
  {
   "cell_type": "code",
   "execution_count": null,
   "id": "3aafc6d4-3ae4-459d-bb47-d0bd447fb54e",
   "metadata": {},
   "outputs": [],
   "source": []
  },
  {
   "cell_type": "markdown",
   "id": "c9ad2268-2edf-4aa1-9631-e1dacc6dabb3",
   "metadata": {},
   "source": [
    "**177**<br>\n",
    "반복문과 range 함수를 사용해서 my_list를 아래와 같이 출력하라.\n",
    "```\n",
    "my_list = [\"가\", \"나\", \"다\", \"라\"]\n",
    "\n",
    "라 다\n",
    "다 나\n",
    "나 가\n",
    "```"
   ]
  },
  {
   "cell_type": "code",
   "execution_count": null,
   "id": "1188a8ba-7ae8-45f0-a5c9-310b7eab9e05",
   "metadata": {},
   "outputs": [],
   "source": []
  },
  {
   "cell_type": "markdown",
   "id": "5b28a2e8-849c-48eb-a589-2ebcda497ea4",
   "metadata": {},
   "source": [
    "**178**<br>\n",
    "리스트에는 네 개의 정수가 저장되어 있다. 각각의 데이터에 대해서 자신과 우측값과의 차분값을 화면에 출력하라.\n",
    "```\n",
    "my_list = [100, 200, 400, 800]\n",
    "```\n",
    "예를들어 100을 기준으로 우측에 위치한 200과의 차분 값를 화면에 출력하고, 200을 기준으로 우측에 위치한 400과의 차분값을 화면에 출력한다. 이어서 400을 기준으로 우측에 위치한 800과의 차분값을 화면에 출력한다.\n",
    "```\n",
    "100\n",
    "200\n",
    "400\n",
    "```"
   ]
  },
  {
   "cell_type": "code",
   "execution_count": null,
   "id": "66571b5f-0722-49ac-a872-66f8c6078e38",
   "metadata": {},
   "outputs": [],
   "source": []
  },
  {
   "cell_type": "markdown",
   "id": "3b6d3939-409f-4fc4-82d2-2097058d517a",
   "metadata": {},
   "source": [
    "**179**<br>\n",
    "리스트에는 6일 간의 종가 데이터가 저장되어 있다. 종가 데이터의 3일 이동 평균을 계산하고 이를 화면에 출력하라.\n",
    "```\n",
    "my_list = [100, 200, 400, 800, 1000, 1300]\n",
    "```\n",
    "첫 번째 줄에는 100, 200, 400의 평균값이 출력된다. 두 번째 줄에는 200, 400, 800의 평균값이 출력된다. 같은 방식으로 나머지 데이터의 평균을 출력한다.\n",
    "```\n",
    "233.33333333333334\n",
    "466.6666666666667\n",
    "733.3333333333334\n",
    "1033.3333333333333\n",
    "```"
   ]
  },
  {
   "cell_type": "code",
   "execution_count": null,
   "id": "0006e365-574b-42ed-bbe4-195239ede63f",
   "metadata": {},
   "outputs": [],
   "source": []
  },
  {
   "cell_type": "markdown",
   "id": "ba45bb0b-9845-4ab2-b03e-50ec90a487a3",
   "metadata": {},
   "source": [
    "**180**<br>\n",
    "리스트에 5일간의 저가, 고가 정보가 저장돼 있다. 고가와 저가의 차를 변동폭이라고 정의할 때, low, high 두 개의 리스트를 사용해서 5일간의 변동폭을 volatility 리스트에 저장하라.\n",
    "```\n",
    "low_prices  = [100, 200, 400, 800, 1000]\n",
    "high_prices = [150, 300, 430, 880, 1000]\n",
    "```"
   ]
  },
  {
   "cell_type": "code",
   "execution_count": null,
   "id": "9f6395d5-3995-443d-af95-57b6bf48bc83",
   "metadata": {},
   "outputs": [],
   "source": []
  },
  {
   "cell_type": "markdown",
   "id": "b1695233-aae6-4388-b1cf-10f6dfdb0082",
   "metadata": {},
   "source": [
    "**181**<br>\n",
    "아래 표에서 하나의 행을 하나의 리스트로, 총 3개의 리스트를 갖는 이차원 리스트 apart를 정의하라.\n",
    "\n",
    "|||\n",
    "|-----|------|\n",
    "|101호|102호|\n",
    "|201호|202호|\n",
    "|301호|302호|\n"
   ]
  },
  {
   "cell_type": "code",
   "execution_count": null,
   "id": "46c3977c-6572-4dfb-a45f-3e90fe0edc82",
   "metadata": {},
   "outputs": [],
   "source": []
  },
  {
   "cell_type": "markdown",
   "id": "e3059bb2-6a67-4af2-acdc-a615e69f2997",
   "metadata": {},
   "source": [
    "**182**<br>\n",
    "아래 표에서 하나의 열을 하나의 리스트로, 총 2개의 리스트를 갖는 이차원 리스트 stock을 정의하라.\n",
    "|시가|종가|\n",
    "|-----|------|\n",
    "|100|80|\n",
    "|200|210|\n",
    "|300|330|"
   ]
  },
  {
   "cell_type": "code",
   "execution_count": null,
   "id": "db111010-6656-4145-8ee2-e2beb8de89ba",
   "metadata": {},
   "outputs": [],
   "source": []
  },
  {
   "cell_type": "markdown",
   "id": "5ee9c709-491f-4781-864a-f0233150b89e",
   "metadata": {},
   "source": [
    "**183**<br>\n",
    "아래 표를 stock 이름의 딕셔너리로 표현하라.시가를 key로 저장하고, 나머지 같은 열의 데이터를 리스트로 저장해서 value로 저장한다. 종가 역시 key로 저장하고 나머지 같은 열의 데이터를 리스트로 저장해서 value로 저장한다.\n",
    "|시가|종가|\n",
    "|-----|------|\n",
    "|100|80|\n",
    "|200|210|\n",
    "|300|330|"
   ]
  },
  {
   "cell_type": "code",
   "execution_count": null,
   "id": "a70cef10-986e-4b50-806d-a03c357bd179",
   "metadata": {},
   "outputs": [],
   "source": []
  },
  {
   "cell_type": "markdown",
   "id": "268ce8d3-19e1-4d56-9d50-ebd174c7d9d0",
   "metadata": {},
   "source": [
    "**184**<br>\n",
    "아래 표를 stock 이라는 이름의 딕셔너리로 표현하라. 날짜를 key로 저장하고, 나머지 같은 행의 데이터를 리스트로 저장해서 value로 저장한다. 첫 열이 날짜이다.\n",
    "|10/10|80|110|70|90|\n",
    "|-----|------|------|------|------|\n",
    "|10/11|210|230|190|200|\n"
   ]
  },
  {
   "cell_type": "code",
   "execution_count": null,
   "id": "ce2de615-8cdd-41c7-8d9d-d06c39e3252b",
   "metadata": {},
   "outputs": [],
   "source": []
  },
  {
   "cell_type": "markdown",
   "id": "865a48ab-7b60-43ad-9328-1d6709272205",
   "metadata": {},
   "source": [
    "**185**<br>\n",
    "리스트에 저장된 데이터를 아래와 같이 출력하라.\n",
    "```\n",
    "apart = [ [101, 102], [201, 202], [301, 302] ]\n",
    "\n",
    "101 호\n",
    "102 호\n",
    "201 호\n",
    "202 호\n",
    "301 호\n",
    "302 호\n",
    "```"
   ]
  },
  {
   "cell_type": "code",
   "execution_count": null,
   "id": "136e0773-8fc0-4995-9b7c-49f301ba65a0",
   "metadata": {},
   "outputs": [],
   "source": []
  },
  {
   "cell_type": "markdown",
   "id": "72ebbbbb-0210-4720-bf44-44db59cbfbf2",
   "metadata": {},
   "source": [
    "**186**<br>\n",
    "리스트에 저장된 데이터를 아래와 같이 출력하라.\n",
    "``\n",
    "apart = [ [101, 102], [201, 202], [301, 302] ]\n",
    "\n",
    "301 호\n",
    "302 호\n",
    "201 호\n",
    "202 호\n",
    "101 호\n",
    "102 호\n",
    "```"
   ]
  },
  {
   "cell_type": "code",
   "execution_count": null,
   "id": "6f5ad04f-dc5b-4abc-a3b4-9be6e2e49379",
   "metadata": {},
   "outputs": [],
   "source": []
  },
  {
   "cell_type": "markdown",
   "id": "4a769ec5-3c30-4b8e-9af1-145e982fb814",
   "metadata": {},
   "source": [
    "**187**<br>\n",
    "리스트에 저장된 데이터를 아래와 같이 출력하라.\n",
    "```\n",
    "apart = [ [101, 102], [201, 202], [301, 302] ]\n",
    "\n",
    "302 호\n",
    "301 호\n",
    "202 호\n",
    "201 호\n",
    "102 호\n",
    "101 호\n",
    "```"
   ]
  },
  {
   "cell_type": "code",
   "execution_count": null,
   "id": "f0ae2ccc-1919-4b0f-ba9d-d778d473b40f",
   "metadata": {},
   "outputs": [],
   "source": []
  },
  {
   "cell_type": "markdown",
   "id": "feae7a8c-ed13-46a8-ad0d-66b36eca73c2",
   "metadata": {},
   "source": [
    "**188**<br>\n",
    "리스트에 저장된 데이터를 아래와 같이 출력하라.\n",
    "```\n",
    "apart = [ [101, 102], [201, 202], [301, 302] ]\n",
    "\n",
    "101 호\n",
    "-----\n",
    "102 호\n",
    "-----\n",
    "201 호\n",
    "-----\n",
    "202 호\n",
    "-----\n",
    "301 호\n",
    "-----\n",
    "302 호\n",
    "-----\n",
    "```"
   ]
  },
  {
   "cell_type": "code",
   "execution_count": null,
   "id": "ba61f1ee-9c9a-4ce2-907a-983eb273c978",
   "metadata": {},
   "outputs": [],
   "source": []
  },
  {
   "cell_type": "markdown",
   "id": "68a0798e-bdf3-41ca-ba5a-57b5a51d3777",
   "metadata": {},
   "source": [
    "**189**<br>\n",
    "리스트에 저장된 데이터를 아래와 같이 출력하라.\n",
    "```\n",
    "apart = [ [101, 102], [201, 202], [301, 302] ]\n",
    "\n",
    "101 호\n",
    "102 호\n",
    "-----\n",
    "201 호\n",
    "202 호\n",
    "-----\n",
    "301 호\n",
    "302 호\n",
    "-----\n",
    "```"
   ]
  },
  {
   "cell_type": "code",
   "execution_count": null,
   "id": "9b5b98d4-d9dd-4124-b54f-f1481efa489c",
   "metadata": {},
   "outputs": [],
   "source": []
  },
  {
   "cell_type": "markdown",
   "id": "994c6a76-5de1-4c5d-b630-cda6fa9ebc4a",
   "metadata": {},
   "source": [
    "**190**<br>\n",
    "리스트에 저장된 데이터를 아래와 같이 출력하라.\n",
    "```\n",
    "apart = [ [101, 102], [201, 202], [301, 302] ]\n",
    "\n",
    "101 호\n",
    "102 호\n",
    "201 호\n",
    "202 호\n",
    "301 호\n",
    "302 호\n",
    "-----\n",
    "```"
   ]
  },
  {
   "cell_type": "code",
   "execution_count": null,
   "id": "c7fbf704-5f5d-4dbb-9b75-8bdd8f9986e4",
   "metadata": {},
   "outputs": [],
   "source": []
  },
  {
   "cell_type": "markdown",
   "id": "03b4101e-e81e-4aa0-ac63-bede67f83820",
   "metadata": {},
   "source": [
    "**191**<br>\n",
    "data에는 매수한 종목들의 OHLC (open/high/low/close) 가격 정보가 바인딩 되어있다.\n",
    "```\n",
    "data = [\n",
    "    [ 2000,  3050,  2050,  1980],\n",
    "    [ 7500,  2050,  2050,  1980],\n",
    "    [15450, 15050, 15550, 14900]\n",
    "]\n",
    "```\n",
    "수수료를 0.014 %로 가정할 때, 각 가격에 수수료를 포함한 가격을 한라인에 하나씩 출력하라.\n",
    "```\n",
    "2000.28\n",
    "3050.427\n",
    "2050.2870000000003\n",
    "...\n",
    "```"
   ]
  },
  {
   "cell_type": "code",
   "execution_count": null,
   "id": "6963fd2c-eea6-4170-8583-bfc2c3c3e0bb",
   "metadata": {},
   "outputs": [],
   "source": []
  },
  {
   "cell_type": "markdown",
   "id": "532eb887-55ad-43eb-a6a4-7c151da2fc5d",
   "metadata": {},
   "source": [
    "**192**<br>\n",
    "191번의 출력 결과에 행단위로 \"----\" 구분자를 추가하라.\n",
    "```\n",
    "2000.28\n",
    "3050.427\n",
    "2050.2870000000003\n",
    "1980.2772\n",
    "----\n",
    "7501.05\n",
    "2050.2870000000003\n",
    "2050.2870000000003\n",
    "1980.2772\n",
    "----\n",
    "15452.163\n",
    "15052.107\n",
    "15552.177\n",
    "14902.086000000001\n",
    "----\n",
    "```"
   ]
  },
  {
   "cell_type": "code",
   "execution_count": null,
   "id": "0b97001b-54fd-4648-9f0e-fd041d9d7979",
   "metadata": {},
   "outputs": [],
   "source": []
  },
  {
   "cell_type": "markdown",
   "id": "85da7bef-8593-46d8-964a-1ed0f5d77d98",
   "metadata": {},
   "source": [
    "**193**<br>\n",
    "192 번 문제의 결괏값을 result 이름의 리스트에 1차원 배열로 저장하라.\n",
    "```\n",
    ">> print(result)\n",
    "[2000.28, 3050.427, 2050.2870000000003, 1980.2772, 7501.05, 2050.2870000000003, 2050.2870000000003, ...]\n",
    "```"
   ]
  },
  {
   "cell_type": "code",
   "execution_count": null,
   "id": "cd2bbf49-4772-40a6-8841-815f1fff6bf9",
   "metadata": {},
   "outputs": [],
   "source": []
  },
  {
   "cell_type": "markdown",
   "id": "809e5973-7d93-42e5-abe8-2d7cc347473c",
   "metadata": {},
   "source": [
    "**194**<br>\n",
    "191번 문제의 결괏값을 result 이름의 리스트에 2차원 배열로 저장하라. 저장 포맷은 아래와 같다. 각 행에 대한 데이터끼리 리스트에 저장되어야 한다.\n",
    "```\n",
    ">> print(result)\n",
    "[\n",
    " [2000.28, 3050.427, 2050.2870000000003, 1980.2772],\n",
    " [7501.05, 2050.2870000000003, 2050.2870000000003, 1980.2772],\n",
    " [15452.163, 15052.107, 15552.177, 14902.086000000001]\n",
    "]\n",
    "```"
   ]
  },
  {
   "cell_type": "code",
   "execution_count": null,
   "id": "86809980-3672-41b0-9348-1dc8afafef16",
   "metadata": {},
   "outputs": [],
   "source": []
  },
  {
   "cell_type": "markdown",
   "id": "40e51914-7a31-4387-9b0f-402faf27258e",
   "metadata": {},
   "source": [
    "**195**<br>\n",
    "ohlc 리스트에는 시가(open), 고가 (high), 저가 (low) , 종가(close)가 날짜별로 저장돼 있다. 화면에 종가데이터를 출력하라.\n",
    "```\n",
    "ohlc = [[\"open\", \"high\", \"low\", \"close\"],\n",
    "        [100, 110, 70, 100],\n",
    "        [200, 210, 180, 190],\n",
    "        [300, 310, 300, 310]]\n",
    "100\n",
    "190\n",
    "310\n",
    "```"
   ]
  },
  {
   "cell_type": "code",
   "execution_count": null,
   "id": "04b3ca43-73cd-4be0-9d90-2ad908ad0c52",
   "metadata": {},
   "outputs": [],
   "source": []
  },
  {
   "cell_type": "markdown",
   "id": "5c18a626-7223-43b0-b964-65028fba9b47",
   "metadata": {},
   "source": [
    "**196**<br>\n",
    "ohlc 리스트에는 시가(open), 고가 (high), 저가 (low) , 종가(close)가 날짜별로 저장돼 있다. 종가가 150원보다 큰경우에만 종가를 출력하라.\n",
    "```\n",
    "ohlc = [[\"open\", \"high\", \"low\", \"close\"],\n",
    "        [100, 110, 70, 100],\n",
    "        [200, 210, 180, 190],\n",
    "        [300, 310, 300, 310]]\n",
    "190\n",
    "310\n",
    "```"
   ]
  },
  {
   "cell_type": "code",
   "execution_count": null,
   "id": "ad75ac4c-cb29-4460-9a01-e39b8fa39ac3",
   "metadata": {},
   "outputs": [],
   "source": []
  },
  {
   "cell_type": "markdown",
   "id": "7f16f48d-271a-4b27-9491-06d7da750548",
   "metadata": {},
   "source": [
    "**197**<br>\n",
    "ohlc 리스트에는 시가(open), 고가 (high), 저가 (low) , 종가(close)가 날짜별로 저장돼 있다. 종가가 시가 보다 크거나 같은 경우에만 종가를 출력하라.\n",
    "```\n",
    "ohlc = [[\"open\", \"high\", \"low\", \"close\"],\n",
    "        [100, 110, 70, 100],\n",
    "        [200, 210, 180, 190],\n",
    "        [300, 310, 300, 310]]\n",
    "        \n",
    "100\n",
    "310\n",
    "```"
   ]
  },
  {
   "cell_type": "code",
   "execution_count": null,
   "id": "308e8252-c73a-401a-8ca4-38ed5d7cf9b5",
   "metadata": {},
   "outputs": [],
   "source": []
  },
  {
   "cell_type": "markdown",
   "id": "dd966c05-18bd-4231-8cbb-457ded2d91fc",
   "metadata": {},
   "source": [
    "**198**<br>\n",
    "ohlc 리스트에는 시가(open), 고가 (high), 저가 (low) , 종가(close)가 날짜별로 저장돼 있다. 고가와 저가의 차이를 변동폭으로 정의할 때 변동폭을 volatility 이름의 리스트에 저장하라.\n",
    "```\n",
    "ohlc = [[\"open\", \"high\", \"low\", \"close\"],\n",
    "        [100, 110, 70, 100],\n",
    "        [200, 210, 180, 190],\n",
    "        [300, 310, 300, 310]]\n",
    "        \n",
    ">> print(volatility)\n",
    "[40, 30, 10]\n",
    "```"
   ]
  },
  {
   "cell_type": "code",
   "execution_count": null,
   "id": "4f6efb9b-4b1c-4576-acf7-76495df208e6",
   "metadata": {},
   "outputs": [],
   "source": []
  },
  {
   "cell_type": "markdown",
   "id": "0bf9dc4d-cade-4830-bc51-9b3ef001e31c",
   "metadata": {},
   "source": [
    "**199**<br>\n",
    "리스트에는 3일 간의 ohlc 데이터가 저장돼 있다. 종가가 시가보다 높은 날의 변동성 (고가 - 저가)을 화면에 출력하라.\n",
    "```\n",
    "ohlc = [[\"open\", \"high\", \"low\", \"close\"],\n",
    "        [100, 110, 70, 100],\n",
    "        [200, 210, 180, 190],\n",
    "        [300, 310, 300, 310]]\n",
    "```\n",
    "종가가 시가보다 높은 거래일의 OHLC는 [300, 310, 300, 310] 이다. 따라서 이 거래일의 변동성은 10 (310 - 300)이다.\n",
    "```\n",
    "10\n",
    "```"
   ]
  },
  {
   "cell_type": "code",
   "execution_count": null,
   "id": "6efc64e0-b9dd-4a6d-8887-4f2cb3bc9412",
   "metadata": {},
   "outputs": [],
   "source": []
  },
  {
   "cell_type": "markdown",
   "id": "2ef475dc-554f-4fd7-882e-ad26d4b2d78c",
   "metadata": {},
   "source": [
    "**200**<br>\n",
    "리스트에는 3일 간의 ohlc 데이터가 저장돼 있다. 시가에 매수해서 종가에 매도 했을 경우 총 수익금을 계산하라.\n",
    "```\n",
    "ohlc = [[\"open\", \"high\", \"low\", \"close\"],\n",
    "        [100, 110, 70, 100],\n",
    "        [200, 210, 180, 190],\n",
    "        [300, 310, 300, 310]]\n",
    "```\n",
    "1일차 수익 0원 (100 - 100), 2일차 수익 -10원 (190 - 200), 3일차 수익 10원 (310 - 300) 이다.\n",
    "```\n",
    "0\n",
    "```"
   ]
  },
  {
   "cell_type": "code",
   "execution_count": null,
   "id": "20cbd537-fd20-4080-86c1-9bf8aca324bc",
   "metadata": {},
   "outputs": [],
   "source": []
  }
 ],
 "metadata": {
  "kernelspec": {
   "display_name": "Python 3 (ipykernel)",
   "language": "python",
   "name": "python3"
  },
  "language_info": {
   "codemirror_mode": {
    "name": "ipython",
    "version": 3
   },
   "file_extension": ".py",
   "mimetype": "text/x-python",
   "name": "python",
   "nbconvert_exporter": "python",
   "pygments_lexer": "ipython3",
   "version": "3.11.5"
  }
 },
 "nbformat": 4,
 "nbformat_minor": 5
}
