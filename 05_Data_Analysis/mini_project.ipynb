{
 "cells": [
  {
   "cell_type": "markdown",
   "id": "dc6bf3fb-618a-445e-8492-0c51b5b4965f",
   "metadata": {
    "jp-MarkdownHeadingCollapsed": true,
    "tags": []
   },
   "source": [
    "### 데이터 가져오기"
   ]
  },
  {
   "cell_type": "code",
   "execution_count": 1,
   "id": "4ef92cd3-a183-4f3d-91ec-d1bdcdb1e25c",
   "metadata": {
    "tags": []
   },
   "outputs": [
    {
     "data": {
      "text/html": [
       "<div>\n",
       "<style scoped>\n",
       "    .dataframe tbody tr th:only-of-type {\n",
       "        vertical-align: middle;\n",
       "    }\n",
       "\n",
       "    .dataframe tbody tr th {\n",
       "        vertical-align: top;\n",
       "    }\n",
       "\n",
       "    .dataframe thead th {\n",
       "        text-align: right;\n",
       "    }\n",
       "</style>\n",
       "<table border=\"1\" class=\"dataframe\">\n",
       "  <thead>\n",
       "    <tr style=\"text-align: right;\">\n",
       "      <th></th>\n",
       "      <th>user_id</th>\n",
       "      <th>subscription_duration</th>\n",
       "      <th>recent_login_time</th>\n",
       "      <th>average_login_time</th>\n",
       "      <th>average_time_per_learning_session</th>\n",
       "      <th>monthly_active_learning_days</th>\n",
       "      <th>total_completed_courses</th>\n",
       "      <th>recent_learning_achievement</th>\n",
       "      <th>abandoned_learning_sessions</th>\n",
       "      <th>community_engagement_level</th>\n",
       "      <th>preferred_difficulty_level</th>\n",
       "      <th>subscription_type</th>\n",
       "      <th>customer_inquiry_history</th>\n",
       "      <th>payment_pattern</th>\n",
       "      <th>target</th>\n",
       "    </tr>\n",
       "  </thead>\n",
       "  <tbody>\n",
       "    <tr>\n",
       "      <th>0</th>\n",
       "      <td>b919c29d</td>\n",
       "      <td>13</td>\n",
       "      <td>14</td>\n",
       "      <td>14.946163</td>\n",
       "      <td>8.427187</td>\n",
       "      <td>18</td>\n",
       "      <td>16</td>\n",
       "      <td>68.360455</td>\n",
       "      <td>3</td>\n",
       "      <td>4</td>\n",
       "      <td>Low</td>\n",
       "      <td>Basic</td>\n",
       "      <td>4</td>\n",
       "      <td>5</td>\n",
       "      <td>0</td>\n",
       "    </tr>\n",
       "    <tr>\n",
       "      <th>1</th>\n",
       "      <td>a0a60abb</td>\n",
       "      <td>16</td>\n",
       "      <td>18</td>\n",
       "      <td>18.453224</td>\n",
       "      <td>72.646087</td>\n",
       "      <td>16</td>\n",
       "      <td>13</td>\n",
       "      <td>97.567322</td>\n",
       "      <td>2</td>\n",
       "      <td>3</td>\n",
       "      <td>Medium</td>\n",
       "      <td>Basic</td>\n",
       "      <td>1</td>\n",
       "      <td>6</td>\n",
       "      <td>1</td>\n",
       "    </tr>\n",
       "    <tr>\n",
       "      <th>2</th>\n",
       "      <td>b9f171ae</td>\n",
       "      <td>22</td>\n",
       "      <td>1</td>\n",
       "      <td>16.195228</td>\n",
       "      <td>21.774492</td>\n",
       "      <td>13</td>\n",
       "      <td>14</td>\n",
       "      <td>94.358763</td>\n",
       "      <td>3</td>\n",
       "      <td>4</td>\n",
       "      <td>Medium</td>\n",
       "      <td>Premium</td>\n",
       "      <td>0</td>\n",
       "      <td>7</td>\n",
       "      <td>1</td>\n",
       "    </tr>\n",
       "    <tr>\n",
       "      <th>3</th>\n",
       "      <td>5dc0ba8b</td>\n",
       "      <td>1</td>\n",
       "      <td>19</td>\n",
       "      <td>17.628656</td>\n",
       "      <td>42.659066</td>\n",
       "      <td>19</td>\n",
       "      <td>18</td>\n",
       "      <td>70.153228</td>\n",
       "      <td>0</td>\n",
       "      <td>3</td>\n",
       "      <td>Low</td>\n",
       "      <td>Basic</td>\n",
       "      <td>1</td>\n",
       "      <td>0</td>\n",
       "      <td>1</td>\n",
       "    </tr>\n",
       "    <tr>\n",
       "      <th>4</th>\n",
       "      <td>65c83654</td>\n",
       "      <td>4</td>\n",
       "      <td>5</td>\n",
       "      <td>21.390656</td>\n",
       "      <td>30.744287</td>\n",
       "      <td>19</td>\n",
       "      <td>10</td>\n",
       "      <td>81.917908</td>\n",
       "      <td>2</td>\n",
       "      <td>4</td>\n",
       "      <td>Medium</td>\n",
       "      <td>Basic</td>\n",
       "      <td>3</td>\n",
       "      <td>0</td>\n",
       "      <td>1</td>\n",
       "    </tr>\n",
       "  </tbody>\n",
       "</table>\n",
       "</div>"
      ],
      "text/plain": [
       "    user_id  subscription_duration  recent_login_time  average_login_time  \\\n",
       "0  b919c29d                     13                 14           14.946163   \n",
       "1  a0a60abb                     16                 18           18.453224   \n",
       "2  b9f171ae                     22                  1           16.195228   \n",
       "3  5dc0ba8b                      1                 19           17.628656   \n",
       "4  65c83654                      4                  5           21.390656   \n",
       "\n",
       "   average_time_per_learning_session  monthly_active_learning_days  \\\n",
       "0                           8.427187                            18   \n",
       "1                          72.646087                            16   \n",
       "2                          21.774492                            13   \n",
       "3                          42.659066                            19   \n",
       "4                          30.744287                            19   \n",
       "\n",
       "   total_completed_courses  recent_learning_achievement  \\\n",
       "0                       16                    68.360455   \n",
       "1                       13                    97.567322   \n",
       "2                       14                    94.358763   \n",
       "3                       18                    70.153228   \n",
       "4                       10                    81.917908   \n",
       "\n",
       "   abandoned_learning_sessions  community_engagement_level  \\\n",
       "0                            3                           4   \n",
       "1                            2                           3   \n",
       "2                            3                           4   \n",
       "3                            0                           3   \n",
       "4                            2                           4   \n",
       "\n",
       "  preferred_difficulty_level subscription_type  customer_inquiry_history  \\\n",
       "0                        Low             Basic                         4   \n",
       "1                     Medium             Basic                         1   \n",
       "2                     Medium           Premium                         0   \n",
       "3                        Low             Basic                         1   \n",
       "4                     Medium             Basic                         3   \n",
       "\n",
       "   payment_pattern  target  \n",
       "0                5       0  \n",
       "1                6       1  \n",
       "2                7       1  \n",
       "3                0       1  \n",
       "4                0       1  "
      ]
     },
     "execution_count": 1,
     "metadata": {},
     "output_type": "execute_result"
    }
   ],
   "source": [
    "import pandas as pd\n",
    "import matplotlib.pyplot as plt\n",
    "import numpy as np\n",
    "import koreanize_matplotlib\n",
    "\n",
    "mini_data = pd.read_table('data/mini.csv',sep=',')\n",
    "\n",
    "mini_data.head()"
   ]
  },
  {
   "cell_type": "code",
   "execution_count": 2,
   "id": "4db7338d-0629-4fd2-b88d-a4a54ea226a2",
   "metadata": {
    "tags": []
   },
   "outputs": [
    {
     "name": "stdout",
     "output_type": "stream",
     "text": [
      "<class 'pandas.core.frame.DataFrame'>\n",
      "RangeIndex: 10000 entries, 0 to 9999\n",
      "Data columns (total 15 columns):\n",
      " #   Column                             Non-Null Count  Dtype  \n",
      "---  ------                             --------------  -----  \n",
      " 0   user_id                            10000 non-null  object \n",
      " 1   subscription_duration              10000 non-null  int64  \n",
      " 2   recent_login_time                  10000 non-null  int64  \n",
      " 3   average_login_time                 10000 non-null  float64\n",
      " 4   average_time_per_learning_session  10000 non-null  float64\n",
      " 5   monthly_active_learning_days       10000 non-null  int64  \n",
      " 6   total_completed_courses            10000 non-null  int64  \n",
      " 7   recent_learning_achievement        10000 non-null  float64\n",
      " 8   abandoned_learning_sessions        10000 non-null  int64  \n",
      " 9   community_engagement_level         10000 non-null  int64  \n",
      " 10  preferred_difficulty_level         10000 non-null  object \n",
      " 11  subscription_type                  10000 non-null  object \n",
      " 12  customer_inquiry_history           10000 non-null  int64  \n",
      " 13  payment_pattern                    10000 non-null  int64  \n",
      " 14  target                             10000 non-null  int64  \n",
      "dtypes: float64(3), int64(9), object(3)\n",
      "memory usage: 1.1+ MB\n"
     ]
    }
   ],
   "source": [
    "mini_data.info()"
   ]
  },
  {
   "cell_type": "markdown",
   "id": "faa5c557-dfef-4cd5-87ae-09c0f6a811ae",
   "metadata": {
    "jp-MarkdownHeadingCollapsed": true,
    "tags": []
   },
   "source": [
    "### 월간 활동적인 학습 일수"
   ]
  },
  {
   "cell_type": "code",
   "execution_count": 21,
   "id": "c0126f96-38ba-42e7-9804-0d34a0e87cf9",
   "metadata": {
    "tags": []
   },
   "outputs": [
    {
     "data": {
      "text/html": [
       "<div>\n",
       "<style scoped>\n",
       "    .dataframe tbody tr th:only-of-type {\n",
       "        vertical-align: middle;\n",
       "    }\n",
       "\n",
       "    .dataframe tbody tr th {\n",
       "        vertical-align: top;\n",
       "    }\n",
       "\n",
       "    .dataframe thead th {\n",
       "        text-align: right;\n",
       "    }\n",
       "</style>\n",
       "<table border=\"1\" class=\"dataframe\">\n",
       "  <thead>\n",
       "    <tr style=\"text-align: right;\">\n",
       "      <th></th>\n",
       "      <th>user_id</th>\n",
       "      <th>monthly_active_learning_days</th>\n",
       "      <th>target</th>\n",
       "    </tr>\n",
       "  </thead>\n",
       "  <tbody>\n",
       "    <tr>\n",
       "      <th>4933</th>\n",
       "      <td>1dd0d3d5</td>\n",
       "      <td>1</td>\n",
       "      <td>0</td>\n",
       "    </tr>\n",
       "    <tr>\n",
       "      <th>8603</th>\n",
       "      <td>161a6815</td>\n",
       "      <td>1</td>\n",
       "      <td>1</td>\n",
       "    </tr>\n",
       "    <tr>\n",
       "      <th>3437</th>\n",
       "      <td>19330519</td>\n",
       "      <td>1</td>\n",
       "      <td>1</td>\n",
       "    </tr>\n",
       "    <tr>\n",
       "      <th>8606</th>\n",
       "      <td>3845fabe</td>\n",
       "      <td>1</td>\n",
       "      <td>1</td>\n",
       "    </tr>\n",
       "    <tr>\n",
       "      <th>3434</th>\n",
       "      <td>a8a14813</td>\n",
       "      <td>1</td>\n",
       "      <td>1</td>\n",
       "    </tr>\n",
       "    <tr>\n",
       "      <th>...</th>\n",
       "      <td>...</td>\n",
       "      <td>...</td>\n",
       "      <td>...</td>\n",
       "    </tr>\n",
       "    <tr>\n",
       "      <th>1053</th>\n",
       "      <td>6338e1e7</td>\n",
       "      <td>24</td>\n",
       "      <td>0</td>\n",
       "    </tr>\n",
       "    <tr>\n",
       "      <th>392</th>\n",
       "      <td>944dc201</td>\n",
       "      <td>24</td>\n",
       "      <td>1</td>\n",
       "    </tr>\n",
       "    <tr>\n",
       "      <th>1608</th>\n",
       "      <td>3286d12b</td>\n",
       "      <td>24</td>\n",
       "      <td>1</td>\n",
       "    </tr>\n",
       "    <tr>\n",
       "      <th>100</th>\n",
       "      <td>4e405dfa</td>\n",
       "      <td>24</td>\n",
       "      <td>1</td>\n",
       "    </tr>\n",
       "    <tr>\n",
       "      <th>1905</th>\n",
       "      <td>0e2c421d</td>\n",
       "      <td>24</td>\n",
       "      <td>0</td>\n",
       "    </tr>\n",
       "  </tbody>\n",
       "</table>\n",
       "<p>10000 rows × 3 columns</p>\n",
       "</div>"
      ],
      "text/plain": [
       "       user_id  monthly_active_learning_days  target\n",
       "4933  1dd0d3d5                             1       0\n",
       "8603  161a6815                             1       1\n",
       "3437  19330519                             1       1\n",
       "8606  3845fabe                             1       1\n",
       "3434  a8a14813                             1       1\n",
       "...        ...                           ...     ...\n",
       "1053  6338e1e7                            24       0\n",
       "392   944dc201                            24       1\n",
       "1608  3286d12b                            24       1\n",
       "100   4e405dfa                            24       1\n",
       "1905  0e2c421d                            24       0\n",
       "\n",
       "[10000 rows x 3 columns]"
      ]
     },
     "execution_count": 21,
     "metadata": {},
     "output_type": "execute_result"
    }
   ],
   "source": [
    "#오름차순 정렬\n",
    "tb = mini_data[['user_id', 'monthly_active_learning_days', 'target']].sort_values('monthly_active_learning_days')\n",
    "tb"
   ]
  },
  {
   "cell_type": "code",
   "execution_count": 25,
   "id": "118840a9-932c-4e36-955a-169e965bd911",
   "metadata": {
    "tags": []
   },
   "outputs": [],
   "source": [
    "#구간 나누기\n",
    "labels=['적음', '보통', '많음']\n",
    "tb['학습시간'] = pd.qcut(tb['monthly_active_learning_days'], 3, labels=labels)"
   ]
  },
  {
   "cell_type": "code",
   "execution_count": 26,
   "id": "ddffc208-824f-4207-a1b6-c26b45dacd5c",
   "metadata": {
    "tags": []
   },
   "outputs": [
    {
     "name": "stdout",
     "output_type": "stream",
     "text": [
      "<class 'pandas.core.frame.DataFrame'>\n",
      "Index: 10000 entries, 4933 to 1905\n",
      "Data columns (total 4 columns):\n",
      " #   Column                        Non-Null Count  Dtype   \n",
      "---  ------                        --------------  -----   \n",
      " 0   user_id                       10000 non-null  object  \n",
      " 1   monthly_active_learning_days  10000 non-null  int64   \n",
      " 2   target                        10000 non-null  int64   \n",
      " 3   학습시간                          10000 non-null  category\n",
      "dtypes: category(1), int64(2), object(1)\n",
      "memory usage: 322.4+ KB\n"
     ]
    }
   ],
   "source": [
    "tb.info()"
   ]
  },
  {
   "cell_type": "code",
   "execution_count": 27,
   "id": "28c4d75c-e003-4f7a-b948-bb9be103881f",
   "metadata": {
    "tags": []
   },
   "outputs": [
    {
     "data": {
      "text/plain": [
       "target  학습시간\n",
       "0       보통      1415\n",
       "        적음      1276\n",
       "        많음      1110\n",
       "1       보통      2280\n",
       "        적음      2077\n",
       "        많음      1842\n",
       "Name: count, dtype: int64"
      ]
     },
     "execution_count": 27,
     "metadata": {},
     "output_type": "execute_result"
    }
   ],
   "source": [
    "tb.groupby(tb.target)['학습시간'].value_counts()"
   ]
  },
  {
   "cell_type": "code",
   "execution_count": 28,
   "id": "37ab514d-0996-4485-b1bc-c632313973a1",
   "metadata": {
    "tags": []
   },
   "outputs": [
    {
     "data": {
      "text/html": [
       "<div>\n",
       "<style scoped>\n",
       "    .dataframe tbody tr th:only-of-type {\n",
       "        vertical-align: middle;\n",
       "    }\n",
       "\n",
       "    .dataframe tbody tr th {\n",
       "        vertical-align: top;\n",
       "    }\n",
       "\n",
       "    .dataframe thead th {\n",
       "        text-align: right;\n",
       "    }\n",
       "</style>\n",
       "<table border=\"1\" class=\"dataframe\">\n",
       "  <thead>\n",
       "    <tr style=\"text-align: right;\">\n",
       "      <th></th>\n",
       "      <th>user_id</th>\n",
       "      <th>monthly_active_learning_days</th>\n",
       "      <th>target</th>\n",
       "      <th>학습시간</th>\n",
       "    </tr>\n",
       "  </thead>\n",
       "  <tbody>\n",
       "    <tr>\n",
       "      <th>4933</th>\n",
       "      <td>1dd0d3d5</td>\n",
       "      <td>1</td>\n",
       "      <td>0</td>\n",
       "      <td>적음</td>\n",
       "    </tr>\n",
       "    <tr>\n",
       "      <th>4842</th>\n",
       "      <td>36b7e0be</td>\n",
       "      <td>1</td>\n",
       "      <td>0</td>\n",
       "      <td>적음</td>\n",
       "    </tr>\n",
       "    <tr>\n",
       "      <th>1647</th>\n",
       "      <td>05e5db91</td>\n",
       "      <td>1</td>\n",
       "      <td>0</td>\n",
       "      <td>적음</td>\n",
       "    </tr>\n",
       "    <tr>\n",
       "      <th>344</th>\n",
       "      <td>e9ceb185</td>\n",
       "      <td>1</td>\n",
       "      <td>0</td>\n",
       "      <td>적음</td>\n",
       "    </tr>\n",
       "    <tr>\n",
       "      <th>8638</th>\n",
       "      <td>992472fd</td>\n",
       "      <td>1</td>\n",
       "      <td>0</td>\n",
       "      <td>적음</td>\n",
       "    </tr>\n",
       "    <tr>\n",
       "      <th>...</th>\n",
       "      <td>...</td>\n",
       "      <td>...</td>\n",
       "      <td>...</td>\n",
       "      <td>...</td>\n",
       "    </tr>\n",
       "    <tr>\n",
       "      <th>8459</th>\n",
       "      <td>acc33866</td>\n",
       "      <td>24</td>\n",
       "      <td>0</td>\n",
       "      <td>많음</td>\n",
       "    </tr>\n",
       "    <tr>\n",
       "      <th>5668</th>\n",
       "      <td>21fab0de</td>\n",
       "      <td>24</td>\n",
       "      <td>0</td>\n",
       "      <td>많음</td>\n",
       "    </tr>\n",
       "    <tr>\n",
       "      <th>1761</th>\n",
       "      <td>c8aa2553</td>\n",
       "      <td>24</td>\n",
       "      <td>0</td>\n",
       "      <td>많음</td>\n",
       "    </tr>\n",
       "    <tr>\n",
       "      <th>1053</th>\n",
       "      <td>6338e1e7</td>\n",
       "      <td>24</td>\n",
       "      <td>0</td>\n",
       "      <td>많음</td>\n",
       "    </tr>\n",
       "    <tr>\n",
       "      <th>1905</th>\n",
       "      <td>0e2c421d</td>\n",
       "      <td>24</td>\n",
       "      <td>0</td>\n",
       "      <td>많음</td>\n",
       "    </tr>\n",
       "  </tbody>\n",
       "</table>\n",
       "<p>3801 rows × 4 columns</p>\n",
       "</div>"
      ],
      "text/plain": [
       "       user_id  monthly_active_learning_days  target 학습시간\n",
       "4933  1dd0d3d5                             1       0   적음\n",
       "4842  36b7e0be                             1       0   적음\n",
       "1647  05e5db91                             1       0   적음\n",
       "344   e9ceb185                             1       0   적음\n",
       "8638  992472fd                             1       0   적음\n",
       "...        ...                           ...     ...  ...\n",
       "8459  acc33866                            24       0   많음\n",
       "5668  21fab0de                            24       0   많음\n",
       "1761  c8aa2553                            24       0   많음\n",
       "1053  6338e1e7                            24       0   많음\n",
       "1905  0e2c421d                            24       0   많음\n",
       "\n",
       "[3801 rows x 4 columns]"
      ]
     },
     "execution_count": 28,
     "metadata": {},
     "output_type": "execute_result"
    }
   ],
   "source": [
    "drops = tb[tb['target'] == 0]\n",
    "drops"
   ]
  },
  {
   "cell_type": "code",
   "execution_count": 29,
   "id": "21c83076-9a6d-4adb-b72c-0308fd80a25d",
   "metadata": {
    "tags": []
   },
   "outputs": [
    {
     "data": {
      "text/plain": [
       "<Axes: title={'center': '구독 취소한 수강생의 \\n월간 활동적인 학습 일수'}>"
      ]
     },
     "execution_count": 29,
     "metadata": {},
     "output_type": "execute_result"
    },
    {
     "data": {
      "image/png": "[encoded data removed]",
      "text/plain": [
       "<Figure size 640x480 with 1 Axes>"
      ]
     },
     "metadata": {},
     "output_type": "display_data"
    }
   ],
   "source": [
    "drops['학습시간'].value_counts().plot(kind = 'pie', ylabel='',title = '구독 취소한 수강생의 \\n월간 활동적인 학습 일수', autopct = '%2.f%%')"
   ]
  },
  {
   "cell_type": "code",
   "execution_count": 30,
   "id": "07a21fe8-170a-4adb-aa14-ed771bcddb99",
   "metadata": {
    "tags": []
   },
   "outputs": [
    {
     "data": {
      "text/html": [
       "<div>\n",
       "<style scoped>\n",
       "    .dataframe tbody tr th:only-of-type {\n",
       "        vertical-align: middle;\n",
       "    }\n",
       "\n",
       "    .dataframe tbody tr th {\n",
       "        vertical-align: top;\n",
       "    }\n",
       "\n",
       "    .dataframe thead th {\n",
       "        text-align: right;\n",
       "    }\n",
       "</style>\n",
       "<table border=\"1\" class=\"dataframe\">\n",
       "  <thead>\n",
       "    <tr style=\"text-align: right;\">\n",
       "      <th></th>\n",
       "      <th>user_id</th>\n",
       "      <th>monthly_active_learning_days</th>\n",
       "      <th>target</th>\n",
       "      <th>학습시간</th>\n",
       "    </tr>\n",
       "  </thead>\n",
       "  <tbody>\n",
       "    <tr>\n",
       "      <th>8603</th>\n",
       "      <td>161a6815</td>\n",
       "      <td>1</td>\n",
       "      <td>1</td>\n",
       "      <td>적음</td>\n",
       "    </tr>\n",
       "    <tr>\n",
       "      <th>3437</th>\n",
       "      <td>19330519</td>\n",
       "      <td>1</td>\n",
       "      <td>1</td>\n",
       "      <td>적음</td>\n",
       "    </tr>\n",
       "    <tr>\n",
       "      <th>8606</th>\n",
       "      <td>3845fabe</td>\n",
       "      <td>1</td>\n",
       "      <td>1</td>\n",
       "      <td>적음</td>\n",
       "    </tr>\n",
       "    <tr>\n",
       "      <th>3434</th>\n",
       "      <td>a8a14813</td>\n",
       "      <td>1</td>\n",
       "      <td>1</td>\n",
       "      <td>적음</td>\n",
       "    </tr>\n",
       "    <tr>\n",
       "      <th>3429</th>\n",
       "      <td>7d834557</td>\n",
       "      <td>1</td>\n",
       "      <td>1</td>\n",
       "      <td>적음</td>\n",
       "    </tr>\n",
       "    <tr>\n",
       "      <th>...</th>\n",
       "      <td>...</td>\n",
       "      <td>...</td>\n",
       "      <td>...</td>\n",
       "      <td>...</td>\n",
       "    </tr>\n",
       "    <tr>\n",
       "      <th>5677</th>\n",
       "      <td>2f19ed5f</td>\n",
       "      <td>24</td>\n",
       "      <td>1</td>\n",
       "      <td>많음</td>\n",
       "    </tr>\n",
       "    <tr>\n",
       "      <th>2088</th>\n",
       "      <td>aad1fe67</td>\n",
       "      <td>24</td>\n",
       "      <td>1</td>\n",
       "      <td>많음</td>\n",
       "    </tr>\n",
       "    <tr>\n",
       "      <th>392</th>\n",
       "      <td>944dc201</td>\n",
       "      <td>24</td>\n",
       "      <td>1</td>\n",
       "      <td>많음</td>\n",
       "    </tr>\n",
       "    <tr>\n",
       "      <th>1608</th>\n",
       "      <td>3286d12b</td>\n",
       "      <td>24</td>\n",
       "      <td>1</td>\n",
       "      <td>많음</td>\n",
       "    </tr>\n",
       "    <tr>\n",
       "      <th>100</th>\n",
       "      <td>4e405dfa</td>\n",
       "      <td>24</td>\n",
       "      <td>1</td>\n",
       "      <td>많음</td>\n",
       "    </tr>\n",
       "  </tbody>\n",
       "</table>\n",
       "<p>6199 rows × 4 columns</p>\n",
       "</div>"
      ],
      "text/plain": [
       "       user_id  monthly_active_learning_days  target 학습시간\n",
       "8603  161a6815                             1       1   적음\n",
       "3437  19330519                             1       1   적음\n",
       "8606  3845fabe                             1       1   적음\n",
       "3434  a8a14813                             1       1   적음\n",
       "3429  7d834557                             1       1   적음\n",
       "...        ...                           ...     ...  ...\n",
       "5677  2f19ed5f                            24       1   많음\n",
       "2088  aad1fe67                            24       1   많음\n",
       "392   944dc201                            24       1   많음\n",
       "1608  3286d12b                            24       1   많음\n",
       "100   4e405dfa                            24       1   많음\n",
       "\n",
       "[6199 rows x 4 columns]"
      ]
     },
     "execution_count": 30,
     "metadata": {},
     "output_type": "execute_result"
    }
   ],
   "source": [
    "subsc = tb[tb['target'] == 1]\n",
    "subsc"
   ]
  },
  {
   "cell_type": "code",
   "execution_count": 31,
   "id": "2025afbe-8876-430b-ab8c-10dfecd63cd2",
   "metadata": {
    "tags": []
   },
   "outputs": [
    {
     "data": {
      "text/plain": [
       "<Axes: title={'center': '구독 유지한 수강생의 \\n월간 활동적인 학습 일수'}>"
      ]
     },
     "execution_count": 31,
     "metadata": {},
     "output_type": "execute_result"
    },
    {
     "data": {
      "image/png": "[encoded data removed]",
      "text/plain": [
       "<Figure size 640x480 with 1 Axes>"
      ]
     },
     "metadata": {},
     "output_type": "display_data"
    }
   ],
   "source": [
    "subsc['학습시간'].value_counts().plot(kind = 'pie', ylabel='', title = '구독 유지한 수강생의 \\n월간 활동적인 학습 일수', autopct = '%2.f%%')"
   ]
  },
  {
   "cell_type": "markdown",
   "id": "a92eaaaf-2d59-4d6b-814c-d942f5236b35",
   "metadata": {
    "jp-MarkdownHeadingCollapsed": true,
    "tags": []
   },
   "source": [
    "### 최근 학습 성취도"
   ]
  },
  {
   "cell_type": "code",
   "execution_count": 3,
   "id": "2fbb8278-4301-4fb8-9004-97cfe0878b7b",
   "metadata": {
    "tags": []
   },
   "outputs": [
    {
     "data": {
      "text/html": [
       "<div>\n",
       "<style scoped>\n",
       "    .dataframe tbody tr th:only-of-type {\n",
       "        vertical-align: middle;\n",
       "    }\n",
       "\n",
       "    .dataframe tbody tr th {\n",
       "        vertical-align: top;\n",
       "    }\n",
       "\n",
       "    .dataframe thead th {\n",
       "        text-align: right;\n",
       "    }\n",
       "</style>\n",
       "<table border=\"1\" class=\"dataframe\">\n",
       "  <thead>\n",
       "    <tr style=\"text-align: right;\">\n",
       "      <th></th>\n",
       "      <th>user_id</th>\n",
       "      <th>recent_learning_achievement</th>\n",
       "      <th>target</th>\n",
       "    </tr>\n",
       "  </thead>\n",
       "  <tbody>\n",
       "    <tr>\n",
       "      <th>3964</th>\n",
       "      <td>fdc1e74f</td>\n",
       "      <td>35.941755</td>\n",
       "      <td>0</td>\n",
       "    </tr>\n",
       "    <tr>\n",
       "      <th>1249</th>\n",
       "      <td>4b92f841</td>\n",
       "      <td>36.115562</td>\n",
       "      <td>1</td>\n",
       "    </tr>\n",
       "    <tr>\n",
       "      <th>8299</th>\n",
       "      <td>9c31e1cc</td>\n",
       "      <td>36.830979</td>\n",
       "      <td>1</td>\n",
       "    </tr>\n",
       "    <tr>\n",
       "      <th>3567</th>\n",
       "      <td>ab49acd6</td>\n",
       "      <td>41.752942</td>\n",
       "      <td>0</td>\n",
       "    </tr>\n",
       "    <tr>\n",
       "      <th>4781</th>\n",
       "      <td>ea82462e</td>\n",
       "      <td>42.254863</td>\n",
       "      <td>0</td>\n",
       "    </tr>\n",
       "    <tr>\n",
       "      <th>...</th>\n",
       "      <td>...</td>\n",
       "      <td>...</td>\n",
       "      <td>...</td>\n",
       "    </tr>\n",
       "    <tr>\n",
       "      <th>5390</th>\n",
       "      <td>b0c92ddf</td>\n",
       "      <td>107.135153</td>\n",
       "      <td>0</td>\n",
       "    </tr>\n",
       "    <tr>\n",
       "      <th>7148</th>\n",
       "      <td>b723b8eb</td>\n",
       "      <td>108.127099</td>\n",
       "      <td>1</td>\n",
       "    </tr>\n",
       "    <tr>\n",
       "      <th>8394</th>\n",
       "      <td>9299c2fe</td>\n",
       "      <td>109.686851</td>\n",
       "      <td>1</td>\n",
       "    </tr>\n",
       "    <tr>\n",
       "      <th>2561</th>\n",
       "      <td>4747f01f</td>\n",
       "      <td>111.219647</td>\n",
       "      <td>1</td>\n",
       "    </tr>\n",
       "    <tr>\n",
       "      <th>5843</th>\n",
       "      <td>2fe8c64d</td>\n",
       "      <td>112.643828</td>\n",
       "      <td>1</td>\n",
       "    </tr>\n",
       "  </tbody>\n",
       "</table>\n",
       "<p>10000 rows × 3 columns</p>\n",
       "</div>"
      ],
      "text/plain": [
       "       user_id  recent_learning_achievement  target\n",
       "3964  fdc1e74f                    35.941755       0\n",
       "1249  4b92f841                    36.115562       1\n",
       "8299  9c31e1cc                    36.830979       1\n",
       "3567  ab49acd6                    41.752942       0\n",
       "4781  ea82462e                    42.254863       0\n",
       "...        ...                          ...     ...\n",
       "5390  b0c92ddf                   107.135153       0\n",
       "7148  b723b8eb                   108.127099       1\n",
       "8394  9299c2fe                   109.686851       1\n",
       "2561  4747f01f                   111.219647       1\n",
       "5843  2fe8c64d                   112.643828       1\n",
       "\n",
       "[10000 rows x 3 columns]"
      ]
     },
     "execution_count": 3,
     "metadata": {},
     "output_type": "execute_result"
    }
   ],
   "source": [
    "tb = mini_data[['user_id', 'recent_learning_achievement', 'target']].sort_values('recent_learning_achievement')\n",
    "tb"
   ]
  },
  {
   "cell_type": "code",
   "execution_count": 4,
   "id": "ddf926e4-64c4-4a87-a579-1e31cc638982",
   "metadata": {
    "tags": []
   },
   "outputs": [
    {
     "data": {
      "text/html": [
       "<div>\n",
       "<style scoped>\n",
       "    .dataframe tbody tr th:only-of-type {\n",
       "        vertical-align: middle;\n",
       "    }\n",
       "\n",
       "    .dataframe tbody tr th {\n",
       "        vertical-align: top;\n",
       "    }\n",
       "\n",
       "    .dataframe thead th {\n",
       "        text-align: right;\n",
       "    }\n",
       "</style>\n",
       "<table border=\"1\" class=\"dataframe\">\n",
       "  <thead>\n",
       "    <tr style=\"text-align: right;\">\n",
       "      <th></th>\n",
       "      <th>user_id</th>\n",
       "      <th>recent_learning_achievement</th>\n",
       "      <th>target</th>\n",
       "      <th>성취도</th>\n",
       "    </tr>\n",
       "  </thead>\n",
       "  <tbody>\n",
       "    <tr>\n",
       "      <th>3964</th>\n",
       "      <td>fdc1e74f</td>\n",
       "      <td>35.941755</td>\n",
       "      <td>0</td>\n",
       "      <td>낮음</td>\n",
       "    </tr>\n",
       "    <tr>\n",
       "      <th>1249</th>\n",
       "      <td>4b92f841</td>\n",
       "      <td>36.115562</td>\n",
       "      <td>1</td>\n",
       "      <td>낮음</td>\n",
       "    </tr>\n",
       "    <tr>\n",
       "      <th>8299</th>\n",
       "      <td>9c31e1cc</td>\n",
       "      <td>36.830979</td>\n",
       "      <td>1</td>\n",
       "      <td>낮음</td>\n",
       "    </tr>\n",
       "    <tr>\n",
       "      <th>3567</th>\n",
       "      <td>ab49acd6</td>\n",
       "      <td>41.752942</td>\n",
       "      <td>0</td>\n",
       "      <td>낮음</td>\n",
       "    </tr>\n",
       "    <tr>\n",
       "      <th>4781</th>\n",
       "      <td>ea82462e</td>\n",
       "      <td>42.254863</td>\n",
       "      <td>0</td>\n",
       "      <td>낮음</td>\n",
       "    </tr>\n",
       "    <tr>\n",
       "      <th>...</th>\n",
       "      <td>...</td>\n",
       "      <td>...</td>\n",
       "      <td>...</td>\n",
       "      <td>...</td>\n",
       "    </tr>\n",
       "    <tr>\n",
       "      <th>5390</th>\n",
       "      <td>b0c92ddf</td>\n",
       "      <td>107.135153</td>\n",
       "      <td>0</td>\n",
       "      <td>높음</td>\n",
       "    </tr>\n",
       "    <tr>\n",
       "      <th>7148</th>\n",
       "      <td>b723b8eb</td>\n",
       "      <td>108.127099</td>\n",
       "      <td>1</td>\n",
       "      <td>높음</td>\n",
       "    </tr>\n",
       "    <tr>\n",
       "      <th>8394</th>\n",
       "      <td>9299c2fe</td>\n",
       "      <td>109.686851</td>\n",
       "      <td>1</td>\n",
       "      <td>높음</td>\n",
       "    </tr>\n",
       "    <tr>\n",
       "      <th>2561</th>\n",
       "      <td>4747f01f</td>\n",
       "      <td>111.219647</td>\n",
       "      <td>1</td>\n",
       "      <td>높음</td>\n",
       "    </tr>\n",
       "    <tr>\n",
       "      <th>5843</th>\n",
       "      <td>2fe8c64d</td>\n",
       "      <td>112.643828</td>\n",
       "      <td>1</td>\n",
       "      <td>높음</td>\n",
       "    </tr>\n",
       "  </tbody>\n",
       "</table>\n",
       "<p>10000 rows × 4 columns</p>\n",
       "</div>"
      ],
      "text/plain": [
       "       user_id  recent_learning_achievement  target 성취도\n",
       "3964  fdc1e74f                    35.941755       0  낮음\n",
       "1249  4b92f841                    36.115562       1  낮음\n",
       "8299  9c31e1cc                    36.830979       1  낮음\n",
       "3567  ab49acd6                    41.752942       0  낮음\n",
       "4781  ea82462e                    42.254863       0  낮음\n",
       "...        ...                          ...     ...  ..\n",
       "5390  b0c92ddf                   107.135153       0  높음\n",
       "7148  b723b8eb                   108.127099       1  높음\n",
       "8394  9299c2fe                   109.686851       1  높음\n",
       "2561  4747f01f                   111.219647       1  높음\n",
       "5843  2fe8c64d                   112.643828       1  높음\n",
       "\n",
       "[10000 rows x 4 columns]"
      ]
     },
     "execution_count": 4,
     "metadata": {},
     "output_type": "execute_result"
    }
   ],
   "source": [
    "labels=['낮음', '보통', '높음']\n",
    "tb['성취도'] = pd.qcut(tb['recent_learning_achievement'], 3, labels=labels)\n",
    "tb"
   ]
  },
  {
   "cell_type": "code",
   "execution_count": 5,
   "id": "ddd15dcb-12cf-46bd-bb71-585f4adf4b17",
   "metadata": {
    "tags": []
   },
   "outputs": [
    {
     "data": {
      "text/plain": [
       "target  성취도\n",
       "0       낮음     1279\n",
       "        보통     1270\n",
       "        높음     1252\n",
       "1       높음     2081\n",
       "        보통     2063\n",
       "        낮음     2055\n",
       "Name: count, dtype: int64"
      ]
     },
     "execution_count": 5,
     "metadata": {},
     "output_type": "execute_result"
    }
   ],
   "source": [
    "tb.groupby(tb.target)['성취도'].value_counts()"
   ]
  },
  {
   "cell_type": "code",
   "execution_count": 6,
   "id": "374d79e3-d3fb-4bc0-a87b-40d6c0c2e858",
   "metadata": {
    "tags": []
   },
   "outputs": [
    {
     "data": {
      "text/plain": [
       "<Axes: title={'center': '구독 취소한 수강생의 \\n최근 학습 성취도'}>"
      ]
     },
     "execution_count": 6,
     "metadata": {},
     "output_type": "execute_result"
    },
    {
     "data": {
      "image/png": "[encoded data removed]",
      "text/plain": [
       "<Figure size 640x480 with 1 Axes>"
      ]
     },
     "metadata": {},
     "output_type": "display_data"
    }
   ],
   "source": [
    "tb[tb['target'] == 0]['성취도'].value_counts().plot(kind = 'pie', ylabel='',title = '구독 취소한 수강생의 \\n최근 학습 성취도', autopct = '%2.f%%')"
   ]
  },
  {
   "cell_type": "code",
   "execution_count": 7,
   "id": "73ee339a-fa45-41a1-92fc-90522685cfc3",
   "metadata": {
    "tags": []
   },
   "outputs": [
    {
     "data": {
      "text/plain": [
       "<Axes: title={'center': '구독 유지한 수강생의 \\n 최근 학습 성취도'}>"
      ]
     },
     "execution_count": 7,
     "metadata": {},
     "output_type": "execute_result"
    },
    {
     "data": {
      "image/png": "[encoded data removed]",
      "text/plain": [
       "<Figure size 640x480 with 1 Axes>"
      ]
     },
     "metadata": {},
     "output_type": "display_data"
    }
   ],
   "source": [
    "tb[tb['target'] == 1]['성취도'].value_counts().plot(kind = 'pie', ylabel='',title = '구독 유지한 수강생의 \\n 최근 학습 성취도', autopct = '%2.f%%')"
   ]
  },
  {
   "cell_type": "markdown",
   "id": "a6365fc7-6157-49cc-b417-5501fd9e7788",
   "metadata": {
    "jp-MarkdownHeadingCollapsed": true,
    "tags": []
   },
   "source": [
    "### 월간 활동적인 학습 일수와 최근 학습 성취도"
   ]
  },
  {
   "cell_type": "code",
   "execution_count": 8,
   "id": "3f67425d-eed2-4c43-bb9a-baad55b25a4c",
   "metadata": {
    "tags": []
   },
   "outputs": [
    {
     "name": "stdout",
     "output_type": "stream",
     "text": [
      "<class 'pandas.core.frame.DataFrame'>\n",
      "Index: 10000 entries, 3964 to 5843\n",
      "Data columns (total 4 columns):\n",
      " #   Column                        Non-Null Count  Dtype  \n",
      "---  ------                        --------------  -----  \n",
      " 0   user_id                       10000 non-null  object \n",
      " 1   monthly_active_learning_days  10000 non-null  int64  \n",
      " 2   recent_learning_achievement   10000 non-null  float64\n",
      " 3   target                        10000 non-null  int64  \n",
      "dtypes: float64(1), int64(2), object(1)\n",
      "memory usage: 390.6+ KB\n"
     ]
    }
   ],
   "source": [
    "tb = mini_data[['user_id', 'monthly_active_learning_days','recent_learning_achievement', 'target']].sort_values('recent_learning_achievement')\n",
    "tb.info()"
   ]
  },
  {
   "cell_type": "code",
   "execution_count": 9,
   "id": "70d76a18-68b7-4d86-b296-c48733c18c1c",
   "metadata": {
    "tags": []
   },
   "outputs": [
    {
     "data": {
      "text/html": [
       "<div>\n",
       "<style scoped>\n",
       "    .dataframe tbody tr th:only-of-type {\n",
       "        vertical-align: middle;\n",
       "    }\n",
       "\n",
       "    .dataframe tbody tr th {\n",
       "        vertical-align: top;\n",
       "    }\n",
       "\n",
       "    .dataframe thead th {\n",
       "        text-align: right;\n",
       "    }\n",
       "</style>\n",
       "<table border=\"1\" class=\"dataframe\">\n",
       "  <thead>\n",
       "    <tr style=\"text-align: right;\">\n",
       "      <th></th>\n",
       "      <th>user_id</th>\n",
       "      <th>monthly_active_learning_days</th>\n",
       "      <th>recent_learning_achievement</th>\n",
       "      <th>target</th>\n",
       "      <th>학습시간</th>\n",
       "    </tr>\n",
       "  </thead>\n",
       "  <tbody>\n",
       "    <tr>\n",
       "      <th>3964</th>\n",
       "      <td>fdc1e74f</td>\n",
       "      <td>6</td>\n",
       "      <td>35.941755</td>\n",
       "      <td>0</td>\n",
       "      <td>적음</td>\n",
       "    </tr>\n",
       "    <tr>\n",
       "      <th>1249</th>\n",
       "      <td>4b92f841</td>\n",
       "      <td>2</td>\n",
       "      <td>36.115562</td>\n",
       "      <td>1</td>\n",
       "      <td>적음</td>\n",
       "    </tr>\n",
       "    <tr>\n",
       "      <th>8299</th>\n",
       "      <td>9c31e1cc</td>\n",
       "      <td>5</td>\n",
       "      <td>36.830979</td>\n",
       "      <td>1</td>\n",
       "      <td>적음</td>\n",
       "    </tr>\n",
       "    <tr>\n",
       "      <th>3567</th>\n",
       "      <td>ab49acd6</td>\n",
       "      <td>5</td>\n",
       "      <td>41.752942</td>\n",
       "      <td>0</td>\n",
       "      <td>적음</td>\n",
       "    </tr>\n",
       "    <tr>\n",
       "      <th>4781</th>\n",
       "      <td>ea82462e</td>\n",
       "      <td>19</td>\n",
       "      <td>42.254863</td>\n",
       "      <td>0</td>\n",
       "      <td>많음</td>\n",
       "    </tr>\n",
       "    <tr>\n",
       "      <th>...</th>\n",
       "      <td>...</td>\n",
       "      <td>...</td>\n",
       "      <td>...</td>\n",
       "      <td>...</td>\n",
       "      <td>...</td>\n",
       "    </tr>\n",
       "    <tr>\n",
       "      <th>5390</th>\n",
       "      <td>b0c92ddf</td>\n",
       "      <td>22</td>\n",
       "      <td>107.135153</td>\n",
       "      <td>0</td>\n",
       "      <td>많음</td>\n",
       "    </tr>\n",
       "    <tr>\n",
       "      <th>7148</th>\n",
       "      <td>b723b8eb</td>\n",
       "      <td>15</td>\n",
       "      <td>108.127099</td>\n",
       "      <td>1</td>\n",
       "      <td>보통</td>\n",
       "    </tr>\n",
       "    <tr>\n",
       "      <th>8394</th>\n",
       "      <td>9299c2fe</td>\n",
       "      <td>10</td>\n",
       "      <td>109.686851</td>\n",
       "      <td>1</td>\n",
       "      <td>보통</td>\n",
       "    </tr>\n",
       "    <tr>\n",
       "      <th>2561</th>\n",
       "      <td>4747f01f</td>\n",
       "      <td>9</td>\n",
       "      <td>111.219647</td>\n",
       "      <td>1</td>\n",
       "      <td>보통</td>\n",
       "    </tr>\n",
       "    <tr>\n",
       "      <th>5843</th>\n",
       "      <td>2fe8c64d</td>\n",
       "      <td>4</td>\n",
       "      <td>112.643828</td>\n",
       "      <td>1</td>\n",
       "      <td>적음</td>\n",
       "    </tr>\n",
       "  </tbody>\n",
       "</table>\n",
       "<p>10000 rows × 5 columns</p>\n",
       "</div>"
      ],
      "text/plain": [
       "       user_id  monthly_active_learning_days  recent_learning_achievement  \\\n",
       "3964  fdc1e74f                             6                    35.941755   \n",
       "1249  4b92f841                             2                    36.115562   \n",
       "8299  9c31e1cc                             5                    36.830979   \n",
       "3567  ab49acd6                             5                    41.752942   \n",
       "4781  ea82462e                            19                    42.254863   \n",
       "...        ...                           ...                          ...   \n",
       "5390  b0c92ddf                            22                   107.135153   \n",
       "7148  b723b8eb                            15                   108.127099   \n",
       "8394  9299c2fe                            10                   109.686851   \n",
       "2561  4747f01f                             9                   111.219647   \n",
       "5843  2fe8c64d                             4                   112.643828   \n",
       "\n",
       "      target 학습시간  \n",
       "3964       0   적음  \n",
       "1249       1   적음  \n",
       "8299       1   적음  \n",
       "3567       0   적음  \n",
       "4781       0   많음  \n",
       "...      ...  ...  \n",
       "5390       0   많음  \n",
       "7148       1   보통  \n",
       "8394       1   보통  \n",
       "2561       1   보통  \n",
       "5843       1   적음  \n",
       "\n",
       "[10000 rows x 5 columns]"
      ]
     },
     "execution_count": 9,
     "metadata": {},
     "output_type": "execute_result"
    }
   ],
   "source": [
    "labels=['적음', '보통', '많음']\n",
    "tb['학습시간'] = pd.qcut(tb['monthly_active_learning_days'], 3, labels=labels)\n",
    "tb"
   ]
  },
  {
   "cell_type": "code",
   "execution_count": 10,
   "id": "b3804046-8fab-44d9-8889-1a648ab6b9a7",
   "metadata": {
    "tags": []
   },
   "outputs": [
    {
     "data": {
      "text/html": [
       "<div>\n",
       "<style scoped>\n",
       "    .dataframe tbody tr th:only-of-type {\n",
       "        vertical-align: middle;\n",
       "    }\n",
       "\n",
       "    .dataframe tbody tr th {\n",
       "        vertical-align: top;\n",
       "    }\n",
       "\n",
       "    .dataframe thead th {\n",
       "        text-align: right;\n",
       "    }\n",
       "</style>\n",
       "<table border=\"1\" class=\"dataframe\">\n",
       "  <thead>\n",
       "    <tr style=\"text-align: right;\">\n",
       "      <th></th>\n",
       "      <th>user_id</th>\n",
       "      <th>monthly_active_learning_days</th>\n",
       "      <th>recent_learning_achievement</th>\n",
       "      <th>target</th>\n",
       "      <th>학습시간</th>\n",
       "      <th>성취도</th>\n",
       "    </tr>\n",
       "  </thead>\n",
       "  <tbody>\n",
       "    <tr>\n",
       "      <th>3964</th>\n",
       "      <td>fdc1e74f</td>\n",
       "      <td>6</td>\n",
       "      <td>35.941755</td>\n",
       "      <td>0</td>\n",
       "      <td>적음</td>\n",
       "      <td>낮음</td>\n",
       "    </tr>\n",
       "    <tr>\n",
       "      <th>1249</th>\n",
       "      <td>4b92f841</td>\n",
       "      <td>2</td>\n",
       "      <td>36.115562</td>\n",
       "      <td>1</td>\n",
       "      <td>적음</td>\n",
       "      <td>낮음</td>\n",
       "    </tr>\n",
       "    <tr>\n",
       "      <th>8299</th>\n",
       "      <td>9c31e1cc</td>\n",
       "      <td>5</td>\n",
       "      <td>36.830979</td>\n",
       "      <td>1</td>\n",
       "      <td>적음</td>\n",
       "      <td>낮음</td>\n",
       "    </tr>\n",
       "    <tr>\n",
       "      <th>3567</th>\n",
       "      <td>ab49acd6</td>\n",
       "      <td>5</td>\n",
       "      <td>41.752942</td>\n",
       "      <td>0</td>\n",
       "      <td>적음</td>\n",
       "      <td>낮음</td>\n",
       "    </tr>\n",
       "    <tr>\n",
       "      <th>4781</th>\n",
       "      <td>ea82462e</td>\n",
       "      <td>19</td>\n",
       "      <td>42.254863</td>\n",
       "      <td>0</td>\n",
       "      <td>많음</td>\n",
       "      <td>낮음</td>\n",
       "    </tr>\n",
       "    <tr>\n",
       "      <th>...</th>\n",
       "      <td>...</td>\n",
       "      <td>...</td>\n",
       "      <td>...</td>\n",
       "      <td>...</td>\n",
       "      <td>...</td>\n",
       "      <td>...</td>\n",
       "    </tr>\n",
       "    <tr>\n",
       "      <th>5390</th>\n",
       "      <td>b0c92ddf</td>\n",
       "      <td>22</td>\n",
       "      <td>107.135153</td>\n",
       "      <td>0</td>\n",
       "      <td>많음</td>\n",
       "      <td>높음</td>\n",
       "    </tr>\n",
       "    <tr>\n",
       "      <th>7148</th>\n",
       "      <td>b723b8eb</td>\n",
       "      <td>15</td>\n",
       "      <td>108.127099</td>\n",
       "      <td>1</td>\n",
       "      <td>보통</td>\n",
       "      <td>높음</td>\n",
       "    </tr>\n",
       "    <tr>\n",
       "      <th>8394</th>\n",
       "      <td>9299c2fe</td>\n",
       "      <td>10</td>\n",
       "      <td>109.686851</td>\n",
       "      <td>1</td>\n",
       "      <td>보통</td>\n",
       "      <td>높음</td>\n",
       "    </tr>\n",
       "    <tr>\n",
       "      <th>2561</th>\n",
       "      <td>4747f01f</td>\n",
       "      <td>9</td>\n",
       "      <td>111.219647</td>\n",
       "      <td>1</td>\n",
       "      <td>보통</td>\n",
       "      <td>높음</td>\n",
       "    </tr>\n",
       "    <tr>\n",
       "      <th>5843</th>\n",
       "      <td>2fe8c64d</td>\n",
       "      <td>4</td>\n",
       "      <td>112.643828</td>\n",
       "      <td>1</td>\n",
       "      <td>적음</td>\n",
       "      <td>높음</td>\n",
       "    </tr>\n",
       "  </tbody>\n",
       "</table>\n",
       "<p>10000 rows × 6 columns</p>\n",
       "</div>"
      ],
      "text/plain": [
       "       user_id  monthly_active_learning_days  recent_learning_achievement  \\\n",
       "3964  fdc1e74f                             6                    35.941755   \n",
       "1249  4b92f841                             2                    36.115562   \n",
       "8299  9c31e1cc                             5                    36.830979   \n",
       "3567  ab49acd6                             5                    41.752942   \n",
       "4781  ea82462e                            19                    42.254863   \n",
       "...        ...                           ...                          ...   \n",
       "5390  b0c92ddf                            22                   107.135153   \n",
       "7148  b723b8eb                            15                   108.127099   \n",
       "8394  9299c2fe                            10                   109.686851   \n",
       "2561  4747f01f                             9                   111.219647   \n",
       "5843  2fe8c64d                             4                   112.643828   \n",
       "\n",
       "      target 학습시간 성취도  \n",
       "3964       0   적음  낮음  \n",
       "1249       1   적음  낮음  \n",
       "8299       1   적음  낮음  \n",
       "3567       0   적음  낮음  \n",
       "4781       0   많음  낮음  \n",
       "...      ...  ...  ..  \n",
       "5390       0   많음  높음  \n",
       "7148       1   보통  높음  \n",
       "8394       1   보통  높음  \n",
       "2561       1   보통  높음  \n",
       "5843       1   적음  높음  \n",
       "\n",
       "[10000 rows x 6 columns]"
      ]
     },
     "execution_count": 10,
     "metadata": {},
     "output_type": "execute_result"
    }
   ],
   "source": [
    "labels=['낮음', '보통', '높음']\n",
    "tb['성취도'] = pd.qcut(tb['recent_learning_achievement'], 3, labels=labels)\n",
    "tb"
   ]
  },
  {
   "cell_type": "code",
   "execution_count": 11,
   "id": "3bad0d1e-6450-4bd2-a15f-63fa20b675da",
   "metadata": {
    "tags": []
   },
   "outputs": [
    {
     "data": {
      "text/plain": [
       "target  성취도  학습시간\n",
       "0       낮음   적음      463\n",
       "             보통      458\n",
       "             많음      358\n",
       "        보통   적음      412\n",
       "             보통      490\n",
       "             많음      368\n",
       "        높음   적음      401\n",
       "             보통      467\n",
       "             많음      384\n",
       "1       낮음   적음      733\n",
       "             보통      723\n",
       "             많음      599\n",
       "        보통   적음      702\n",
       "             보통      738\n",
       "             많음      623\n",
       "        높음   적음      642\n",
       "             보통      819\n",
       "             많음      620\n",
       "Name: count, dtype: int64"
      ]
     },
     "execution_count": 11,
     "metadata": {},
     "output_type": "execute_result"
    }
   ],
   "source": [
    "tb.groupby(tb.target)[['성취도', '학습시간']].value_counts().sort_index()"
   ]
  },
  {
   "cell_type": "code",
   "execution_count": 12,
   "id": "d352680d-6b86-42aa-ac0f-0225752c091c",
   "metadata": {
    "tags": []
   },
   "outputs": [
    {
     "data": {
      "text/html": [
       "<div>\n",
       "<style scoped>\n",
       "    .dataframe tbody tr th:only-of-type {\n",
       "        vertical-align: middle;\n",
       "    }\n",
       "\n",
       "    .dataframe tbody tr th {\n",
       "        vertical-align: top;\n",
       "    }\n",
       "\n",
       "    .dataframe thead th {\n",
       "        text-align: right;\n",
       "    }\n",
       "</style>\n",
       "<table border=\"1\" class=\"dataframe\">\n",
       "  <thead>\n",
       "    <tr style=\"text-align: right;\">\n",
       "      <th>성취도</th>\n",
       "      <th>낮음</th>\n",
       "      <th>보통</th>\n",
       "      <th>높음</th>\n",
       "    </tr>\n",
       "    <tr>\n",
       "      <th>학습시간</th>\n",
       "      <th></th>\n",
       "      <th></th>\n",
       "      <th></th>\n",
       "    </tr>\n",
       "  </thead>\n",
       "  <tbody>\n",
       "    <tr>\n",
       "      <th>적음</th>\n",
       "      <td>463</td>\n",
       "      <td>412</td>\n",
       "      <td>401</td>\n",
       "    </tr>\n",
       "    <tr>\n",
       "      <th>보통</th>\n",
       "      <td>458</td>\n",
       "      <td>490</td>\n",
       "      <td>467</td>\n",
       "    </tr>\n",
       "    <tr>\n",
       "      <th>많음</th>\n",
       "      <td>358</td>\n",
       "      <td>368</td>\n",
       "      <td>384</td>\n",
       "    </tr>\n",
       "  </tbody>\n",
       "</table>\n",
       "</div>"
      ],
      "text/plain": [
       "성취도    낮음   보통   높음\n",
       "학습시간               \n",
       "적음    463  412  401\n",
       "보통    458  490  467\n",
       "많음    358  368  384"
      ]
     },
     "execution_count": 12,
     "metadata": {},
     "output_type": "execute_result"
    }
   ],
   "source": [
    "drops = tb[tb['target']==0]\n",
    "\n",
    "tb1 = pd.pivot_table(drops, index = '학습시간', columns = '성취도', values = 'user_id', aggfunc = 'count')\n",
    "tb1"
   ]
  },
  {
   "cell_type": "code",
   "execution_count": 78,
   "id": "eec9ce4d-c5fb-41f1-8a75-f4172a4a4483",
   "metadata": {
    "tags": []
   },
   "outputs": [
    {
     "data": {
      "image/png": "[encoded data removed]",
      "text/plain": [
       "<Figure size 2000x1000 with 1 Axes>"
      ]
     },
     "metadata": {},
     "output_type": "display_data"
    }
   ],
   "source": [
    "tb1.plot.bar(rot=0, figsize = (20,10), title = '구독 취소한 수강생의 월간 활동적 학습시간 별 최근 학습 성취도 비교')\n",
    "plt.show()"
   ]
  },
  {
   "cell_type": "code",
   "execution_count": 13,
   "id": "ff74a4ee-908b-4ddc-8670-4bcab219aa12",
   "metadata": {
    "tags": []
   },
   "outputs": [
    {
     "data": {
      "text/html": [
       "<div>\n",
       "<style scoped>\n",
       "    .dataframe tbody tr th:only-of-type {\n",
       "        vertical-align: middle;\n",
       "    }\n",
       "\n",
       "    .dataframe tbody tr th {\n",
       "        vertical-align: top;\n",
       "    }\n",
       "\n",
       "    .dataframe thead th {\n",
       "        text-align: right;\n",
       "    }\n",
       "</style>\n",
       "<table border=\"1\" class=\"dataframe\">\n",
       "  <thead>\n",
       "    <tr style=\"text-align: right;\">\n",
       "      <th>성취도</th>\n",
       "      <th>낮음</th>\n",
       "      <th>보통</th>\n",
       "      <th>높음</th>\n",
       "    </tr>\n",
       "    <tr>\n",
       "      <th>학습시간</th>\n",
       "      <th></th>\n",
       "      <th></th>\n",
       "      <th></th>\n",
       "    </tr>\n",
       "  </thead>\n",
       "  <tbody>\n",
       "    <tr>\n",
       "      <th>적음</th>\n",
       "      <td>733</td>\n",
       "      <td>702</td>\n",
       "      <td>642</td>\n",
       "    </tr>\n",
       "    <tr>\n",
       "      <th>보통</th>\n",
       "      <td>723</td>\n",
       "      <td>738</td>\n",
       "      <td>819</td>\n",
       "    </tr>\n",
       "    <tr>\n",
       "      <th>많음</th>\n",
       "      <td>599</td>\n",
       "      <td>623</td>\n",
       "      <td>620</td>\n",
       "    </tr>\n",
       "  </tbody>\n",
       "</table>\n",
       "</div>"
      ],
      "text/plain": [
       "성취도    낮음   보통   높음\n",
       "학습시간               \n",
       "적음    733  702  642\n",
       "보통    723  738  819\n",
       "많음    599  623  620"
      ]
     },
     "execution_count": 13,
     "metadata": {},
     "output_type": "execute_result"
    }
   ],
   "source": [
    "subsc = tb[tb['target']==1]\n",
    "\n",
    "tb2 = pd.pivot_table(subsc, index = '학습시간', columns = '성취도' , values = 'user_id', aggfunc = 'count')\n",
    "tb2"
   ]
  },
  {
   "cell_type": "code",
   "execution_count": 15,
   "id": "f92e7d27-bf72-49d3-8b8e-7b56f3b33a6b",
   "metadata": {
    "tags": []
   },
   "outputs": [
    {
     "data": {
      "image/png": "[encoded data removed]",
      "text/plain": [
       "<Figure size 2000x1000 with 1 Axes>"
      ]
     },
     "metadata": {},
     "output_type": "display_data"
    }
   ],
   "source": [
    "tb2.plot.bar(rot=0, figsize = (20,10),title = '구독 유지한 수강생의 월간 활동적 학습시간 별 최근 학습 성취도 비교')\n",
    "plt.show()"
   ]
  }
 ],
 "metadata": {
  "kernelspec": {
   "display_name": "Python 3 (ipykernel)",
   "language": "python",
   "name": "python3"
  },
  "language_info": {
   "codemirror_mode": {
    "name": "ipython",
    "version": 3
   },
   "file_extension": ".py",
   "mimetype": "text/x-python",
   "name": "python",
   "nbconvert_exporter": "python",
   "pygments_lexer": "ipython3",
   "version": "3.11.5"
  }
 },
 "nbformat": 4,
 "nbformat_minor": 5
}
