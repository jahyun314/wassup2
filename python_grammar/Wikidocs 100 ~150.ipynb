{
 "cells": [
  {
   "cell_type": "markdown",
   "id": "2711ab4b-7012-426f-b11f-fda4bacbafb5",
   "metadata": {},
   "source": [
    "**101**<br>\n",
    "파이썬에서 True 혹은 False를 갖는 데이터 타입은 무엇인가?"
   ]
  },
  {
   "cell_type": "code",
   "execution_count": null,
   "id": "b57da241-a8d7-4cb9-bec0-382b0b1d5ba7",
   "metadata": {},
   "outputs": [],
   "source": [
    "#boolean"
   ]
  },
  {
   "cell_type": "markdown",
   "id": "9a770d69-c193-4b80-8635-8d9b43e4ecbe",
   "metadata": {},
   "source": [
    "**102**\n",
    "아래 코드의 출력 결과를 예상하라\n",
    "```\n",
    "print(3 == 5)\n",
    "```"
   ]
  },
  {
   "cell_type": "code",
   "execution_count": null,
   "id": "17090cfc-f769-476c-ac0c-4b3f3be176eb",
   "metadata": {},
   "outputs": [],
   "source": [
    "#false"
   ]
  },
  {
   "cell_type": "markdown",
   "id": "8c9a3cb0-fe99-4352-8edf-de1e7b5c8418",
   "metadata": {},
   "source": [
    "**103**<br>\n",
    "아래 코드의 출력 결과를 예상하라\n",
    "```\n",
    "print(3 < 5)\n",
    "```"
   ]
  },
  {
   "cell_type": "code",
   "execution_count": null,
   "id": "72d08983-7e85-416a-a238-12057ca071e4",
   "metadata": {},
   "outputs": [],
   "source": []
  },
  {
   "cell_type": "markdown",
   "id": "accc311d-b28b-4c2a-82f6-ebd47b78d781",
   "metadata": {},
   "source": [
    "**104**<br>\n",
    "아래 코드의 결과를 예상하라.\n",
    "```\n",
    "x = 4\n",
    "print(1 < x < 5)\n",
    "```"
   ]
  },
  {
   "cell_type": "code",
   "execution_count": null,
   "id": "04650785-4b1b-435f-8aca-aa6f334babb2",
   "metadata": {},
   "outputs": [],
   "source": []
  },
  {
   "cell_type": "markdown",
   "id": "77bd3fdf-0e5d-4648-a278-34f748b279b4",
   "metadata": {},
   "source": [
    "**105**<br>\n",
    "아래 코드의 결과를 예상하라.\n",
    "```\n",
    "print ((3 == 3) and (4 != 3))\n",
    "```"
   ]
  },
  {
   "cell_type": "code",
   "execution_count": null,
   "id": "6ee3e3f7-12dc-4611-aa25-a6ade6855021",
   "metadata": {},
   "outputs": [],
   "source": []
  },
  {
   "cell_type": "markdown",
   "id": "46728a94-a97d-42f4-a985-bdffab1f8aae",
   "metadata": {},
   "source": [
    "**106**<br>\n",
    "아래 코드에서 에러가 발생하는 원인에 대해 설명하라.\n",
    "```\n",
    "print(3 => 4)\n",
    "```"
   ]
  },
  {
   "cell_type": "code",
   "execution_count": null,
   "id": "43241e48-7511-49b1-950b-7e760246b52c",
   "metadata": {},
   "outputs": [],
   "source": []
  },
  {
   "cell_type": "markdown",
   "id": "3e00ed8f-5766-4e4c-a81d-029d99050889",
   "metadata": {},
   "source": [
    "**107**<br>\n",
    "아래 코드의 출력 결과를 예상하라\n",
    "```\n",
    "if 4 < 3:\n",
    "    print(\"Hello World\")\n",
    "```"
   ]
  },
  {
   "cell_type": "code",
   "execution_count": null,
   "id": "91992a65-0dc7-43fd-b93a-44cfca777251",
   "metadata": {},
   "outputs": [],
   "source": []
  },
  {
   "cell_type": "markdown",
   "id": "ec423a69-d701-4d13-9e8e-3672ce86b40e",
   "metadata": {},
   "source": [
    "**108**<br>\n",
    "아래 코드의 출력 결과를 예상하라\n",
    "```\n",
    "if 4 < 3:\n",
    "    print(\"Hello World.\")\n",
    "else:\n",
    "    print(\"Hi, there.\")\n",
    "```"
   ]
  },
  {
   "cell_type": "code",
   "execution_count": null,
   "id": "1850ee0b-d2df-4a39-998c-e7185d4bd4a5",
   "metadata": {},
   "outputs": [],
   "source": []
  },
  {
   "cell_type": "markdown",
   "id": "5cf895e6-8fd6-4571-bff8-13c6a7160b5d",
   "metadata": {},
   "source": [
    "**109**<br>\n",
    "아래 코드의 출력 결과를 예상하라\n",
    "```\n",
    "if True :\n",
    "    print (\"1\")\n",
    "    print (\"2\")\n",
    "else :\n",
    "    print(\"3\")\n",
    "print(\"4\")\n",
    "```"
   ]
  },
  {
   "cell_type": "code",
   "execution_count": null,
   "id": "5c2b0e0f-111c-4bd2-a206-a08cbf77a2bc",
   "metadata": {},
   "outputs": [],
   "source": []
  },
  {
   "cell_type": "markdown",
   "id": "da6750c7-f488-42de-8a0a-6998149fd3f3",
   "metadata": {},
   "source": [
    "**110**<br>\n",
    "아래 코드의 출력 결과를 예상하라\n",
    "```\n",
    "if True :\n",
    "    if False:\n",
    "        print(\"1\")\n",
    "        print(\"2\")\n",
    "    else:\n",
    "        print(\"3\")\n",
    "else :\n",
    "    print(\"4\")\n",
    "print(\"5\")\n",
    "```"
   ]
  },
  {
   "cell_type": "code",
   "execution_count": null,
   "id": "3509b829-0278-4f33-8076-dccd35281e20",
   "metadata": {},
   "outputs": [],
   "source": []
  },
  {
   "cell_type": "markdown",
   "id": "a3d04663-4714-40a0-a93c-c82d7ef3b792",
   "metadata": {},
   "source": [
    "**111**<br>\n",
    "사용자로부터 입력받은 문자열을 두 번 출력하라. 아래는 사용자가 \"안녕하세요\"를 입력한 경우의 출력 결과이다.\n",
    "```\n",
    ">> 안녕하세요\n",
    "안녕하세요안녕하세요\n",
    "```"
   ]
  },
  {
   "cell_type": "code",
   "execution_count": null,
   "id": "921358a3-bf2d-4136-8e11-ff7aa1127a3e",
   "metadata": {},
   "outputs": [],
   "source": []
  },
  {
   "cell_type": "markdown",
   "id": "190b8c32-482e-4aa4-9f62-2dd2809187e9",
   "metadata": {},
   "source": [
    "**112**<br>\n",
    "사용자로부터 하나의 숫자를 입력받고, 입력 받은 숫자에 10을 더해 출력하라.\n",
    "```\n",
    ">> 숫자를 입력하세요: 30\n",
    "```"
   ]
  },
  {
   "cell_type": "code",
   "execution_count": null,
   "id": "40d71cfb-bd2f-4b01-936d-76d4a3cacbf5",
   "metadata": {},
   "outputs": [],
   "source": []
  },
  {
   "cell_type": "markdown",
   "id": "9238e0c8-9bd4-4f39-ab9c-8611cedc0ad9",
   "metadata": {},
   "source": [
    "**113**<br>\n",
    "사용자로부터 하나의 숫자를 입력 받고 짝수/홀수를 판별하라.\n",
    "```\n",
    ">> 30\n",
    "짝수\n",
    "```"
   ]
  },
  {
   "cell_type": "code",
   "execution_count": null,
   "id": "250fd1f3-c304-4dc6-820a-f0710e1687d1",
   "metadata": {},
   "outputs": [],
   "source": []
  },
  {
   "cell_type": "markdown",
   "id": "47975562-f6d0-4866-a4c4-ff49bdeb58c5",
   "metadata": {},
   "source": [
    "**114**<br>\n",
    "사용자로부터 값을 입력받은 후 해당 값에 20을 더한 값을 출력하라. 단 사용자가 입력한 값과 20을 더한 계산 값이 255를 초과하는 경우 255를 출력해야 한다.\n",
    "```\n",
    ">> 입력값: 200\n",
    "출력값: 220\n",
    "\n",
    ">> 입력값: 240\n",
    "출력값: 255\n",
    "```"
   ]
  },
  {
   "cell_type": "code",
   "execution_count": null,
   "id": "ea07deab-9973-4714-97b0-dee810c3aeb0",
   "metadata": {},
   "outputs": [],
   "source": []
  },
  {
   "cell_type": "markdown",
   "id": "f3b453a6-b491-46a8-af4c-830262911f04",
   "metadata": {},
   "source": [
    "**115**<br>\n",
    "사용자로부터 하나의 값을 입력받은 후 해당 값에 20을 뺀 값을 출력하라. 단 출력 값의 범위는 0~255이다. 예를 들어 결괏값이 0보다 작은 값이되는 경우 0을 출력하고 255보다 큰 값이 되는 경우 255를 출력해야 한다.\n",
    "```\n",
    ">> 입력값: 200\n",
    "출력값: 180\n",
    ">> 입력값: 15\n",
    "출력값: 0\n",
    "```"
   ]
  },
  {
   "cell_type": "code",
   "execution_count": null,
   "id": "dd41a063-022a-4782-805b-d115cd9b2b86",
   "metadata": {},
   "outputs": [],
   "source": []
  },
  {
   "cell_type": "markdown",
   "id": "b677d9c2-7dcc-4e21-8002-d610f7a236b1",
   "metadata": {},
   "source": [
    "**116**<br>\n",
    "사용자로부터 입력 받은 시간이 정각인지 판별하라.\n",
    "```\n",
    ">> 현재시간:02:00\n",
    "정각 입니다.\n",
    ">> 현재시간:03:10\n",
    "정각이 아닙니다\n",
    "```"
   ]
  },
  {
   "cell_type": "code",
   "execution_count": null,
   "id": "8cd389df-29da-4c70-bd75-315e87d1ce73",
   "metadata": {},
   "outputs": [],
   "source": []
  },
  {
   "cell_type": "markdown",
   "id": "6da259b2-7b80-48ce-8574-7937637003b6",
   "metadata": {},
   "source": [
    "**117**<br>\n",
    "사용자로 입력받은 단어가 아래 fruit 리스트에 포함되어 있는지를 확인하라. 포함되었다면 \"정답입니다\"를 아닐 경우 \"오답입니다\" 출력하라.\n",
    "```\n",
    "fruit = [\"사과\", \"포도\", \"홍시\"]\n",
    ">> 좋아하는 과일은? 사과\n",
    "정답입니다.\n",
    "```"
   ]
  },
  {
   "cell_type": "code",
   "execution_count": null,
   "id": "082339e8-5c43-4f06-925e-925ecb832a96",
   "metadata": {},
   "outputs": [],
   "source": []
  },
  {
   "cell_type": "markdown",
   "id": "9b03c76c-f5eb-4ffe-8a0c-5215a2a1455a",
   "metadata": {},
   "source": [
    "**118**<br>\n",
    "투자 경고 종목 리스트가 있을 때 사용자로부터 종목명을 입력 받은 후 해당 종목이 투자 경고 종목이라면 '투자 경고 종목입니다'를 아니면 \"투자 경고 종목이 아닙니다.\"를 출력하는 프로그램을 작성하라.\n",
    "```\n",
    "warn_investment_list = [\"Microsoft\", \"Google\", \"Naver\", \"Kakao\", \"SAMSUNG\", \"LG\"]\n",
    "```"
   ]
  },
  {
   "cell_type": "code",
   "execution_count": null,
   "id": "7d788b32-a2c0-4177-9bf4-8084d812dcaf",
   "metadata": {},
   "outputs": [],
   "source": []
  },
  {
   "cell_type": "markdown",
   "id": "89bfd97e-91c9-4741-a54b-774bccfafb21",
   "metadata": {},
   "source": [
    "**119**<br>\n",
    "아래와 같이 fruit 딕셔너리가 정의되어 있다. 사용자가 입력한 값이 딕셔너리 키 (key) 값에 포함되었다면 \"정답입니다\"를 아닐 경우 \"오답입니다\" 출력하라.\n",
    "```\n",
    "fruit = {\"봄\" : \"딸기\", \"여름\" : \"토마토\", \"가을\" : \"사과\"}\n",
    ">> 제가좋아하는계절은: 봄\n",
    "정답입니다.\n",
    "```"
   ]
  },
  {
   "cell_type": "code",
   "execution_count": null,
   "id": "c8b3d668-7bd4-4de6-8335-f2345b15c467",
   "metadata": {},
   "outputs": [],
   "source": []
  },
  {
   "cell_type": "markdown",
   "id": "da39fbf7-9032-4b18-8516-174a9af81128",
   "metadata": {},
   "source": [
    "**120**<br>\n",
    "아래와 같이 fruit 딕셔너리가 정의되어 있다. 사용자가 입력한 값이 딕셔너리 값 (value)에 포함되었다면 \"정답입니다\"를 아닐 경우 \"오답입니다\" 출력하라.\n",
    "```\n",
    "fruit = {\"봄\" : \"딸기\", \"여름\" : \"토마토\", \"가을\" : \"사과\"}\n",
    ">> 좋아하는과일은? 한라봉\n",
    "오답입니다.\n",
    "```"
   ]
  },
  {
   "cell_type": "code",
   "execution_count": null,
   "id": "a074b2ed-d39a-45b8-852e-00503ee752f6",
   "metadata": {},
   "outputs": [],
   "source": []
  },
  {
   "cell_type": "markdown",
   "id": "9108e75a-7f43-4375-97a1-65cb71658aad",
   "metadata": {},
   "source": [
    "**121**<br>\n",
    "사용자로부터 문자 한 개를 입력 받고, 소문자일 경우 대문자로, 대문자 일 경우, 소문자로 변경해서 출력하라.\n",
    "```\n",
    ">> a\n",
    "A\n",
    "힌트-1 : islower() 함수는 문자의 소문자 여부를 판별합니다. 만약 소문자일 경우 True, 대문자일 경우 False를 반환합니다. \n",
    "힌트-2 : upper() 함수는 대문자로, lower() 함수는 소문자로 변경합니다.\n",
    "```"
   ]
  },
  {
   "cell_type": "code",
   "execution_count": null,
   "id": "356fec3a-f9c8-4c63-bc8f-5f46a2a1a576",
   "metadata": {},
   "outputs": [],
   "source": []
  },
  {
   "cell_type": "markdown",
   "id": "2e7bb467-3958-4e4a-9cf7-a84faac54082",
   "metadata": {},
   "source": [
    "**122**<br>\n",
    "점수 구간에 해당하는 학점이 아래와 같이 정의되어 있다. 사용자로부터 score를 입력받아 학점을 출력하라.\n",
    "\n",
    "|점수|학점|\n",
    "|-----|------|\n",
    "|81~100|A|\n",
    "|61~80|B|\n",
    "|41~60|C|\n",
    "|21~40|D|\n",
    "|0~20|E|\n",
    "점수\t학점\n",
    "\n",
    "```\n",
    ">> score: 83\n",
    "grade is A\n",
    "```"
   ]
  },
  {
   "cell_type": "code",
   "execution_count": null,
   "id": "448bf73d-bfcf-472d-aa50-166fdc6fc159",
   "metadata": {},
   "outputs": [],
   "source": []
  },
  {
   "cell_type": "markdown",
   "id": "62aa8ad8-5dd2-4178-bfe7-a78235df39eb",
   "metadata": {},
   "source": [
    "**123**<br>\n",
    "사용자로부터 달러, 엔, 유로, 또는 위안 금액을 입력받은 후 이를 원으로 변환하는 프로그램을 작성하라. 각 통화별 환율은 다음과 같다. 사용자는 100 달러, 1000 엔, 13 유로, 100 위안과 같이 금액과 통화명 사이에 공백을 넣어 입력한다고 가정한다.\n",
    "\n",
    "|통화명|환율|\n",
    "|-----|------|\n",
    "|달러|1167|\n",
    "|엔|1.096|\n",
    "|유로|1268|\n",
    "|위안|171|\n",
    "\n",
    "```\n",
    ">> 입력: 100 달러\n",
    "116700.00 원\n",
    "```"
   ]
  },
  {
   "cell_type": "code",
   "execution_count": null,
   "id": "d46d6a4f-83ec-41d4-b0fe-1dc4a6fa63e3",
   "metadata": {},
   "outputs": [],
   "source": []
  },
  {
   "cell_type": "markdown",
   "id": "a0814128-67e7-4743-913a-eb2af880cfa6",
   "metadata": {},
   "source": [
    "**124**<br>\n",
    "사용자로부터 세 개의 숫자를 입력 받은 후 가장 큰 숫자를 출력하라.\n",
    "```\n",
    ">> input number1: 10\n",
    ">> input number2: 9\n",
    ">> input number3: 20\n",
    "20\n",
    "```"
   ]
  },
  {
   "cell_type": "code",
   "execution_count": null,
   "id": "0138bbd3-8e65-45f6-a170-fa66b2cddd2f",
   "metadata": {},
   "outputs": [],
   "source": []
  },
  {
   "cell_type": "markdown",
   "id": "4cc969d5-0df6-42ea-acb8-71daa7591657",
   "metadata": {},
   "source": [
    "**125**<br>\n",
    "휴대폰 번호 앞자리에 따라 통신사는 아래와 같이 구분된다. 사용자로부터 휴대전화 번호를 입력 받고, 통신사를 출력하는 프로그램을 작성하라.\n",
    "\n",
    "|번호|통신사|\n",
    "|-----|------|\n",
    "|011|SKT|\n",
    "|016|KT|\n",
    "|019|LGU+|\n",
    "|010|알수없음|\n",
    "\n",
    "```\n",
    ">> 휴대전화 번호 입력: 011-345-1922\n",
    "당신은 SKT 사용자입니다.\n",
    "```"
   ]
  },
  {
   "cell_type": "code",
   "execution_count": null,
   "id": "cbd59e6c-ff77-4a1c-948d-6272d6101204",
   "metadata": {},
   "outputs": [],
   "source": []
  },
  {
   "cell_type": "markdown",
   "id": "e2294ecf-0d79-4115-8e4e-c167123a5554",
   "metadata": {},
   "source": [
    "**126**<br>\n",
    "우편번호는 5자리로 구성되는데, 앞의 세자리는 구를 나타낸다. 예를들어, 강북구의 경우 010, 011, 012 세 자리로 시작한다.\n",
    "\n",
    "|0|1|2|3|4|5|6|7|8|9|\n",
    "|-----|------|------|------|------|------|------|------|------|------|\n",
    "|01|강북구|강북구|강북구|도봉구|도봉구|도봉구|노원구|노원구|노원구|\n",
    "```\n",
    ">> 우편번호: 01400\n",
    "도봉구\n",
    "\n",
    "```"
   ]
  },
  {
   "cell_type": "code",
   "execution_count": null,
   "id": "f5b498f4-9b00-46c2-b8d6-1b5a2cfcbb48",
   "metadata": {},
   "outputs": [],
   "source": []
  },
  {
   "cell_type": "markdown",
   "id": "a2aeee30-db1a-4bf6-8195-ec6ad763aa30",
   "metadata": {},
   "source": [
    "**127**<br>\n",
    "주민등록번호 뒷 자리 7자리 중 첫째 자리는 성별을 나타내는데, 1, 3은 남자 2, 4는 여자를 의미한다. 사용자로부터 13자리의 주민등록번호를 입력 받은 후 성별 (남자, 여자)를 출력하는 프로그램을 작성하라.\n",
    "```\n",
    ">> 주민등록번호: 821010-1635210\n",
    "남자\n",
    "```"
   ]
  },
  {
   "cell_type": "code",
   "execution_count": null,
   "id": "78216374-3f9e-44b1-9ed9-57ef36df6525",
   "metadata": {},
   "outputs": [],
   "source": []
  },
  {
   "cell_type": "markdown",
   "id": "db2fbdd7-7901-4286-a1f4-05895173d213",
   "metadata": {},
   "source": [
    "**128**<br>\n",
    "주민등록번호의 뒷 자리 7자리 중 두번째와 세번째는 지역코드를 의미한다. 주민 등록 번호를 입력 받은 후 출생지가 서울인지 아닌지 판단하는 코드를 작성하라\n",
    "\n",
    "|지역코드|출생지|\n",
    "|-----|------|\n",
    "|00 ~ 08|서울|\n",
    "|09 ~ 12|부산|\n",
    "```\n",
    ">> 주민등록번호: 821010-1635210\n",
    "서울이 아닙니다.\n",
    ">> 주민등록번호: 861010-1015210\n",
    "서울 입니다.\n",
    "```"
   ]
  },
  {
   "cell_type": "code",
   "execution_count": null,
   "id": "5f93242b-2f03-407f-bb92-21bc6ddf6659",
   "metadata": {},
   "outputs": [],
   "source": []
  },
  {
   "cell_type": "markdown",
   "id": "165428a9-3264-49db-a6b7-e0b56a0b91e6",
   "metadata": {},
   "source": [
    "**129**<br>\n",
    "주민등록번호는 13자리로 구성되는데 마지막 자리수는 주민등록번호의 유효성을 체크하는데 사용된다. 먼저 앞에서부터 12자리의 숫자에 2, 3, 4, 5, 6, 7, 8, 9, 2, 3, 4, 5를 차례로 곱한 뒤 그 값을 전부 더한다. 연산 결과 값을 11로 나누면 나머지가 나오는데 11에서 나머지를 뺀 값이 주민등록번호의 마지막 번호가 된다.\n",
    "```\n",
    "  8 2 1 0 1 0 - 1 6 3 5 2 1 0\n",
    "x 2 3 4 5 6 7   8 9 2 3 4 5 \n",
    "-----------------------------\n",
    "1차 계산: (8*2 + 2*3 + 1*4 + 0*5 + 1*6 + 0*7 + 1*8 + 6*9 + 3*2 + 5*3 + 2*4 + 1*5) = (128 % 11) = 7\n",
    "2차 계산: 11 -7 = 4\n",
    "```\n",
    "위와 같이 821010-1635210에 대해서 계산을 해보면 마지막 자리는 4가 되어야 함을 알 수 있다. 즉, 821010-1635210은 유효하지 않은 주민등록번호임을 알 수 있다.\n",
    "\n",
    "다음과 같이 사용자로부터 주민등록번호를 입력받은 후 주민등록번호가 유효한지를 출력하는 프로그램을 작성하라.\n",
    "```\n",
    ">> 주민등록번호: 821010-1635210\n",
    "유효하지 않은 주민등록번호입니다. \n",
    "```"
   ]
  },
  {
   "cell_type": "code",
   "execution_count": null,
   "id": "71193e6c-6c46-4d42-b9a7-f95c1414ce8b",
   "metadata": {},
   "outputs": [],
   "source": []
  },
  {
   "cell_type": "markdown",
   "id": "90570d57-eeac-4e40-828b-e25382058a26",
   "metadata": {},
   "source": [
    "**130**<br>\n",
    "아래 코드는 비트코인의 가격 정보를 딕셔너리로 가져오는 코드이다.\n",
    "```\n",
    "import requests\n",
    "btc = requests.get(\"https://api.bithumb.com/public/ticker/\").json()['data']\n",
    "```\n",
    "btc 딕셔너리 안에는 시가, 종가, 최고가, 최저가 등이 저장되어 있다. 최고가와 최저가의 차이를 변동폭으로 정의할 때 (시가 + 변동폭)이 최고가 보다 높을 경우 \"상승장\", 그렇지 않은 경우 \"하락장\" 문자열을 출력하라.\n",
    "|Key Name|Description|\n",
    "|-----|------|\n",
    "|opening_price|최근 24시간 내 시작 거래금액|\n",
    "|closing_price|최근 24시간 내 마지막 거래금액|\n",
    "|min_price|최근 24시간 내 최저 거래금액|\n",
    "|max_price|최근 24시간 내 최고 거래금액|\n"
   ]
  },
  {
   "cell_type": "code",
   "execution_count": null,
   "id": "8f91b525-c4c7-4de6-adec-1e61b572355d",
   "metadata": {},
   "outputs": [],
   "source": []
  },
  {
   "cell_type": "markdown",
   "id": "9c6114da-f7d9-450e-8874-ebbefb2fac9d",
   "metadata": {},
   "source": [
    "**131**<br>\n",
    "for문의 실행결과를 예측하라.\n",
    "```\n",
    "과일 = [\"사과\", \"귤\", \"수박\"]\n",
    "for 변수 in 과일:\n",
    "    print(변수)\n",
    "```"
   ]
  },
  {
   "cell_type": "code",
   "execution_count": null,
   "id": "70509a6c-faf3-4145-8e37-5abaf7ee6a94",
   "metadata": {},
   "outputs": [],
   "source": []
  },
  {
   "cell_type": "markdown",
   "id": "17a177fa-4ab8-45fc-9d5c-2c18ddd1465c",
   "metadata": {},
   "source": [
    "**132**<br>\n",
    "for문의 실행결과를 예측하라.\n",
    "```\n",
    "과일 = [\"사과\", \"귤\", \"수박\"]\n",
    "for 변수 in 과일:\n",
    "  print(\"#####\")\n",
    "```"
   ]
  },
  {
   "cell_type": "code",
   "execution_count": null,
   "id": "bc3f856b-8405-4c0c-a4ce-30ea00550692",
   "metadata": {},
   "outputs": [],
   "source": []
  },
  {
   "cell_type": "markdown",
   "id": "0ea0c88c-cee4-41cd-8f35-65ae58555556",
   "metadata": {},
   "source": [
    "**133**<br>\n",
    "다음 for 문과 동일한 기능을 수행하는 코드를 작성하세요.\n",
    "```\n",
    "for 변수 in [\"A\", \"B\", \"C\"]:\n",
    "  print(변수)\n",
    "```"
   ]
  },
  {
   "cell_type": "code",
   "execution_count": null,
   "id": "8013b34e-f5b0-4490-9724-d3dfdffcc2b9",
   "metadata": {},
   "outputs": [],
   "source": []
  },
  {
   "cell_type": "markdown",
   "id": "6e6b9718-1330-4d79-93da-8360e17876f8",
   "metadata": {},
   "source": [
    "**134**<br>\n",
    "for문을 풀어서 동일한 동작을하는 코드를 작성하라.\n",
    "```\n",
    "for 변수 in [\"A\", \"B\", \"C\"]:\n",
    "  print(\"출력:\", 변수)\n",
    "```"
   ]
  },
  {
   "cell_type": "code",
   "execution_count": null,
   "id": "c88123a4-9621-461f-9ac9-b3e58d5f3cd3",
   "metadata": {},
   "outputs": [],
   "source": []
  },
  {
   "cell_type": "markdown",
   "id": "51cacf15-943e-41ea-a4f3-42cd7ae0ac00",
   "metadata": {},
   "source": [
    "**135**<br>\n",
    "for문을 풀어서 동일한 동작을 하는 코드를 작성하라.\n",
    "```\n",
    "for 변수 in [\"A\", \"B\", \"C\"]:\n",
    "  b = 변수.lower()\n",
    "  print(\"변환:\", b)\n",
    "```"
   ]
  },
  {
   "cell_type": "code",
   "execution_count": null,
   "id": "fd702222-4efa-4f0f-8307-b9e7d9706268",
   "metadata": {},
   "outputs": [],
   "source": []
  },
  {
   "cell_type": "markdown",
   "id": "b766676c-aaba-42dc-8ce4-e688354e81e2",
   "metadata": {},
   "source": [
    "**136**<br>\n",
    "다음 코드를 for문으로 작성하라.\n",
    "```\n",
    "변수 = 10\n",
    "print(변수)\n",
    "변수 = 20\n",
    "print(변수)\n",
    "변수 = 30\n",
    "print(변수)\n",
    "```"
   ]
  },
  {
   "cell_type": "code",
   "execution_count": null,
   "id": "3b0d4db0-4622-476d-a6ed-9311150a3c06",
   "metadata": {},
   "outputs": [],
   "source": []
  },
  {
   "cell_type": "markdown",
   "id": "66612e3e-d358-4518-96e2-37151705438b",
   "metadata": {},
   "source": [
    "**137**<br>\n",
    "다음 코드를 for문으로 작성하라.\n",
    "```\n",
    "print(10)\n",
    "print(20)\n",
    "print(30)\n",
    "```"
   ]
  },
  {
   "cell_type": "code",
   "execution_count": null,
   "id": "da73072f-396b-4bd1-8206-22ef7e129147",
   "metadata": {},
   "outputs": [],
   "source": []
  },
  {
   "cell_type": "markdown",
   "id": "8efdb4aa-c98c-4122-9340-9338100573c4",
   "metadata": {},
   "source": [
    "**138**<br>\n",
    "다음 코드를 for문으로 작성하라.\n",
    "```\n",
    "print(10)\n",
    "print(\"-------\")\n",
    "print(20)\n",
    "print(\"-------\")\n",
    "print(30)\n",
    "print(\"-------\")\n",
    "```"
   ]
  },
  {
   "cell_type": "code",
   "execution_count": null,
   "id": "92f8ba5b-62e5-4659-86db-d1fa90791418",
   "metadata": {},
   "outputs": [],
   "source": []
  },
  {
   "cell_type": "markdown",
   "id": "c80bd4bc-3a76-41ea-b57c-efe29340b6f5",
   "metadata": {},
   "source": [
    "**139**<br>\n",
    "다음 코드를 for문으로 작성하라.\n",
    "```\n",
    "print(\"++++\")\n",
    "print(10)\n",
    "print(20)\n",
    "print(30)\n",
    "```"
   ]
  },
  {
   "cell_type": "code",
   "execution_count": null,
   "id": "89e47127-28d1-4099-9dd5-2da217330b14",
   "metadata": {},
   "outputs": [],
   "source": []
  },
  {
   "cell_type": "markdown",
   "id": "a7b129c0-e18f-48f1-80b1-6f52b13a83b7",
   "metadata": {},
   "source": [
    "**140**<br>\n",
    "다음 코드를 for문으로 작성하라.\n",
    "```\n",
    "print(\"-------\")\n",
    "print(\"-------\")\n",
    "print(\"-------\")\n",
    "print(\"-------\")\n",
    "```"
   ]
  },
  {
   "cell_type": "code",
   "execution_count": null,
   "id": "5a401d0d-28a2-4466-8545-095c17fab995",
   "metadata": {},
   "outputs": [],
   "source": []
  },
  {
   "cell_type": "markdown",
   "id": "e3f92525-79de-46c0-a1a4-44032b2e3b03",
   "metadata": {},
   "source": [
    "**141**<br>\n",
    "다음과 같이 판매가가 저장된 리스트가 있을 때 부가세가 포함된 가격을 for 문을 사용해서 화면에 출력하라. 단 부가세는 10원으로 가정한다.\n",
    "```\n",
    "리스트 = [100, 200, 300]\n",
    "\n",
    "110\n",
    "210\n",
    "310\n",
    "```"
   ]
  },
  {
   "cell_type": "code",
   "execution_count": null,
   "id": "7f545fe4-4487-41cd-936a-125662934b83",
   "metadata": {},
   "outputs": [],
   "source": []
  },
  {
   "cell_type": "markdown",
   "id": "f05977c5-4569-4bb2-a6bd-3a02868f6012",
   "metadata": {},
   "source": [
    "**142**<br>\n",
    "for 문을 사용해서 리스트에 저장된 값을 다음과 같이 출력하라.\n",
    "```\n",
    "리스트 = [\"김밥\", \"라면\", \"튀김\"]\n",
    "오늘의 메뉴: 김밥\n",
    "오늘의 메뉴: 라면\n",
    "오늘의 메뉴: 튀김\n",
    "```"
   ]
  },
  {
   "cell_type": "code",
   "execution_count": null,
   "id": "67bc0987-84d9-4edd-a6f5-611f868f18e8",
   "metadata": {},
   "outputs": [],
   "source": []
  },
  {
   "cell_type": "markdown",
   "id": "ea83b19f-7a39-44a5-88a4-87ff3170d041",
   "metadata": {},
   "source": [
    "**143**<br>\n",
    "리스트에 주식**<br> 종목이름이 저장돼 있다.\n",
    "```\n",
    "리스트 = [\"SK하이닉스\", \"삼성전자\", \"LG전자\"]\n",
    "```\n",
    "저장된 문자열의 길이를 다음과 같이 출력하라.\n",
    "```\n",
    "6\n",
    "4\n",
    "4\n",
    "```"
   ]
  },
  {
   "cell_type": "code",
   "execution_count": null,
   "id": "5320985b-854a-4441-91f0-293f482b3990",
   "metadata": {},
   "outputs": [],
   "source": []
  },
  {
   "cell_type": "markdown",
   "id": "7fa3abb5-093d-454d-93cd-e1cfbca960b5",
   "metadata": {},
   "source": [
    "**144**<br>\n",
    "리스트에는 동물이름이 문자열로 저장돼 있다.\n",
    "```\n",
    "리스트 = ['dog', 'cat', 'parrot']\n",
    "```\n",
    "동물 이름과 글자수를 다음과 같이 출력하라.\n",
    "```\n",
    "dog 3\n",
    "cat 3\n",
    "parrot 6\n",
    "```"
   ]
  },
  {
   "cell_type": "code",
   "execution_count": null,
   "id": "65ad721a-556e-44a4-8b05-e569a4e3f1a8",
   "metadata": {},
   "outputs": [],
   "source": []
  },
  {
   "cell_type": "markdown",
   "id": "a6942287-ce65-4305-8fca-fa659dee8c7e",
   "metadata": {},
   "source": [
    "**145**<br>\n",
    "리스트에 동물 이름 저장돼 있다.\n",
    "```\n",
    "리스트 = ['dog', 'cat', 'parrot']\n",
    "```\n",
    "for문을 사용해서 동물 이름의 첫 글자만 출력하라.\n",
    "```\n",
    "d\n",
    "c\n",
    "p\n",
    "```"
   ]
  },
  {
   "cell_type": "code",
   "execution_count": null,
   "id": "48471109-8e8f-486d-9089-7de873362e0e",
   "metadata": {},
   "outputs": [],
   "source": []
  },
  {
   "cell_type": "markdown",
   "id": "0904ff2d-5028-4656-9f5f-9ab93fbfc3e6",
   "metadata": {},
   "source": [
    "**146**<br>\n",
    "리스트에는 세 개의 숫자가 바인딩돼 있다.\n",
    "```\n",
    "리스트 = [1, 2, 3]\n",
    "```\n",
    "for문을 사용해서 다음과 같이 출력하라.\n",
    "```\n",
    "3 x 1\n",
    "3 x 2\n",
    "3 x 3\n",
    "```"
   ]
  },
  {
   "cell_type": "code",
   "execution_count": null,
   "id": "6e2dcdc5-769f-40c9-8166-ee687018355e",
   "metadata": {},
   "outputs": [],
   "source": []
  },
  {
   "cell_type": "markdown",
   "id": "83a10e39-4cf4-4c8a-82b2-2ceabf9ffc40",
   "metadata": {},
   "source": [
    "**147**<br>\n",
    "리스트에는 세 개의 숫자가 바인딩돼 있다.\n",
    "```\n",
    "리스트 = [1, 2, 3]\n",
    "```\n",
    "for문을 사용해서 다음과 같이 출력하라.\n",
    "```\n",
    "3 x 1 = 3\n",
    "3 x 2 = 6\n",
    "3 x 3 = 9\n",
    "```"
   ]
  },
  {
   "cell_type": "code",
   "execution_count": null,
   "id": "f55ec70d-d172-4e70-9169-1d90ec858643",
   "metadata": {},
   "outputs": [],
   "source": []
  },
  {
   "cell_type": "markdown",
   "id": "6df84eff-244d-4f5c-9a75-d6bcb58ce380",
   "metadata": {},
   "source": [
    "**148**<br>\n",
    "리스트에는 네 개의 문자열이 바인딩돼 있다.\n",
    "```\n",
    "리스트 = [\"가\", \"나\", \"다\", \"라\"]\n",
    "```\n",
    "for문을 사용해서 다음과 같이 출력하라.\n",
    "```\n",
    "나\n",
    "다\n",
    "라\n",
    "```"
   ]
  },
  {
   "cell_type": "code",
   "execution_count": null,
   "id": "872b2d9f-0728-4d62-b3a3-500fe09645c5",
   "metadata": {},
   "outputs": [],
   "source": []
  },
  {
   "cell_type": "markdown",
   "id": "ca05b3d9-3c36-4858-9dab-556a11daeae0",
   "metadata": {},
   "source": [
    "**149**<br>\n",
    "리스트에는 네 개의 문자열이 바인딩돼 있다.\n",
    "```\n",
    "리스트 = [\"가\", \"나\", \"다\", \"라\"]\n",
    "```\n",
    "for문을 사용해서 다음과 같이 출력하라.\n",
    "```\n",
    "가\n",
    "다\n",
    "```"
   ]
  },
  {
   "cell_type": "code",
   "execution_count": null,
   "id": "b0e5ab20-a79a-4c95-9d41-e8277c7ef399",
   "metadata": {},
   "outputs": [],
   "source": []
  },
  {
   "cell_type": "markdown",
   "id": "5a97e822-d9c4-4763-8103-09debafc0f46",
   "metadata": {},
   "source": [
    "**150**<br>\n",
    "리스트에는 네 개의 문자열이 바인딩돼 있다.\n",
    "```\n",
    "리스트 = [\"가\", \"나\", \"다\", \"라\"]\n",
    "```\n",
    "for문을 사용해서 다음과 같이 출력하라.\n",
    "```\n",
    "라\n",
    "다\n",
    "나\n",
    "가\n",
    "```"
   ]
  },
  {
   "cell_type": "code",
   "execution_count": null,
   "id": "3708728f-0c32-48ef-aa30-475db723acb1",
   "metadata": {},
   "outputs": [],
   "source": []
  }
 ],
 "metadata": {
  "kernelspec": {
   "display_name": "Python 3 (ipykernel)",
   "language": "python",
   "name": "python3"
  },
  "language_info": {
   "codemirror_mode": {
    "name": "ipython",
    "version": 3
   },
   "file_extension": ".py",
   "mimetype": "text/x-python",
   "name": "python",
   "nbconvert_exporter": "python",
   "pygments_lexer": "ipython3",
   "version": "3.11.5"
  }
 },
 "nbformat": 4,
 "nbformat_minor": 5
}
